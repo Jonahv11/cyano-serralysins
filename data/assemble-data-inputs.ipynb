{
 "cells": [
  {
   "cell_type": "markdown",
   "id": "516417f8-7ef5-460e-a9dd-33d5f568f074",
   "metadata": {},
   "source": [
    "# Data Inputs\n",
    "(adaped from `continuous_filtering.ipynb`)\n",
    "\n",
    "The purpose of this notebook is to assemble all of the input files needed to run our analysis of genomic islands (scripts in this directory). The following files were downloaded from the links listed to the locations indicated:\n",
    "\n",
    "1. `Data_S8-img_data_cycog6.tar.gz` from Supplementary Materials of [Blaskowski et al., 2024](https://zenodo.org/records/12210994)\n",
    "    - Downloaded to this directory (`data/`) and extracted with `tar -xzvf Data_S8-img_data_cycog6.tar.gz`\n",
    "1. `cycogs.tsv` and `cycogs-genomes.tsv` from Supplementary Materials of [Berube et al., 2018]()\n",
    "    - Downloaded to `data/cycogs`\n",
    "1. `mmc1.xlsx` and `mmc2.xlsx` from Supplementary Materials of [Hackl et al., 2023](https://doi.org/10.1016/j.cell.2022.12.006)\n",
    "    - Downloaded to `data/hackl-2023/`\n",
    "\n",
    "The outputs of this notebook are the following files:\n",
    "\n",
    "1. `genome-metadata.csv`\n",
    "    - A file of all of the _Prochlorococcus_ genomes used to make CyCOGv6, with additional information added in, including:\n",
    "        - Whether or not a genome was analyzed for predicted genomic islands by Hackl et al.\n",
    "        - The number of contigs per genome in the sequences used to make CyCOGv6 (`Data_S8-img_data_cycog6.tar.gz`)\n",
    "1. `ortholog-metadata.csv`\n",
    "    - A file of all of the genes included in CyCOGv6 that includes the following fields:\n",
    "       - `MappingName`, `CyCOGID`, `GenomeName`, `GeneID`, `GeneID`\n"
   ]
  },
  {
   "cell_type": "code",
   "execution_count": 1,
   "id": "5238fb81-0463-404b-8ca6-ed4316e30966",
   "metadata": {},
   "outputs": [],
   "source": [
    "import os\n",
    "import numpy as np\n",
    "import pandas as pd\n",
    "import csv"
   ]
  },
  {
   "cell_type": "code",
   "execution_count": null,
   "id": "af5a2d5e-5bac-4bce-8d25-a67a34b8d740",
   "metadata": {},
   "outputs": [],
   "source": []
  }
 ],
 "metadata": {
  "kernelspec": {
   "display_name": "Python 3 (ipykernel)",
   "language": "python",
   "name": "python3"
  },
  "language_info": {
   "codemirror_mode": {
    "name": "ipython",
    "version": 3
   },
   "file_extension": ".py",
   "mimetype": "text/x-python",
   "name": "python",
   "nbconvert_exporter": "python",
   "pygments_lexer": "ipython3",
   "version": "3.10.8"
  }
 },
 "nbformat": 4,
 "nbformat_minor": 5
}
