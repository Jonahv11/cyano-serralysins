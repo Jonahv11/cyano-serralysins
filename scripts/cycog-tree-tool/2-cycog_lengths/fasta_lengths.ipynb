{
 "cells": [
  {
   "cell_type": "markdown",
   "id": "c2b3228d-f1a3-4a79-8e69-85ee5efed57d",
   "metadata": {},
   "source": [
    "# Step 1: Get CyCOG Fasta File"
   ]
  },
  {
   "cell_type": "markdown",
   "id": "d0756e83-0864-4714-ad00-8f89e049dadc",
   "metadata": {},
   "source": [
    "### Import packages to be used in the notebook"
   ]
  },
  {
   "cell_type": "code",
   "execution_count": 11,
   "id": "4a0c33f7-29cb-452a-a8aa-31359275079a",
   "metadata": {},
   "outputs": [],
   "source": [
    "from Bio import SeqIO\n",
    "from matplotlib import pyplot as plt\n",
    "import os\n",
    "import numpy as np\n",
    "import csv\n",
    "from Bio import AlignIO\n",
    "from Bio.Align import MultipleSeqAlignment"
   ]
  },
  {
   "cell_type": "markdown",
   "id": "b2a1c8a3-6c5a-4c21-a82e-5508222777d1",
   "metadata": {},
   "source": [
    "These two blocks below are currently obsolete, but I am keeping them here in case it makes more sense to convert the bash script to python (for\n",
    "reproducibility or something)."
   ]
  },
  {
   "cell_type": "code",
   "execution_count": 6,
   "id": "78fb8b57-4861-4ae3-8b5e-129a16a17caf",
   "metadata": {},
   "outputs": [],
   "source": [
    "REFS = '../../../data/genomes/'\n",
    "CYCOGS = 'serralysin_cycog_references.csv'\n",
    "target_CYCOGS = ['60001830', '60001883', '60001888', '60002365']\n"
   ]
  },
  {
   "cell_type": "code",
   "execution_count": 9,
   "id": "21aa242e-0cf8-4022-bd95-a516bf6cb116",
   "metadata": {},
   "outputs": [],
   "source": [
    "for cycog in target_CYCOGS:\n",
    "    with open(CYCOGS) as cycogs_file:\n",
    "        for line in cycogs_file:\n",
    "            if cycog in line:\n",
    "                clade = line.split(',')[3].strip()\n",
    "                with open(f'data/{cycog}.txt', 'a') as output_file:\n",
    "                    output_file.write(f'{clade}\\n')\n",
    "\n",
    "# Process sequences\n",
    "genomes = set(line.split(',')[5].strip() for line in open(CYCOGS).readlines()[1:])\n",
    "sequences_file = 'data/sequences.faa'\n",
    "\n",
    "with open(sequences_file, 'a') as sequences_faa:\n",
    "    for genome in genomes:\n",
    "        genome_file = os.path.join(REFS, genome, f'{genome}.genes.faa')\n",
    "        if os.path.exists(genome_file):\n",
    "            with open(genome_file) as genes_faa:\n",
    "                sequences_faa.write(genes_faa.read())\n",
    "\n",
    "# Process CYCOGS again for genes\n",
    "for cycog in target_CYCOGS:\n",
    "    with open(f'data/{cycog}.txt') as ids_file:\n",
    "        ids = set(ids_file.read().splitlines())\n",
    "\n",
    "    with open('data/sequences.faa') as sequences_faa, open(f'data/{cycog}.genes.faa', 'a') as output_file:\n",
    "        for seq in sequences_faa.read().split('>'):\n",
    "            seq_parts = seq.split('\\n', 1)\n",
    "            if len(seq_parts) == 2 and seq_parts[0] in ids:\n",
    "                output_file.write(f'>{seq_parts[0]}\\n{seq_parts[1]}\\n')"
   ]
  },
  {
   "cell_type": "markdown",
   "id": "30a8ff4b-2a1e-462d-a1b8-626fc1b2b6fa",
   "metadata": {},
   "source": [
    "This block below runs a bash script created by Stephen to compile fasta files for each of our target cycogs from a larger directory. To change the cycogs being pulled, you can edit the script version on your computer, and change what is described in 'for cycog in 60001830 60001883 60001888 60002365'."
   ]
  },
  {
   "cell_type": "code",
   "execution_count": 10,
   "id": "a4746a3d-eb6f-475a-8d20-59f8f5491283",
   "metadata": {},
   "outputs": [
    {
     "name": "stdout",
     "output_type": "stream",
     "text": [
      "#!/bin/bash\n",
      "\n",
      "# exit when your script tries to use undeclared variables\n",
      "set -o nounset\n",
      "# exit if any pipe commands fail\n",
      "set -o pipefail\n",
      "# exit when a command fails\n",
      "set -o errexit\n",
      "# # trace what gets executed\n",
      "# set -o xtrace\n",
      "\n",
      "# data inputs\n",
      "CYCOGS=serralysin_cycog_references.csv\n",
      "REFS=../../../data/genomes/\n",
      "\n",
      "# output\n",
      "# one fasta file for each CyCOG that contains amino acit sequences of all\n",
      "# proteins in that CyCOG\n",
      "\n",
      "# 1. Separate out proteins of each CyCOG group\n",
      "# make data directory\n",
      "if [[ ! -d data/ ]]; then\n",
      "    mkdir data\n",
      "fi\n",
      "# pull out gene for each cycog group into its own file\n",
      "for cycog in 60001830 60001883 60001888 60002365; do\n",
      "    grep ${cycog} ${CYCOGS} | cut -d , -f 4 >> data/${cycog}.txt\n",
      "done\n",
      "\n",
      "# 2. Concatenate all reference sequences\n",
      "for genome in `tail -n +2 $CYCOGS | cut -d , -f 6 | sort | uniq`; do\n",
      "    cat ${REFS}/${genome}/${genome}.genes.faa >> data/sequences.faa\n",
      "done\n",
      "\n",
      "# 3. Pull out genes of each cycog group into unique fasta files\n",
      "for cycog in 60001830 60001883 60001888 60002365; do\n",
      "    printf \"Finding genes in CyCOG: ${cycog}\\n\"\n",
      "    # reads the list of ids into an array, then compares the first field\n",
      "    # of each record in the sequence files against the id list and \n",
      "    # prints out the matches\n",
      "    awk 'NR==FNR{ids[$0]; next} ($1 in ids) { printf \">\" $0 }' data/${cycog}.txt RS='>' data/sequences.faa >> data/${cycog}.genes.faa\n",
      "    # anther slower solutino that loops over the sequence file over \n",
      "    # and over for each id being searched\n",
      "    # for geneid in `cut -d , -f 4 data/${cycog}.csv`; do\n",
      "    #     printf \"\\tsearching ${geneid}...\\n\"\n",
      "    #     awk -v id=\"${geneid}\" -v RS='>' '$1 == id {print RS $0}' data/sequences.fna >> data/${cycog}.genes.fna\n",
      "    # done\n",
      "done\n",
      "\n",
      "# 4. clean up\n",
      "rm data/*.txt\n",
      "rm data/sequences.faa\n",
      "Finding genes in CyCOG: 60001830\n",
      "Finding genes in CyCOG: 60001883\n",
      "Finding genes in CyCOG: 60001888\n",
      "Finding genes in CyCOG: 60002365\n"
     ]
    }
   ],
   "source": [
    "%%sh\n",
    "cat get-cycog-genes-aa.sh \n",
    "./get-cycog-genes-aa.sh"
   ]
  },
  {
   "cell_type": "markdown",
   "id": "faff7246-ed28-44b2-9e4c-55ab9a860716",
   "metadata": {},
   "source": [
    "# Step 2: Filtering Fasta Sequences"
   ]
  },
  {
   "cell_type": "markdown",
   "id": "334989f4-76ee-4249-a6d2-07da2557fc7d",
   "metadata": {},
   "source": [
    "### Assign Variables"
   ]
  },
  {
   "cell_type": "code",
   "execution_count": 12,
   "id": "9a7db323-6b06-40b0-8735-2de8a4bc3324",
   "metadata": {},
   "outputs": [],
   "source": [
    "# this block is used to define variables to be used later\n",
    "fasta_file_path = \"data/1/CyCOG_60000359.RecA.faa\"  # Add your FASTA file path here\n",
    "# tolerance will either be a chosen number of amino acids or based on the standard deviation of sequence length\n",
    "# tolerance = (0, 0)\n",
    "tolerance = \"std\"\n"
   ]
  },
  {
   "cell_type": "markdown",
   "id": "3dbbc3ec-d009-4f6d-8637-5f14bc1f924e",
   "metadata": {},
   "source": [
    "### The block below takes a fasta inputted and displays a histogram showing the sequence length distribution within the fasta."
   ]
  },
  {
   "cell_type": "code",
   "execution_count": 13,
   "id": "084c45dd-d824-4668-8256-33bdd67772f1",
   "metadata": {},
   "outputs": [
    {
     "data": {
      "image/png": "[encoded data removed]",
      "text/plain": [
       "<Figure size 640x480 with 1 Axes>"
      ]
     },
     "metadata": {},
     "output_type": "display_data"
    }
   ],
   "source": [
    "\n",
    "# Extract the number before the first dot in the file name\n",
    "cycog_number = os.path.basename(fasta_file_path).split(\"_\")[1].split(\".\")[0]\n",
    "\n",
    "# Parse the FASTA file and get sequence lengths\n",
    "sizes = [len(rec) for rec in SeqIO.parse(fasta_file_path, \"fasta\")]\n",
    "\n",
    "# Parse the input FASTA file and calculate median and standard deviation\n",
    "sequences = []\n",
    "for seq_record in SeqIO.parse(fasta_file_path, \"fasta\"):\n",
    "    sequences.append(seq_record)\n",
    "sequence_lengths = np.array([len(seq) for seq in sequences])\n",
    "median_length = np.median(sequence_lengths)\n",
    "std_dev = np.std(sequence_lengths)\n",
    "lower_lim = sequence_lengths.min()\n",
    "upper_lim = sequence_lengths.max()\n",
    "\n",
    "\n",
    "\n",
    "# Plot histogram\n",
    "plt.hist(sizes, bins=20)\n",
    "plt.title(f\"{len(sizes)} CyCOG {cycog_number} sequences\")\n",
    "plt.xlabel(\"Sequence length (bp)\")\n",
    "plt.ylabel(\"Count\")\n",
    "plt.xlim((lower_lim,upper_lim))\n",
    "\n",
    "# Annotate median and standard deviation on the histogram\n",
    "plt.text(0.5, 0.9, f'Median Length: {median_length:.2f}\\nStandard Deviation: {std_dev:.2f}',\n",
    "           horizontalalignment='center', verticalalignment='center', transform=plt.gca().transAxes)\n",
    "\n",
    "plt.show()\n"
   ]
  },
  {
   "cell_type": "markdown",
   "id": "12749bb6-d379-46e6-8e0f-44367eacc08d",
   "metadata": {},
   "source": [
    "### The block below makes a new fasta, filtering out sequences outside of one standard deviation from the median length."
   ]
  },
  {
   "cell_type": "code",
   "execution_count": 14,
   "id": "f2d7c65b-b5d8-4a2e-bdf9-8669dffbc97f",
   "metadata": {},
   "outputs": [
    {
     "name": "stdout",
     "output_type": "stream",
     "text": [
      "Filtered fasta saved to data/2/60000359_filtered.fasta\n"
     ]
    }
   ],
   "source": [
    "# Define filter limits\n",
    "if tolerance == \"std\":\n",
    "    tol_low = std_dev\n",
    "    tol_high = std_dev\n",
    "else:\n",
    "    tol_low = tolerance[0]\n",
    "    tol_high = tolerance[1]\n",
    "\n",
    "# Define output file path based on CyCOG number\n",
    "output_fasta_path = os.path.join(\"data/2\", f\"{cycog_number}_filtered.fasta\")\n",
    "\n",
    "# Filter sequences based on one standard deviation from the median\n",
    "filtered_sequences = [seq for seq in sequences if len(seq) >= median_length - tol_low and len(seq) <= median_length + tol_high]\n",
    "\n",
    "# Write filtered sequences to the output FASTA file\n",
    "with open(output_fasta_path, \"w\") as output_file:\n",
    "    SeqIO.write(filtered_sequences, output_file, \"fasta\")\n",
    "\n",
    "\n",
    "print(f\"Filtered fasta saved to {output_fasta_path}\")"
   ]
  },
  {
   "cell_type": "markdown",
   "id": "56a2fc57-c048-4157-9f8f-d8b0e012d520",
   "metadata": {},
   "source": [
    "### The block below makes a new histogram with the new fasta and saves it."
   ]
  },
  {
   "cell_type": "code",
   "execution_count": 15,
   "id": "4e28af29-3f90-48da-8cb0-f7f71a047dbc",
   "metadata": {},
   "outputs": [
    {
     "data": {
      "image/png": "[encoded data removed]",
      "text/plain": [
       "<Figure size 640x480 with 1 Axes>"
      ]
     },
     "metadata": {},
     "output_type": "display_data"
    }
   ],
   "source": [
    "# Calculate median and standard deviation\n",
    "sequence_lengths = np.array([len(seq) for seq in filtered_sequences])\n",
    "median_length = np.median(sequence_lengths)\n",
    "std_dev = np.std(sequence_lengths)\n",
    "\n",
    "# Plot histogram\n",
    "plt.hist(sequence_lengths, bins=20)\n",
    "plt.title(f\"{len(sequence_lengths)} filtered CyCOG {cycog_number} sequences\")\n",
    "plt.xlabel(\"Sequence length (bp)\")\n",
    "plt.ylabel(\"Count\")\n",
    "# plt.xlim((lower_lim,upper_lim)) #use this line if you want to use the first plot x axis range\n",
    "\n",
    "# Annotate median and standard deviation on the histogram\n",
    "plt.text(0.5, 0.9, f'Median Length: {median_length:.2f}\\nStandard Deviation: {std_dev:.2f}',\n",
    "           horizontalalignment='center', verticalalignment='center', transform=plt.gca().transAxes)\n",
    "\n",
    "# Save the histogram output inside the \"data\" directory\n",
    "output_histogram_path = os.path.join(\"data/2\", f\"{cycog_number}_hist.png\")\n",
    "plt.savefig(output_histogram_path, bbox_inches='tight')\n",
    "\n",
    "plt.show()\n"
   ]
  },
  {
   "cell_type": "markdown",
   "id": "d55a6ec1-e39f-4575-a341-e19c0f55a6b4",
   "metadata": {},
   "source": [
    "# Step 3: Aligning CyCOG"
   ]
  },
  {
   "cell_type": "markdown",
   "id": "fab54ac2-0bef-4312-8ac2-7ebd268649e0",
   "metadata": {},
   "source": [
    "To infer the relationship of genetic sequences, you first need to align them as closely as you can, so that similar portions of their sequences line up with each other."
   ]
  },
  {
   "cell_type": "markdown",
   "id": "367f0c85-d524-4a60-b4db-bbe39e6123a2",
   "metadata": {},
   "source": [
    "Run the following commands to align CyCOGs using the [MUSCLE multiple sequence alignment software](https://drive5.com/muscle5/):\n",
    "\n",
    "1. Build the MUSCLE container (using singularity)\n",
    "    `singularity build muscle.sif docker://quay.io/biocontainers/muscle:5.1.0--h4ac6f70_0`\n",
    "1. Run MUSCLE alignment on CyCOG fasta\n",
    "    `singularity exec muscle.sif muscle -align input.fasta -output alignment.afa`\n"
   ]
  },
  {
   "cell_type": "markdown",
   "id": "24aef810-ed40-4e4f-bd26-26b09875f4e0",
   "metadata": {},
   "source": [
    "Before running the muscle alignment in grazer, you need to import the fasta into the grazer directory where the MUSCLE container is. The code from the print statement can be run in the terminal to initiate the import. The last part of the statement beginning with please@frustule is specific to my directory, if you are using grazer you can replace that with your own directory on grazer. If you are working with another remote computer environment, you may need to change this command more."
   ]
  },
  {
   "cell_type": "code",
   "execution_count": 18,
   "id": "9076e551-35d5-4ee9-832f-396d58cb0517",
   "metadata": {},
   "outputs": [
    {
     "name": "stdout",
     "output_type": "stream",
     "text": [
      "scp -v -i ~/.ssh/id_ed25519 -P 3004 60000359_filtered.fasta please@frustule.ocean.washington.edu:/scratch/please/cyano-serralysins/containers/\n"
     ]
    }
   ],
   "source": [
    "print (\"scp -v -i ~/.ssh/id_ed25519 -P 3004\" , os.path.basename(output_fasta_path) , \"please@frustule.ocean.washington.edu:/scratch/please/cyano-serralysins/\")"
   ]
  },
  {
   "cell_type": "markdown",
   "id": "f2126285-7574-4086-9010-93e78bb2814e",
   "metadata": {},
   "source": [
    "This is the code you use in Grazer, the lab's remote computer:\n",
    "\n",
    "#### singularity exec muscle.sif muscle -align 60000359_filtered.fasta -output 359.afa\n",
    "Singularity exec ____.sif uses the singularity container which has already been imported wihtin the directory. muscle -align starts a muscle alignment, then you specify the fasta to align, and the name of the output file.\n"
   ]
  },
  {
   "cell_type": "markdown",
   "id": "124246f5-8896-46b2-9bbc-73294665d35e",
   "metadata": {},
   "source": [
    "# Step 4: Trim Alignment"
   ]
  },
  {
   "cell_type": "markdown",
   "id": "4b187158-970a-4cdb-ad06-158fcba56eb4",
   "metadata": {},
   "source": [
    "### Import Packages, Assign Variables"
   ]
  },
  {
   "cell_type": "code",
   "execution_count": 6,
   "id": "06152ce8-f862-4027-b042-c5382b1c5a23",
   "metadata": {},
   "outputs": [],
   "source": [
    "from Bio import AlignIO\n",
    "from Bio.Align import MultipleSeqAlignment"
   ]
  },
  {
   "cell_type": "code",
   "execution_count": 7,
   "id": "0224b944-d6f0-46ba-96fe-33937e23480b",
   "metadata": {},
   "outputs": [],
   "source": [
    "alignment_file_path = \"data/4/Aligned_fastas/359.afa\" #filepath to aligned fasta\n",
    "alignment = AlignIO.read(alignment_file_path, \"fasta\")\n",
    "cycog_id = os.path.basename(alignment_file_path).split(\"-\")[0] #used to name file outputs\n",
    "\n"
   ]
  },
  {
   "cell_type": "code",
   "execution_count": 8,
   "id": "8f54441e-7b40-49d3-b419-806a50e91b11",
   "metadata": {},
   "outputs": [],
   "source": [
    "def slice_alignment(alignment):\n",
    "    # Get the alignment length\n",
    "    alignment_length = alignment.get_alignment_length()\n",
    "\n",
    "    # Set the threshold for % non-gap characters needed for signifigance\n",
    "    threshold = int(0.95 * len(alignment)) #integer represents proportion of non-gap characters, 0.95 is 95%\n",
    "\n",
    "    # Find the first and last columns meeting the threshold, establish empty variables to be filled\n",
    "    first_non_gap_col = None\n",
    "    last_non_gap_col = None\n",
    "    \n",
    "        #fill the variables:\n",
    "        \n",
    "    for col in range(alignment_length):\n",
    "        if sum(seq[col] != '-' for seq in alignment) >= threshold:\n",
    "            first_non_gap_col = col\n",
    "            break\n",
    "\n",
    "    for col in range(alignment_length - 1, -1, -1):\n",
    "        if sum(seq[col] != '-' for seq in alignment) >= threshold:\n",
    "            last_non_gap_col = col\n",
    "            break\n",
    "\n",
    "    # Check if both first and last columns meeting the threshold are found\n",
    "    if first_non_gap_col is not None and last_non_gap_col is not None:\n",
    "        # Slice out the gappy regions at the start and end of the alignment\n",
    "        sliced_alignment = alignment[:, first_non_gap_col:last_non_gap_col + 1]\n",
    "    else:\n",
    "        sliced_alignment = None  # Return None if no columns meeting the threshold are found\n",
    "\n",
    "    return sliced_alignment"
   ]
  },
  {
   "cell_type": "code",
   "execution_count": 8,
   "id": "0e4070da-dea2-4b06-9036-c2c5f7ec0953",
   "metadata": {},
   "outputs": [
    {
     "name": "stdout",
     "output_type": "stream",
     "text": [
      "Sliced alignment saved to ../4-trim_realign/data/359.afa_trim_algn.fasta\n"
     ]
    }
   ],
   "source": [
    "# Slice off the gappy regions at the start and end of the alignment\n",
    "sliced_alignment = slice_alignment(alignment)\n",
    "\n",
    "# Check if the sliced alignment is not None\n",
    "if sliced_alignment is not None:\n",
    "    # Save the sliced alignment to a file in the data directory\n",
    "    trim_align_path = os.path.join(\"../4-trim_realign/data\", f\"{cycog_id}_trim_algn.fasta\")\n",
    "\n",
    "\n",
    "    AlignIO.write(sliced_alignment, trim_align_path, \"fasta\")\n",
    "    print(f\"Sliced alignment saved to {trim_align_path}\")\n",
    "else:\n",
    "    print(\"No columns meeting the 95% non-gap threshold found in the alignment.\")"
   ]
  },
  {
   "cell_type": "markdown",
   "id": "3e13cc9e-6747-4fdb-a3a9-08be2d66f7c4",
   "metadata": {},
   "source": [
    "# Step 5: Treebuilding"
   ]
  },
  {
   "cell_type": "markdown",
   "id": "275b3194-08dc-4fde-b927-e202838a8706",
   "metadata": {},
   "source": [
    "This step is conducted using a treebuilding software on the command line. We currently use a RaxML container from singularity on Grazer, the remote computer associated with this lab."
   ]
  },
  {
   "cell_type": "markdown",
   "id": "ecff0bb5-9124-446a-a82d-89c103f6114b",
   "metadata": {},
   "source": [
    "The command used looks like:\n",
    "\n",
    "#### singularity exec raxml.sif raxmlHPC -s 359.afa_trim_algn.fasta -T 4 -f a -n 359-trial2 -x 32360 -# 1 -m PROTGAMMAWAG -p 29813\n",
    "\n",
    "raxmlHPC calls raxml, starting the command. Up to this point, the command is exactly the same for every tree you make. -s specifies the aligned fasta to make a tree from. -T specifies the number of parallel threads raxml uses to run, or how much processing is being used by the program. -f specifies the algorithm used by raxml, I use '-f a' because rapid bootstrapping is supposedly faster. -n names the output files. -x and -p are randomization numbers that I pick for the computer to use, you could use any 5 digits for each of these but I recommend keeping them the same between trees. -# specifies the number of runs, I picked 1 run, but in a publication-grade figure, I would choose 100 runs for statistical significance. -m chooses the model you use for the tree, I picked the one I used because it is supposedly good with amino acids.\n",
    "\n",
    "<u> Of these different specifications, the only ones you would likely need to change from tree to tree would be -s and -n, the input and output file names.\n",
    "\n",
    "Once again, before using the treebuilding container, you need to import the prepared fasta to your remote computer environment."
   ]
  },
  {
   "cell_type": "markdown",
   "id": "e7a82fce-ba17-4568-a076-4d2add8f24d4",
   "metadata": {},
   "source": [
    "# Step 6: Visualization"
   ]
  },
  {
   "cell_type": "markdown",
   "id": "7d492467-3daf-422b-9705-13b69c615e7a",
   "metadata": {},
   "source": [
    "The tree output from RaxML can be inserted directly into a software called iTOL for viewing. However, the default tree viewable from this is not intepretable by humans. This section of the notebook is intended to create annotation files for trees produced by RaxML. These annotation files are currently made manually, using help from a leaf labels script made by Stephen. I aim to combine Stephen's leaf labels script with a new script I will make. This new script will take the output of the leaf labels script and create annotation files for the tree based on the CyCOG. "
   ]
  },
  {
   "cell_type": "code",
   "execution_count": null,
   "id": "98927a38-0ba9-4251-964a-8deb6cff4ec4",
   "metadata": {},
   "outputs": [],
   "source": [
    "import os\n",
    "\n",
    "# file paths\n",
    "GENOMES = 'cycogsgenomes.tsv'\n",
    "CYCOG_LIST = 'cycogs.tsv'\n",
    "CLADE_MAP = 'updated-genome-clades.csv'\n",
    "\n",
    "# 0. Collect user inputs\n",
    "CYCOG = input(\"Enter CyCOG ID: \").strip()\n",
    "FASTA = input(\"Enter filepath of aligned fasta: \").strip()\n",
    "\n",
    "# make data directory if not exists\n",
    "if not os.path.exists('data/'):\n",
    "    os.makedirs('data/')\n",
    "\n",
    "MAP_FILE = f'data/{CYCOG}-leaf-labels.tsv'\n",
    "\n",
    "if not os.path.exists(MAP_FILE):\n",
    "    # 1. Match gene id to genome id\n",
    "    tmp_map = 'data/gene-map.tmp'\n",
    "    with open(tmp_map, 'w') as tmp_file:\n",
    "        with open(CYCOG_LIST) as cycogs_file:\n",
    "            for line in cycogs_file:\n",
    "                if CYCOG in line:\n",
    "                    cy_cog_string = line.split('\\t')[8]\n",
    "                    gene = cy_cog_string.split('_')[-1]\n",
    "                    genome_name = '_'.join(cy_cog_string.split('_')[:-1])\n",
    "                    print(f\"Gene: {gene}, Genome Name: {genome_name}\")\n",
    "                    # Look for the genome ID in the genomes file\n",
    "                    with open(GENOMES) as genomes_file:\n",
    "                        for genome_line in genomes_file:\n",
    "                            if genome_name in genome_line:\n",
    "                                genome_id = genome_line.split('\\t')[2]\n",
    "                                print(f\"Found genome_id: {genome_id}\")\n",
    "                                break\n",
    "                        else:\n",
    "                            genome_id = ''  # Set a default value if not found\n",
    "                    # Now you can proceed with checking genome_id and using it\n",
    "                    if genome_id:\n",
    "                        with open(CLADE_MAP) as clade_map_file:\n",
    "                            for clade_line in clade_map_file:\n",
    "                                if genome_id in clade_line:\n",
    "                                    clade = clade_line.split(',')[2]\n",
    "                                    print(f\"Found clade: {clade}\")\n",
    "                                    break\n",
    "                        tmp_file.write(f'{gene}\\t{genome_id}\\t{genome_name}\\t{clade}\\n')\n",
    "                    else:\n",
    "                        print(f\"No genome ID found for {genome_name}\")\n",
    "\n",
    "    # 2. Match leaf labels to gene ids\n",
    "    with open(MAP_FILE, 'w') as map_file:\n",
    "        map_file.write('leaf_id\\tgene_id\\tgenome_id\\tgenome_name\\tclade\\n')\n",
    "        with open(FASTA) as fasta_file:\n",
    "            for line in fasta_file:\n",
    "                if line.startswith('>'):\n",
    "                    leaf = line.strip().split()[0][1:]\n",
    "                    gene = leaf.split('/')[0]\n",
    "                    with open(tmp_map) as tmp_file:\n",
    "                        for tmp_line in tmp_file:\n",
    "                            if gene in tmp_line:\n",
    "                                map_file.write(f'{leaf}\\t{tmp_line.strip()}\\n')\n",
    "                                break\n",
    "\n",
    "    os.remove(tmp_map)\n",
    "else:\n",
    "    print(\"Existing file found:\", MAP_FILE)\n"
   ]
  },
  {
   "cell_type": "code",
   "execution_count": null,
   "id": "dc5956f7-1706-44e2-9f15-cdd3fbea98bf",
   "metadata": {},
   "outputs": [],
   "source": [
    "\n",
    "GENOMES = 'cycogsgenomes.tsv'\n",
    "CYCOG_LIST = 'cycogs.tsv'\n",
    "CLADE_MAP = 'updated-genome-clades.csv'\n",
    "\n",
    "CYCOG = input(\"Enter CyCOG ID: \").strip()\n",
    "MAP_FILE = f'data/{CYCOG}-leaf-labels.tsv'\n",
    "FASTA = input(\"Enter filepath of aligned fasta: \").strip()\n",
    "\n",
    "if not os.path.exists(MAP_FILE):\n",
    "    TMP_MAP = \"data/gene-map.tmp\"\n",
    "\n",
    "    with open(CYCOG_LIST) as cyco_list_file, open(GENOMES) as genomes_file, open(CLADE_MAP) as clade_map_file, open(TMP_MAP, 'a') as tmp_map_file:\n",
    "        for line in cyco_list_file:\n",
    "            if CYCOG in line:\n",
    "                cyco_string = line.split()[8]\n",
    "                if '_' in cyco_string:  # Check if '_' exists in the string\n",
    "                    gene, genome_name = cyco_string.rsplit('_', 1)\n",
    "                    genome_id = next((line.split()[2] for line in genomes_file if genome_name in line), '')\n",
    "                    clade = next((line.split(',')[2] for line in clade_map_file if genome_id in line), '')\n",
    "                    print(f\"\\n{gene}\\t{genome_id}\\t{genome_name}\\t{clade}\")\n",
    "                    tmp_map_file.write(f\"\\n{gene}\\t{genome_id}\\t{genome_name}\\t{clade}\\n\")\n",
    "\n",
    "    with open(FASTA) as fasta_file, open(TMP_MAP) as tmp_map_file, open(MAP_FILE, 'a') as map_file:\n",
    "        map_file.write(\"leaf_id\\tgene_id\\tgenome_id\\tgenome_name\\tclade\\n\")\n",
    "\n",
    "        for line in fasta_file:\n",
    "            if line.startswith('>'):\n",
    "                leaf = line.split()[0].lstrip('>')\n",
    "                gene = leaf.split('/')[0]\n",
    "                gene_map = next((tmp_line.strip() for tmp_line in tmp_map_file if gene in tmp_line), '')\n",
    "\n",
    "                print(f\"\\n{leaf}\\t{gene_map}\")\n",
    "                map_file.write(f\"\\n{leaf}\\t{gene_map}\\n\")\n",
    "\n",
    "    os.remove(TMP_MAP)\n",
    "else:\n",
    "    print(\"Existing file found:\", MAP_FILE)\n"
   ]
  },
  {
   "cell_type": "markdown",
   "id": "63ef2f7c-32b5-43d3-a1be-b98936e69e2d",
   "metadata": {},
   "source": [
    "#### This box below is used to specify whether a clade or taxa annotation file will be made. The input file used was made by Stephen's node-id-metadata script. "
   ]
  },
  {
   "cell_type": "code",
   "execution_count": 13,
   "id": "d855c697-1544-4a5d-87de-bd7ba251769f",
   "metadata": {},
   "outputs": [],
   "source": [
    "clade_lgnd = {\n",
    "    \"5.2\": \"#003D30\", \"5.3\": \"#00E5F8\", \"5.1A-CRD2\": \"#5A0A33\", \"5.1A-II\": \"#005745\", \"5.1A-III\": \"#810D49\", \"5.1A-IV\": \"#00735C\",\n",
    "    \"5.1A-UC-A-EnvC\": \"#AB0D61\", \"5.1A-unclassified\": \"#009175\", \"5.1A-WPC1\": \"#D80D7B\", \"5.1B-CRD1\": \"#00AF8E\", \"5.1B-I\": \"#FF2E95\", \n",
    "    \"5.1B-IX\": \"#00CBA7\", \"5.1B-V\": \"#FF78AD\", \"5.1B-VI\": \"#00EBC1\", \"5.1B-VIII\": \"#FFACC6\", \"HLI\": \"#86FFDE\", \"HLII\": \"#FFD7E1\",\n",
    "    \"HLII.HLVI\": \"#00306F\", \"HLIII\": \"#460B70\", \"HLIII.HLIV.HLV\": \"#00489E\", \"HLIV\": \"#6B069F\", \"HLVI\": \"#005FCC\", \"LLI\": \"#8E06CD\",\n",
    "    \"LLI.LLVIII\": \"#0079FA\", \"LLI.LLIII\": \"#B40AFC\", \"LLIV\": \"#009FFA\", \"LLVII\": \"#ED0DFD\", \"LLVIII\": \"#00C2F9\", \"Blank\": \"#FF66FD\",\n",
    "    \"\": \"#FF66FD\", \"LLII.LLIII\": \"#CDE494\", \"Unclassified\": \"#FF66FD\"\n",
    "}\n",
    "\n",
    "\n",
    "# Input file path:\n",
    "input_file = \"60002365-leaf-labels.tsv\"\n",
    "cycog_number = os.path.basename(input_file).split(\"-\")[0]\n",
    "\n",
    "# One of the lines below should be commented out:\n",
    "clade_labeling = 1 #use this line if making clade labels\n",
    "# clade_labeling = 0 #use this line if making taxa labels\n",
    "\n",
    "if clade_labeling == 1:\n",
    "    output_matches = f\"{cycog_number}-clade.tsv\"\n",
    "    template_file = \"clade_template.txt\"\n",
    "    marker = \"clades\"\n",
    "else:\n",
    "    output_matches = f\"{cycog_number}-taxa.tsv\"\n",
    "    template_file = \"taxa_template.txt\"\n",
    "    marker = \"taxa\"\n",
    "\n",
    "output_template_file = (f\"{cycog_number}-{marker}.txt\")"
   ]
  },
  {
   "cell_type": "markdown",
   "id": "ad4c912f-f1de-40d6-a2be-b7a86304a85d",
   "metadata": {},
   "source": [
    "#### This block uses the input file to make a new file with only the leaf_ID which iTOL uses to identify leaves, and the corresponding hexcode which will tag the leaf with a color."
   ]
  },
  {
   "cell_type": "code",
   "execution_count": 14,
   "id": "391e9dbd-c724-45df-ac25-55302be2f87e",
   "metadata": {},
   "outputs": [
    {
     "name": "stdout",
     "output_type": "stream",
     "text": [
      "Output clades file generated successfully.\n"
     ]
    }
   ],
   "source": [
    "with open(input_file, 'r', newline='') as infile, open(output_matches, 'w', newline='') as outfile:\n",
    "    reader = csv.DictReader(infile, delimiter='\\t')\n",
    "    writer = csv.DictWriter(outfile, fieldnames=['ID', 'LABEL'], delimiter='\\t')\n",
    "    writer.writeheader()\n",
    "\n",
    "    for row in reader:\n",
    "        leaf_id = row['leaf_id']\n",
    "        clade = row['clade']\n",
    "        if clade_labeling == 1:\n",
    "            value = clade_lgnd.get(clade, '#FF66FD')  # Use '#FF66FD' if clade not found in dictionary\n",
    "        else:\n",
    "            if clade is not None:  # Add a check for None before using string methods\n",
    "                if clade.startswith((\"L\", \"H\", \"A\")):\n",
    "                    value = \"#8D99AE\"\n",
    "                elif clade[0].isdigit():\n",
    "                    value = \"#212529\"\n",
    "                else:\n",
    "                    value = \"#CA6702\"\n",
    "            else:\n",
    "                value = \"#CA6702\"  # Handle None clade case\n",
    "        writer.writerow({'ID': leaf_id, 'LABEL': value})\n",
    "\n",
    "print(\"Output\", marker, \"file generated successfully.\")"
   ]
  },
  {
   "cell_type": "markdown",
   "id": "76241269-6f3d-4cd1-841c-fdeb1d4c4dcb",
   "metadata": {},
   "source": [
    "#### This block combines the new file with either a clade or taxa template file, specified in a previous block. The output of this block can be placed directly into iTOL to annotate the finished tree from RaxML."
   ]
  },
  {
   "cell_type": "code",
   "execution_count": 15,
   "id": "4f3bcec9-3b9e-4b1d-8886-e1dbcc57dd82",
   "metadata": {},
   "outputs": [
    {
     "name": "stdout",
     "output_type": "stream",
     "text": [
      "Combined template clades file generated successfully.\n",
      "Old output removed to clean directory.\n"
     ]
    }
   ],
   "source": [
    "\n",
    "# Read the content of the output file\n",
    "with open(output_matches, 'r') as output_f:\n",
    "    output_content = output_f.read()\n",
    "\n",
    "# Read the content of the template file and append the output content\n",
    "with open(template_file, 'r') as template_f:\n",
    "    template_content = template_f.read()\n",
    "    # Add a newline character between the template and output content\n",
    "    combined_content = template_content + \"\\n\" + output_content\n",
    "\n",
    "# Write the combined content to a new file\n",
    "with open(output_template_file, 'w') as combined_f:\n",
    "    combined_f.write(combined_content)\n",
    "\n",
    "print(\"Combined template\", marker, \"file generated successfully.\")\n",
    "os.remove(output_matches)\n",
    "print (\"Old output removed to clean directory.\") #this line of code removes the output_matches file used to produce this block's output.\n",
    "# This block can't be run again unless the former block produces an output file to be used.\n"
   ]
  },
  {
   "cell_type": "code",
   "execution_count": null,
   "id": "caa0594d-921f-40eb-a662-16771291bfcd",
   "metadata": {},
   "outputs": [],
   "source": []
  }
 ],
 "metadata": {
  "kernelspec": {
   "display_name": "Python 3 (ipykernel)",
   "language": "python",
   "name": "python3"
  },
  "language_info": {
   "codemirror_mode": {
    "name": "ipython",
    "version": 3
   },
   "file_extension": ".py",
   "mimetype": "text/x-python",
   "name": "python",
   "nbconvert_exporter": "python",
   "pygments_lexer": "ipython3",
   "version": "3.9.13"
  }
 },
 "nbformat": 4,
 "nbformat_minor": 5
}
