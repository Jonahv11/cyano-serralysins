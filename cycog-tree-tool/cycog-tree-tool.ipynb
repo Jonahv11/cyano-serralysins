{
 "cells": [
  {
   "cell_type": "code",
   "execution_count": 1,
   "id": "4a0c33f7-29cb-452a-a8aa-31359275079a",
   "metadata": {},
   "outputs": [],
   "source": [
    "from Bio import SeqIO\n",
    "from matplotlib import pyplot as plt\n",
    "import os\n",
    "import numpy as np\n",
    "import pandas as pd\n",
    "import csv\n",
    "from Bio import AlignIO\n",
    "from Bio.Align import MultipleSeqAlignment\n"
   ]
  },
  {
   "cell_type": "code",
   "execution_count": 48,
   "id": "f9e865db-1fdc-49b8-beec-401387bab85e",
   "metadata": {},
   "outputs": [],
   "source": [
    "# Pick CyCOG to process throughout notebook\n",
    "CYCOG = 60001883"
   ]
  },
  {
   "cell_type": "code",
   "execution_count": 11,
   "id": "a5f5bf39-bac5-4644-a73a-19edf9ff28e4",
   "metadata": {},
   "outputs": [],
   "source": [
    "# Create directories for data inputs and outputs\n",
    "if not os.path.exists('data'):\n",
    "    os.makedirs('data')\n",
    "if not os.path.exists('data/0'):\n",
    "    os.makedirs('data/0')\n",
    "if not os.path.exists(f'data/{CYCOG}'):\n",
    "    os.makedirs(f'data/{CYCOG}')"
   ]
  },
  {
   "cell_type": "markdown",
   "id": "6ecf836c-cd9a-44aa-9f88-a2796bd25b39",
   "metadata": {},
   "source": [
    "This notebook is designed to work through data taken from Berube et al., 2018. The fasta files are produced using data in their repository. You can access their data through the links provided below. I recommend moving the downloaded data files to the `data/0/` directory for ease of use in this notebook.\n",
    "\n",
    "[File 4 of supplemental materials](https://figshare.com/articles/dataset/File_4_CyCOG_taxa/6007166?backTo=/collections/Single_cell_genomes_of_i_Prochlorococcus_i_i_Synechococcus_i_and_sympatric_microbes_from_diverse_marine_environments/4037048) from Berube et al., 2018\n",
    "downloaded from \n",
    "\n",
    "GENOMES = data/0/cycogsgenomes.tsv\n",
    "\n",
    "file 5 of supplemental materials from Berube et al., 2018\n",
    "downloaded from https://figshare.com/articles/dataset/File_5_CyCOG_definitions/6007169?backTo=/collections/Single_cell_genomes_of_i_Prochlorococcus_i_i_Synechococcus_i_and_sympatric_microbes_from_diverse_marine_environments/4037048\n",
    "\n",
    "CYCOG_LIST = data/0/cycogs.tsv\n",
    "\n",
    "Some files used are provided as part of this repository. I suggest moving the files to the same directory as the last two files for ease of access.\n",
    "\n",
    "CLADE_MAP = data/0/updated-genome-clades.csv\n"
   ]
  },
  {
   "cell_type": "markdown",
   "id": "c2b3228d-f1a3-4a79-8e69-85ee5efed57d",
   "metadata": {},
   "source": [
    "# Step 1: Get CyCOG Fasta File\n",
    "\n",
    "Inputs: \n",
    "- References (reference genomes from Berube et al., 2018)\n",
    "- CyCOG list (list of CyCOGs from Berube et al., 2018)\n",
    "\n",
    "Output:\n",
    "- Fasta file (sequences.faa) of all proteins associated with CyCOG of interest\n",
    "\n",
    "Steps:\n",
    "1. Get list of proteins associated with CyCOG of interest\n",
    "2. Strip out protein ids"
   ]
  },
  {
   "cell_type": "code",
   "execution_count": 12,
   "id": "78fb8b57-4861-4ae3-8b5e-129a16a17caf",
   "metadata": {},
   "outputs": [],
   "source": [
    "REFS = '../data/genomes/'\n",
    "CYCOGS = 'data/0/serralysin_cycog_references.csv'\n",
    "CYCOG_LIST = 'data/0/cycogs.tsv'\n",
    "SEQ = \"faa\""
   ]
  },
  {
   "cell_type": "code",
   "execution_count": null,
   "id": "3261ab99-f371-44a8-a77b-18bb5b2cb924",
   "metadata": {},
   "outputs": [],
   "source": [
    "# dummy = pd.DataFrame(np.loadtxt(CYCOG_LIST))\n",
    "\n",
    "# dummy.to_csv(CYCOG_LIST, index=False, sep=\"\\t\")\n",
    "\n",
    "# print(pd.read_csv(CYCOG_LIST, sep=\"\\t\"))  \n",
    "\n",
    "# # a = df.values\n",
    "# # print (df.values)"
   ]
  },
  {
   "cell_type": "code",
   "execution_count": 27,
   "id": "85e5867d-de09-4b78-b50f-ca4043d14b55",
   "metadata": {},
   "outputs": [],
   "source": [
    "count = 0\n",
    "for line in open(CYCOG_LIST): # searches through rows in cycogs.tsv\n",
    "    if f'{CYCOG}' in line:\n",
    "        for idx in line:\n",
    "            if len(line.split()[count].split(sep=',')) >= 2:\n",
    "                plist = (line.split()[count].split(sep=','))\n",
    "            else:\n",
    "                count += 1\n",
    "    "
   ]
  },
  {
   "cell_type": "code",
   "execution_count": 30,
   "id": "06b6d59c-fcf5-4c6a-9b0a-a26929a5a49f",
   "metadata": {},
   "outputs": [
    {
     "name": "stdout",
     "output_type": "stream",
     "text": [
      "351\n"
     ]
    }
   ],
   "source": [
    "print (len(plist))"
   ]
  },
  {
   "cell_type": "code",
   "execution_count": 39,
   "id": "894af7dd-35c8-425a-b484-9886723fa4a4",
   "metadata": {},
   "outputs": [
    {
     "name": "stdout",
     "output_type": "stream",
     "text": [
      "2588625 protein ids found\n",
      "['AG-402-K16_2667855631', 'AG-402-J18_2667729776', 'AG-355-N18_2667863799', 'AG-315-C22_2717622882', 'MIT1306_2682169853', 'AG-676-F02_2717552890', 'MIT1327_2682245630', 'AG-412-J13_2717696194', 'MIT0801_2607818289', 'AG-670-L08_2717401396', 'MIT1418_2684606029', 'AG-670-F04_2717535126', 'AG-436-O11_2717362519', 'MIT1205_2684586447', 'MIT9201_2608225414', 'AG-670-L08_2717401545', 'AG-402-G22_2667716986', 'AG-670-F04_2717535147', 'MIT0801_2607818357', 'MIT0701_2608221423', 'AG-347-I15_2667840101', 'scB245a_520B18_2650966331', 'AG-436-J08_2717157774', 'AG-424-L22_2717717554', 'AG-432-B15_2717343927', 'AG-315-D17_2717623929', 'AG-345-P14_2717798370', 'AG-315-I14_2717573742', 'AG-436-O11_2717362520', 'AG-347-M23_2667709279', 'AG-670-M18_2717404643', 'AG-436-J08_2717156931', 'AG-315-I14_2717573258', 'MIT0601_2607037257', 'AG-402-L19_2667737205', 'AG-676-M04_2717421630', 'scB245a_518K17_2647051075', 'MIT1327_2682246801', 'AG-355-N18_2667863783', 'MIT1312_2682171178', 'AG-402-K16_2667856248', 'MIT0701_2608219146', 'MIT0703_2608215006', 'MIT1313_2682174217', 'MIT0701_2608220544', 'AG-412-I20_2717695253', 'AG-670-F04_2717534416', 'AG-463-F02_2717388246', 'MIT0703_2608215217', 'MIT1313_2682174281', 'AG-316-L16_2717627893', 'MIT1227_2684593288', 'AG-402-L19_2667736747', 'AG-412-I20_2717694677', 'AG-676-M04_2717421619', 'AG-673-A10_2717543056', 'AG-316-N23_2717629091', 'AG-402-G08_2717282309', 'MIT1327_2682245137', 'MIT1312_2682172009', 'MIT1303_2682167347', 'MIT0801_2607818446', 'AG-402-I21_2667725259', 'MIT1013_2682091812', 'AG-355-N18_2667863814', 'AG-673-A10_2717542369', 'MIT0702_2608212327', 'CC9616_2517175274', 'AG-676-M04_2717421620', 'MIT1323_2682243452', 'AG-679-B05_2717596393', 'MIT1306_2682169855', 'scB243_498P3_2636129340', 'AG-355-L21_2667787836', 'AG-436-O11_2717362018', 'AG-402-K22_2667733959', 'AG-670-A05_2717526231', 'AG-316-L16_2717627920', 'AG-316-L16_2717627958', 'AG-418-D13_2717709892', 'scB245a_521M10_2655074151', 'AG-315-D17_2717623347', 'AG-436-C14_2717353477', 'GP2_2607980062', 'AG-363-B11_2667885372', 'AG-670-L08_2717401543', 'P-SSM2_638311469', 'AG-402-K16_2667857284', 'AG-355-N18_2667863784', 'AG-323-O22_2717520401', 'MIT1327_2682246802', 'MIT0801_2607818348', 'MIT1313_2682176265', 'AG-363-P01_2667813112', 'AG-316-L16_2717627867', 'AG-424-A14_2717333823', 'AG-315-D17_2717623927', 'AG-402-F05_2717279078', 'MIT1227_2684591274', 'AG-412-I20_2717695414', 'AG-315-D17_2717623930', 'AG-402-L19_2667736919', 'AG-436-P23_2717366022', 'MIT9211_2626310834', 'AG-355-J23_2667775756', 'AG-673-F03_2717547101', 'AG-676-M04_2717421631', 'AG-363-N16_2667804839', 'AG-402-F05_2717280324', 'MIT1304_2684597211', 'AG-315-D17_2717624126', 'AG-418-P13_2717330383', 'MIT1205_2684585416', 'AG-363-B05_2667883999', 'MIT0801_2607818524', 'AG-315-D17_2717624052', 'MIT0702_2608214092', 'AG-673-F03_2717547262', 'AG-436-O11_2717361466', 'AG-402-L19_2667736920', 'AG-670-F04_2717534547', 'MIT1323_2682242791', 'AG-670-A04_2717523259', 'MIT1227_2684591269', 'MIT1304_2684597469', 'AG-315-I14_2717573227', 'MIT1318_2682176724', 'AG-402-L19_2667736921', 'AG-402-F05_2717280173', 'AG-679-B21_2717555152', 'AG-412-J13_2717697581', 'AG-315-D17_2717623569', 'AG-316-L16_2717627894', 'AG-676-A21_2717590895', 'AG-412-J13_2717697553', 'AG-402-K16_2667856798', 'AG-676-L21_2717759255', 'AG-363-M20_2667904618', 'AG-316-L16_2717627967', 'AG-388-B05_2717653695', 'AG-679-D13_2717557193', 'AG-402-G08_2717281669', 'AG-670-F04_2717535301', 'MIT0703_2608215099', 'AG-316-L16_2717627984', 'AG-670-D07_2717532015', 'AG-436-O11_2717362622', 'MIT1327_2682245377', 'AG-316-N21_2717576566', 'MIT1306_2682168703', 'MIT1013_2682091649', 'AG-412-A14_2717308215', 'scB243_498P3_2636129337', 'AG-409-D20_2717667841', 'MIT1205_2684585069', 'P-SSM5_2588439353', 'AG-436-J08_2717157036', 'MIT1318_2682176663', 'MIT1327_2682245188', 'AG-402-J18_2667729437', 'AG-679-D13_2717557319', 'MIT1418_2684604807', 'MIT1312_2682173863', 'AG-676-E04_2717145547', 'AG-363-P01_2667813165', 'MIT1318_2682176582', 'MIT1205_2684585119', 'MIT1313_2682175747', 'AG-402-J18_2667729503', 'MIT1323_2682243214', 'AG-469-F22_2717395944', 'AG-412-I20_2717695416', 'AG-315-C08_2717621618', 'AG-402-L19_2667736776', 'AG-315-I14_2717573257', 'MIT1303_2682166638', 'MIT1306_2682169854', 'AG-409-E23_2717669401', 'AG-402-B05_2717271089', 'MIT1227_2684591740', 'AG-436-J08_2717157788', 'AG-676-M04_2717422242', 'MIT9201_2608226367', 'AG-316-L21_2717628310', 'AG-345-E02_2717797987', 'AG-412-I20_2717694913', 'MIT1227_2684591743', 'MIT1227_2684592680', 'MIT1312_2682172004', 'AG-316-N23_2717628720', 'MIT0801_2607818349', 'MIT1312_2682171400', 'AG-676-M04_2717422240', 'AG-432-A07_2717721602', 'MIT1318_2682176664', 'AG-347-N23_2667711857', 'MIT1327_2682246808', 'AG-402-I21_2667725198', 'BL107_2624165431', 'AG-676-P23_2717427875', 'AG-412-I20_2717695352', 'MIT1313_2682176492', 'CC9616_2517174485', 'MIT1013_2682091742', 'AG-316-N21_2717576536', 'scB245a_521M10_2655074148', 'AG-315-D17_2717623346', 'MIT1327_2682246809', 'AG-355-P07_2667864284', 'AG-402-L23_2667741625', 'AG-409-E23_2717669403', 'PAC1_2607360002', 'MIT1327_2682245202', 'MIT0801_2607818653', 'MIT1312_2682172779', 'MIT1323_2682243215', 'MIT1312_2682171215', 'AG-402-G08_2717282197', 'MIT0703_2608215100', 'AG-402-N10_2667748772', 'AG-315-I14_2717573549', 'AG-424-L22_2717717761', 'AG-402-L19_2667736753', 'AG-469-F22_2717396854', 'MIT9302_2608233617', 'AG-402-K16_2667855630', 'AG-363-N16_2667804835', 'AG-363-P01_2667813166', 'AG-436-O09_2717360902', 'MIT1306_2682171137', 'AG-363-N16_2667804047', 'MIT1303_2682168164', 'MIT1313_2682176474', 'AG-345-F15_2717503953', 'AG-412-I20_2717695483', 'AG-409-C21_2717296891', 'AG-402-G08_2717282291', 'MIT1313_2682176473', 'MIT1318_2682177998', 'MIT1312_2682172780', 'MIT0703_2608215481', 'AG-315-D17_2717623706', 'MIT1327_2682245635', 'MIT1318_2682176583', 'AG-316-L16_2717627872', 'MIT0702_2608211439', 'AG-679-D13_2717557524', 'AG-436-J08_2717156930', 'AG-402-B19_2717660206', 'AG-670-L08_2717401546', 'MIT1304_2684597483', 'MIT0701_2608219708', 'MIT1313_2682176497', 'AG-418-F08_2717711365', 'AG-402-K22_2667733958', 'MIT1318_2682176602', 'AG-355-N18_2667863800', 'SB_2608200631', 'AG-402-N10_2667748991', 'MIT1304_2684597478', 'AG-316-N21_2717576425', 'AG-316-N21_2717576572', 'AG-316-A05_2717575775', 'MIT1418_2684605858', 'AG-363-B05_2667883979', 'MIT0702_2608212326', 'AG-436-O09_2717361090', 'MIT1318_2682178775', 'scB245a_521M10_2655074150', 'MIT1418_2684604806', 'MIT1013_2682092094', 'AG-412-I20_2717695154', 'AG-316-L16_2717627587', 'AG-355-J23_2667775757', 'MIT1318_2682176584', 'AG-409-K04_2717681989', 'AG-436-O09_2717361125', 'AG-402-B19_2717659894', 'AG-341-K05_2717147205', 'MIT0919_2682089306', 'AG-316-N21_2717576537', 'AG-469-F22_2717396419', 'MIT1318_2682176661', 'KORDI-100_2507317196', 'AG-459-E08_2717741159', 'AG-436-J08_2717157042', 'AG-418-F16_2717309912', 'AG-412-I20_2717695500', 'MIT1227_2684592239', 'AG-323-O22_2717520006', 'MIT1327_2682245140', 'AG-676-M04_2717421636', 'AG-436-O11_2717362518', 'AG-670-L08_2717400411', 'MIT1013_2682091741', 'MIT0701_2608219707', 'AG-670-F22_2717535679', 'AG-402-I20_2667721368', 'AG-412-I20_2717695521', 'MIT1312_2682172777', 'MIT1323_2682244389', 'MIT1306_2682168552', 'MIT0915_2682085461', 'MIT1327_2682245135', 'AG-355-P07_2667863866', 'AG-436-J08_2717157783', 'MIT9201_2608225413', 'MIT1227_2684591449', 'AG-316-L16_2717627959', 'AG-418-K17_2717318344', 'MIT1205_2684585221', 'AG-316-N21_2717576568', 'AG-316-L16_2717627586', 'AG-670-J21_2717399140', 'MIT1323_2682242265', 'AG-459-A02_2717381702', 'AG-676-M04_2717422567', 'MIT1313_2682174219', 'MIT1013_2682091734', 'MIT1303_2682166309', 'AG-670-D07_2717531660', 'AG-402-K16_2667857252', 'AG-402-F05_2717279224', 'AG-335-C21_2717639940', 'AG-679-B21_2717554422', 'AG-409-E23_2717669406', 'WH8103_2688545536', 'MIT1312_2682173864', 'AG-316-A05_2717575776', 'AG-388-F11_2717257858', 'MIT1227_2684592681', 'AG-436-O09_2717361217', 'AG-412-I20_2717695434', 'MIT1205_2684583976', 'MIT1303_2682166315', 'MIT1303_2682167346', 'MIT0702_2608212182', 'MIT1312_2682171584', 'MIT1327_2682245384', 'AG-316-N21_2717576533', 'AG-412-I20_2717695415', 'AG-455-E15_2717377668', 'AG-673-B08_2717544167', 'MIT1318_2682176578', 'AG-388-B05_2717654585', 'AG-402-E17_2717277179', 'AG-355-N18_2667863753', 'AG-436-J08_2717157773', 'WH8102_2607660392', 'KORDI-100_2507317845', 'MIT1327_2682245379']\n",
      "351\n"
     ]
    }
   ],
   "source": [
    "count = 0\n",
    "arbit = 0\n",
    "protein_ids = [] # empty list to store protein IDs\n",
    "for line in open(CYCOG_LIST): # searches through rows in cycogs.tsv\n",
    "    if f'{CYCOG}' in line: # if the line has the chosen cycog number in it:\n",
    "        for idx in line:\n",
    "            if len(line.split()[count].split(sep=',')) >= 2:\n",
    "                protein_list = (line.split()[count].split(sep=','))\n",
    "                for protein in protein_list: # for each object in the protein list:\n",
    "                    _, protein_id = protein.rsplit('_', 1) # split the object using the last underscore in the name, the end of the split is identified as protein_id\n",
    "                    protein_ids.append(protein_id) # add the protein_id object to the protein_ids list\n",
    "            else:\n",
    "                count += 1\n",
    "for protein in protein_list: # for each object in the protein list:\n",
    "    _, protein_id = protein.rsplit('_', 1) # split the object using the last underscore in the name, the end of the split is identified as protein_id\n",
    "    if protein_id in protein_ids:\n",
    "        arbit += 1\n",
    "    else:\n",
    "        protein_ids.append(protein_id) # add the protein_id object to the protein_ids list\n",
    "print('{} protein ids found'.format(len(protein_ids))) # print number of protein_ids added to list\n",
    "print(protein_list)\n",
    "print(arbit)\n",
    "# output_sequences = [] # empty list to store cycog sequences\n",
    "# for genome in os.listdir(REFS): # for each genome file in the genomes directory:\n",
    "#     faa_file_path = os.path.join(REFS, genome, f'{genome}.genes.{SEQ}') # name a gene file to check for\n",
    "#     if os.path.isfile(faa_file_path):  # Check if the gene file exists\n",
    "#         fasta = SeqIO.parse(faa_file_path, \"fasta\") # make a variable called 'fasta' to look through\n",
    "#         for record in fasta: # for each entry in the fasta variable\n",
    "#             if record.id in protein_ids: # if the id of the entry matches an id in the protein_ids list:\n",
    "#                 output_sequences.append(record) # add that entry to the output sequences list\n",
    "# print('{} protein records found'.format(len(output_sequences))) # print number of sequences added to list\n",
    "\n",
    "# # write output sequence\n",
    "# output_fasta = f\"data/{CYCOG}/{CYCOG}.faa\" # make an output file to store sequences\n",
    "# with open(output_fasta, \"w\") as output_file:\n",
    "#     SeqIO.write(output_sequences, output_file, \"fasta\") # write the output_sequences list into the output file\n",
    "# print('fasta file written: {}'.format(output_fasta))\n"
   ]
  },
  {
   "cell_type": "markdown",
   "id": "faff7246-ed28-44b2-9e4c-55ab9a860716",
   "metadata": {},
   "source": [
    "# Step 2: Filtering Fasta Sequences"
   ]
  },
  {
   "cell_type": "code",
   "execution_count": null,
   "id": "9a7db323-6b06-40b0-8735-2de8a4bc3324",
   "metadata": {},
   "outputs": [],
   "source": [
    "# Set tolerance. Tolerance will either be a specific number of amino acids or based on the standard deviation of sequence length\n",
    "# tolerance = (0, 0) # first value is tolerance below the median length, second value is tolerance above the median length\n",
    "tolerance = \"std\" # code is designed to filter out past 1 STD, but can be changed when the filtered fasta is being made\n"
   ]
  },
  {
   "cell_type": "code",
   "execution_count": null,
   "id": "084c45dd-d824-4668-8256-33bdd67772f1",
   "metadata": {},
   "outputs": [],
   "source": [
    "# make a histogram showing sequence length distributions within cycog fasta\n",
    "sizes = [len(rec) for rec in SeqIO.parse(f\"data/{CYCOG}/{CYCOG}.faa\", \"fasta\")] # Parse the FASTA file and get sequence lengths\n",
    "\n",
    "# Parse the input FASTA file and calculate median and standard deviation\n",
    "sequences = []\n",
    "for seq_record in SeqIO.parse(f\"data/{CYCOG}/{CYCOG}.faa\", \"fasta\"):\n",
    "    sequences.append(seq_record) # add strictly sequences to empty sequences list\n",
    "sequence_lengths = np.array([len(seq) for seq in sequences]) # make array w/ sequence lengths\n",
    "median_length = np.median(sequence_lengths)\n",
    "std_dev = np.std(sequence_lengths)\n",
    "lower_lim = sequence_lengths.min() # set limits to min and max lenghts\n",
    "upper_lim = sequence_lengths.max()\n",
    "\n",
    "# Plot histogram\n",
    "plt.hist(sizes, bins=20)\n",
    "plt.title(f\"{len(sizes)} unfiltered CyCOG {CYCOG} sequences\")\n",
    "plt.xlabel(\"Sequence length (aa)\")\n",
    "plt.ylabel(\"Count\")\n",
    "plt.xlim((lower_lim,upper_lim)) # apply limits to x-axis boundaries\n",
    "\n",
    "# Annotate median and standard deviation on the histogram\n",
    "plt.text(0.5, 0.9, f'Median Length: {median_length:.2f}\\nStandard Deviation: {std_dev:.2f}',\n",
    "           horizontalalignment='center', verticalalignment='center', transform=plt.gca().transAxes)\n",
    "\n",
    "# Save the histogram output inside the \"data\" directory\n",
    "output_histogram_path = os.path.join(f\"data/{CYCOG}/\", f\"{CYCOG}_hist_prefilter.png\")\n",
    "plt.savefig(output_histogram_path, bbox_inches='tight')\n",
    "\n",
    "plt.show()\n"
   ]
  },
  {
   "cell_type": "code",
   "execution_count": null,
   "id": "f2d7c65b-b5d8-4a2e-bdf9-8669dffbc97f",
   "metadata": {},
   "outputs": [],
   "source": [
    "# make filtered fasta using pre-established tolerance away from median sequence length\n",
    "# Define filter limits\n",
    "if tolerance == \"std\":\n",
    "    tol_low = std_dev\n",
    "    tol_high = std_dev\n",
    "else:\n",
    "    tol_low = tolerance[0]\n",
    "    tol_high = tolerance[1]\n",
    "\n",
    "# Define output file path based on CyCOG number\n",
    "output_fasta_path = os.path.join(f\"data/{CYCOG}/\", f\"{CYCOG}_filtered.fasta\")\n",
    "\n",
    "# Filter sequences based on one standard deviation or other tolerance from the median\n",
    "filtered_sequences = [seq for seq in sequences if len(seq) >= median_length - tol_low and len(seq) <= median_length + tol_high]\n",
    "\n",
    "# Write filtered sequences to the output FASTA file\n",
    "with open(output_fasta_path, \"w\") as output_file:\n",
    "    SeqIO.write(filtered_sequences, output_file, \"fasta\")\n",
    "\n",
    "\n",
    "print(f\"Filtered fasta saved to {output_fasta_path}\")"
   ]
  },
  {
   "cell_type": "code",
   "execution_count": null,
   "id": "4e28af29-3f90-48da-8cb0-f7f71a047dbc",
   "metadata": {},
   "outputs": [],
   "source": [
    "# make histogram using filtered fasta\n",
    "# Calculate median and standard deviation\n",
    "sequence_lengths = np.array([len(seq) for seq in filtered_sequences])\n",
    "median_length = np.median(sequence_lengths)\n",
    "std_dev = np.std(sequence_lengths)\n",
    "\n",
    "# Plot histogram\n",
    "plt.hist(sequence_lengths, bins=20)\n",
    "plt.title(f\"{len(sequence_lengths)} filtered CyCOG {CYCOG} sequences\")\n",
    "plt.xlabel(\"Sequence length (aa)\")\n",
    "plt.ylabel(\"Count\")\n",
    "# plt.xlim((lower_lim,upper_lim)) #use this line if you want to use the first plot x axis range\n",
    "\n",
    "# Annotate median and standard deviation on the histogram\n",
    "plt.text(0.5, 0.9, f'Median Length: {median_length:.2f}\\nStandard Deviation: {std_dev:.2f}',\n",
    "           horizontalalignment='center', verticalalignment='center', transform=plt.gca().transAxes)\n",
    "\n",
    "# Save the histogram output inside the \"data\" directory\n",
    "output_histogram_path = os.path.join(f\"data/{CYCOG}/\", f\"{CYCOG}_hist_filtered.png\")\n",
    "plt.savefig(output_histogram_path, bbox_inches='tight')\n",
    "\n",
    "plt.show()\n"
   ]
  },
  {
   "cell_type": "markdown",
   "id": "d55a6ec1-e39f-4575-a341-e19c0f55a6b4",
   "metadata": {},
   "source": [
    "# Step 3: Aligning CyCOG"
   ]
  },
  {
   "cell_type": "markdown",
   "id": "fab54ac2-0bef-4312-8ac2-7ebd268649e0",
   "metadata": {},
   "source": [
    "To infer the relationship of genetic sequences, you first need to align them as closely as you can, so that similar portions of their sequences line up with each other."
   ]
  },
  {
   "cell_type": "markdown",
   "id": "367f0c85-d524-4a60-b4db-bbe39e6123a2",
   "metadata": {},
   "source": [
    "Run the following commands to align CyCOGs using the [MUSCLE multiple sequence alignment software](https://drive5.com/muscle5/):\n",
    "\n",
    "1. Build the MUSCLE container (using singularity)\n",
    "    `singularity build muscle.sif docker://quay.io/biocontainers/muscle:5.1.0--h4ac6f70_0`\n",
    "1. Run MUSCLE alignment on CyCOG fasta\n",
    "    `singularity exec muscle.sif muscle -align input.fasta -output alignment.afa`\n"
   ]
  },
  {
   "cell_type": "markdown",
   "id": "24aef810-ed40-4e4f-bd26-26b09875f4e0",
   "metadata": {},
   "source": [
    "Before running the muscle alignment in a remote computer, you need to import the fasta into the remote directory where the MUSCLE container is. To proceed with this notebook, the output needs to be exported from the remote computer back to the computer running this notebook. For ease of use in the notebook, I recommend placing the alignment in the \"data/{CYCOG}/\" directory, but it just needs to be in a reasonable place in your computer."
   ]
  },
  {
   "cell_type": "code",
   "execution_count": null,
   "id": "09f29ecb-92b4-4806-b740-3f0dadacb36d",
   "metadata": {},
   "outputs": [],
   "source": [
    "# print statement showing a specific command to use on remote computer once filtered fasta and muscle container are in the same directory:\n",
    "print(f\"singularity exec muscle.sif muscle -align {CYCOG}_filtered.fasta -output {CYCOG}.afa\")"
   ]
  },
  {
   "cell_type": "markdown",
   "id": "124246f5-8896-46b2-9bbc-73294665d35e",
   "metadata": {},
   "source": [
    "# Step 4: Trim Alignment"
   ]
  },
  {
   "cell_type": "code",
   "execution_count": 49,
   "id": "0224b944-d6f0-46ba-96fe-33937e23480b",
   "metadata": {},
   "outputs": [],
   "source": [
    "# set alignment variable equal to biopython reading of aligned fasta -- filepath may vary\n",
    "alignment = AlignIO.read(f\"data/{CYCOG}/{CYCOG}.afa\", \"fasta\")\n"
   ]
  },
  {
   "cell_type": "code",
   "execution_count": 50,
   "id": "8f54441e-7b40-49d3-b419-806a50e91b11",
   "metadata": {},
   "outputs": [],
   "source": [
    "# define function for trimming gappy heads and tails off alignment\n",
    "def slice_alignment(alignment):\n",
    "    # Get the alignment length\n",
    "    alignment_length = alignment.get_alignment_length()\n",
    "\n",
    "    # Set the threshold for % non-gap characters needed for signifigance\n",
    "    threshold = int(0.8 * len(alignment)) #integer represents proportion of non-gap characters, 0.95 is 95%\n",
    "\n",
    "    # Find the first and last columns meeting the threshold, establish empty variables to be filled\n",
    "    first_non_gap_col = None\n",
    "    last_non_gap_col = None\n",
    "    \n",
    "    # trimming heads from start forward:\n",
    "    for col in range(alignment_length):\n",
    "        if sum(seq[col] != '-' for seq in alignment) >= threshold:\n",
    "            first_non_gap_col = col\n",
    "            break\n",
    "    #trimming tails from end backward:\n",
    "    for col in range(alignment_length - 1, -1, -1):\n",
    "        if sum(seq[col] != '-' for seq in alignment) >= threshold:\n",
    "            last_non_gap_col = col\n",
    "            break\n",
    "\n",
    "    # Check if both first and last columns meeting the threshold are found\n",
    "    if first_non_gap_col is not None and last_non_gap_col is not None:\n",
    "        # Slice out the gappy regions at the start and end of the alignment\n",
    "        sliced_alignment = alignment[:, first_non_gap_col:last_non_gap_col + 1]\n",
    "    else:\n",
    "        sliced_alignment = None  # Return None if no columns meeting the threshold are found\n",
    "\n",
    "    return sliced_alignment"
   ]
  },
  {
   "cell_type": "code",
   "execution_count": 51,
   "id": "0e4070da-dea2-4b06-9036-c2c5f7ec0953",
   "metadata": {},
   "outputs": [
    {
     "name": "stdout",
     "output_type": "stream",
     "text": [
      "Sliced alignment saved to data/60001883/60001883_prepped.fasta\n"
     ]
    }
   ],
   "source": [
    "# Slice off the gappy regions at the start and end of the alignment\n",
    "sliced_alignment = slice_alignment(alignment)\n",
    "\n",
    "# Check if the sliced alignment is not None\n",
    "if sliced_alignment is not None:\n",
    "    # Save the sliced alignment to a file in the data directory\n",
    "    trim_align_path = os.path.join(f\"data/{CYCOG}/\", f\"{CYCOG}_prepped.fasta\")\n",
    "\n",
    "\n",
    "    AlignIO.write(sliced_alignment, trim_align_path, \"fasta\")\n",
    "    print(f\"Sliced alignment saved to {trim_align_path}\")\n",
    "else:\n",
    "    print(\"No columns meeting the non-gap threshold found in the alignment.\")"
   ]
  },
  {
   "cell_type": "markdown",
   "id": "3e13cc9e-6747-4fdb-a3a9-08be2d66f7c4",
   "metadata": {},
   "source": [
    "# Step 5: Treebuilding"
   ]
  },
  {
   "cell_type": "markdown",
   "id": "275b3194-08dc-4fde-b927-e202838a8706",
   "metadata": {},
   "source": [
    "This step is conducted using a treebuilding software on the command line. We currently use a RaxML container from singularity in a remote computer."
   ]
  },
  {
   "cell_type": "markdown",
   "id": "ffe2f8e9-6367-4191-b109-663cd827a074",
   "metadata": {},
   "source": [
    "Run the following commands to build trees using the [RaxML treebuilding software](https://cme.h-its.org/exelixis/web/software/raxml/) from the Exelixis Lab:\n",
    "\n",
    "1. Build the RaxML container (using singularity)\n",
    "    `singularity build raxml.sif docker://quay.io/biocontainers/raxml:8.2.13--h031d066_1`\n",
    "1. Run RaxML on prepared fasta\n",
    "    `singularity exec raxml.sif raxmlHPC -s CYCOG_prepped.fasta -T 4 -f a -x 32360 -# 1 -m PROTGAMMAWAG -p 29813 -n CYCOG`\n",
    "\n"
   ]
  },
  {
   "cell_type": "markdown",
   "id": "ecff0bb5-9124-446a-a82d-89c103f6114b",
   "metadata": {},
   "source": [
    "Once again, the input for this command needs to be imported to your remote environment, and the output from this command should be exported back to your computer to proceed with the next step.\n",
    "\n",
    "The RaxML command is more complicated than the muscle alignment command. There are more specifications than just the input and the output necessary for RaxML to run. Below is a simplistic explanation of the parameters I typically use.\n",
    "\n",
    "raxmlHPC calls raxml, starting the command. We then use the following options:\n",
    "- `-s`: specifies the aligned fasta (with filepath) to make a tree from.\n",
    "- `-T`: specifies the number of parallel threads raxml uses to run, or how much processing is being used by the program.\n",
    "- `-f`: specifies the algorithm used by raxml, I use '-f a' because rapid bootstrapping is supposedly faster. \n",
    "- `-x` and `-p`: randomization numbers I pick for the computer to use, any 5 digits work but I recommend keeping them the same between trees. \n",
    "- `-#`: specifies the number of runs, I picked 1 run for this example but ~100 runs is better for a publication-quality tree. \n",
    "- `-m`: chooses the model you use for the tree, I picked PROTGAMMAWAG because it is supposedly good with amino acids. \n",
    "- `-n`: names the output files. \n",
    "\n",
    "<u> Of these different specifications, the only ones you would likely need to change frequently from tree to tree would be -s and -n, the input and output file names. The -# parameter could also vary for the purpose of testing the workflow vs generating a publication-quality tree, which takes a lot of computing power. In a publication-grade figure, I would choose 100 runs for statistical significance."
   ]
  },
  {
   "cell_type": "code",
   "execution_count": 47,
   "id": "5493dc42-4b06-4860-b590-ba57d376a6d3",
   "metadata": {},
   "outputs": [
    {
     "name": "stdout",
     "output_type": "stream",
     "text": [
      "singularity exec raxml.sif raxmlHPC -s 60001888_prepped.fasta -T 4 -f a -x 32360 -# 1 -m PROTGAMMAWAG -p 29813 -n 60001888\n"
     ]
    }
   ],
   "source": [
    "# print statement showing specific command if aligned fasta and raxml container in same directory:\n",
    "print(f\"singularity exec raxml.sif raxmlHPC -s {CYCOG}_prepped.fasta -T 4 -f a -x 32360 -# 1 -m PROTGAMMAWAG -p 29813 -n {CYCOG}\")"
   ]
  },
  {
   "cell_type": "markdown",
   "id": "e7a82fce-ba17-4568-a076-4d2add8f24d4",
   "metadata": {},
   "source": [
    "# Step 6: Visualization"
   ]
  },
  {
   "cell_type": "markdown",
   "id": "7d492467-3daf-422b-9705-13b69c615e7a",
   "metadata": {},
   "source": [
    "This section constructs the annotation files for labelling trees in iTOL. It creates a mapping file that maps the identity of each protein included in the tree to its genome of origin, and then to the taxonomic clade that genome belongs to. It uses files imported from Berube et al., 2018, and some files included in our directory to make annotations for the tree you just produced.\n",
    "\n",
    "protein_id -> genome_name -> genome_id -> clade\n",
    "\n",
    "1. protein_id's of all proteins included in the CyCOG of interest can be found in `cycogs.tsv`\n",
    "2. genome names are included in the protein_id found in `cycogs.tsv`\n",
    "3. genome_name to genome_id mappings can be pulled from `cycogsgenomes.tsv`\n",
    "4. genome_id to clade mappings can be pulled from `updated-genome-clades.csv`\n",
    "\n",
    "These files have all been assigned to variables at the top of the notebook."
   ]
  },
  {
   "cell_type": "code",
   "execution_count": null,
   "id": "99c9b566-5dde-4eec-b310-10609dfb3eda",
   "metadata": {},
   "outputs": [],
   "source": [
    "# 1 & 2: extract protein IDs and associated genome names for all proteins in the CyCOG\n",
    "with open(CYCOG_LIST, 'r') as cycog_list_file:\n",
    "    for line in cycog_list_file: # looking at each line in the cycogs.tsv file\n",
    "        if f'{CYCOG}' in line: # if the line has the cycog number in it:\n",
    "            protein_list = line.split()[9].split(sep=',') # make a protein list using the 9th column of the cycogs.tsv file, separating everything between commas\n",
    "label_df = pd.DataFrame(protein_list, columns=['protein_id']) # make a dataframe with a protein_id column\n",
    "# check out rsplit documentation: https://pandas.pydata.org/pandas-docs/stable/reference/api/pandas.Series.str.rsplit.html#pandas.Series.str.rsplit\n",
    "label_df[['genome_name', 'gene_id']] = label_df['protein_id'].str.rsplit(pat='_', n=1, expand=True) # add new columns to the dataframe, the two components of\n",
    "# protein_id separated using the underscore\n",
    "\n",
    "# 3: join genome id on genome name\n",
    "genomes_df = pd.read_csv(GENOMES, sep='\\t') # reading in a new dataframe with genome data\n",
    "label_df = pd.merge(label_df, genomes_df, left_on='genome_name', right_on='IID', how='left') # merging the two dataframes based on the genome_name in the\n",
    "# label_df and the IID in the genomes_df, which should match\n",
    "\n",
    "# 4: join clade on genome id\n",
    "clade_df = pd.read_csv(CLADE_MAP) # read in new dataframe with genome IDs and clade information\n",
    "label_df = pd.merge(label_df, clade_df, left_on='IMG_ID', right_on='IMGGenomeID', how='left') # merge dataframes matching IMG_ID with IMGGENOMEID\n",
    "\n",
    "label_df\n"
   ]
  },
  {
   "cell_type": "code",
   "execution_count": null,
   "id": "337d44f6-8e8c-4d4e-a86a-d838e006427d",
   "metadata": {},
   "outputs": [],
   "source": [
    "# create the mapping file\n",
    "\n",
    "# pull out the mapping fields\n",
    "mapping_df = label_df[['gene_id', 'IMG_ID', 'genome_name', 'Clade']].rename(columns={'IMG_ID': 'genome_id', 'Clade': 'clade'})\n",
    "mapping_df['leaf_id'] = mapping_df['gene_id']\n",
    "mapping_df = mapping_df[['leaf_id', 'gene_id', 'genome_id', 'genome_name', 'clade']]\n",
    "\n",
    "mapping_df\n"
   ]
  },
  {
   "cell_type": "code",
   "execution_count": null,
   "id": "d855c697-1544-4a5d-87de-bd7ba251769f",
   "metadata": {},
   "outputs": [],
   "source": [
    "# establish legend colors to be used in tree annotations, specify creation of clade or taxa annotation\n",
    "clade_lgnd = {\n",
    "    \"5.2\": \"#003D30\", \"5.3\": \"#00E5F8\", \"5.1A-CRD2\": \"#5A0A33\", \"5.1A-II\": \"#005745\", \"5.1A-III\": \"#810D49\", \"5.1A-IV\": \"#00735C\",\n",
    "    \"5.1A-UC-A-EnvC\": \"#AB0D61\", \"5.1A-unclassified\": \"#009175\", \"5.1A-WPC1\": \"#D80D7B\", \"5.1B-CRD1\": \"#00AF8E\", \"5.1B-I\": \"#FF2E95\", \n",
    "    \"5.1B-IX\": \"#00CBA7\", \"5.1B-V\": \"#FF78AD\", \"5.1B-VI\": \"#00EBC1\", \"5.1B-VIII\": \"#FFACC6\", \"HLI\": \"#86FFDE\", \"HLII\": \"#FFD7E1\",\n",
    "    \"HLII.HLVI\": \"#00306F\", \"HLIII\": \"#460B70\", \"HLIII.HLIV.HLV\": \"#00489E\", \"HLIV\": \"#6B069F\", \"HLVI\": \"#005FCC\", \"LLI\": \"#8E06CD\",\n",
    "    \"LLI.LLVIII\": \"#0079FA\", \"LLI.LLIII\": \"#B40AFC\", \"LLIV\": \"#009FFA\", \"LLVII\": \"#ED0DFD\", \"LLVIII\": \"#00C2F9\", \"Blank\": \"#FF66FD\",\n",
    "    \"\": \"#FF66FD\", \"LLII.LLIII\": \"#CDE494\", \"Unclassified\": \"#FF66FD\"\n",
    "}\n",
    "\n",
    "# One of the lines below should be commented out:\n",
    "clade_labeling = 1 #use this line if making clade labels\n",
    "# clade_labeling = 0 #use this line if making taxa labels\n",
    "\n",
    "if clade_labeling == 1:\n",
    "    output_matches = f\"{CYCOG}-clade.tsv\"\n",
    "    template_file = \"clade_template.txt\"\n",
    "    marker = \"clades\"\n",
    "else:\n",
    "    output_matches = f\"{CYCOG}-taxa.tsv\"\n",
    "    template_file = \"taxa_template.txt\"\n",
    "    marker = \"taxa\"\n",
    "\n",
    "output_template_file = os.path.join(f'data/{CYCOG}/', f\"{CYCOG}-{marker}.txt\")\n"
   ]
  },
  {
   "cell_type": "markdown",
   "id": "ad4c912f-f1de-40d6-a2be-b7a86304a85d",
   "metadata": {},
   "source": [
    "#### This block uses the input file to make a new file with only the leaf_ID which iTOL uses to identify leaves, and the corresponding hexcode which will tag the leaf with a color."
   ]
  },
  {
   "cell_type": "code",
   "execution_count": null,
   "id": "bb7cba9c-71fd-422e-a214-86f7c2086fcd",
   "metadata": {},
   "outputs": [],
   "source": [
    "for index, row in mapping_df.iterrows():\n",
    "    leaf_id = row['leaf_id']\n",
    "    clade = row['clade']\n",
    "    if clade_labeling == 1:\n",
    "        value = clade_lgnd.get(clade, '#FF66FD')  # Use '#FF66FD' if clade not found in dictionary\n",
    "    else:\n",
    "        if clade is not None:  # Add a check for None before using string methods\n",
    "            if clade.startswith((\"L\", \"H\", \"A\")):\n",
    "                value = \"#8D99AE\"\n",
    "            elif clade[0].isdigit():\n",
    "                value = \"#212529\"\n",
    "            else:\n",
    "                value = \"#CA6702\"\n",
    "        else:\n",
    "            value = \"#CA6702\"  # Handle None clade case\n",
    "\n",
    "    with open(output_matches, 'a', newline='') as outfile:  # Use 'a' mode for appending rows\n",
    "        writer = csv.DictWriter(outfile, fieldnames=['ID', 'LABEL'], delimiter='\\t')\n",
    "        if outfile.tell() == 0:  # Check if file is empty to write header only once\n",
    "            writer.writeheader()\n",
    "        writer.writerow({'ID': leaf_id, 'LABEL': value})\n",
    "\n",
    "print(output_matches, \"generated successfully.\")"
   ]
  },
  {
   "cell_type": "markdown",
   "id": "76241269-6f3d-4cd1-841c-fdeb1d4c4dcb",
   "metadata": {},
   "source": [
    "#### This block combines the new file with either a clade or taxa template file, specified in a previous block. The output of this block can be placed directly into iTOL to annotate the finished tree from RaxML."
   ]
  },
  {
   "cell_type": "code",
   "execution_count": null,
   "id": "4f3bcec9-3b9e-4b1d-8886-e1dbcc57dd82",
   "metadata": {},
   "outputs": [],
   "source": [
    "\n",
    "# Read the content of the output file\n",
    "with open(output_matches, 'r') as output_f:\n",
    "    output_content = output_f.read()\n",
    "\n",
    "# Read the content of the template file and append the output content\n",
    "with open(template_file, 'r') as template_f:\n",
    "    template_content = template_f.read()\n",
    "    # Add a newline character between the template and output content\n",
    "    combined_content = template_content + \"\\n\" + output_content\n",
    "\n",
    "# Write the combined content to a new file\n",
    "with open(output_template_file, 'w') as combined_f:\n",
    "    combined_f.write(combined_content)\n",
    "\n",
    "\n",
    "print(CYCOG, marker, \"annotation file generated successfully:\", output_template_file)\n",
    "os.remove(output_matches)\n",
    "print (\"Old output removed to clean directory. To run this block again generate a new output_matches file.\") \n",
    "# output_matches file used to produce this block's output is removed for directory cleaning.\n",
    "\n"
   ]
  },
  {
   "cell_type": "code",
   "execution_count": null,
   "id": "caa0594d-921f-40eb-a662-16771291bfcd",
   "metadata": {},
   "outputs": [],
   "source": []
  }
 ],
 "metadata": {
  "kernelspec": {
   "display_name": "Python 3 (ipykernel)",
   "language": "python",
   "name": "python3"
  },
  "language_info": {
   "codemirror_mode": {
    "name": "ipython",
    "version": 3
   },
   "file_extension": ".py",
   "mimetype": "text/x-python",
   "name": "python",
   "nbconvert_exporter": "python",
   "pygments_lexer": "ipython3",
   "version": "3.9.13"
  }
 },
 "nbformat": 4,
 "nbformat_minor": 5
}
