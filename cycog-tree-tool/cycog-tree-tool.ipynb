{
 "cells": [
  {
   "cell_type": "code",
   "execution_count": 1,
   "id": "4a0c33f7-29cb-452a-a8aa-31359275079a",
   "metadata": {},
   "outputs": [],
   "source": [
    "from Bio import SeqIO\n",
    "from matplotlib import pyplot as plt\n",
    "import os\n",
    "import numpy as np\n",
    "import pandas as pd\n",
    "import csv\n",
    "from Bio import AlignIO\n",
    "from Bio.Align import MultipleSeqAlignment\n"
   ]
  },
  {
   "cell_type": "code",
   "execution_count": 32,
   "id": "f9e865db-1fdc-49b8-beec-401387bab85e",
   "metadata": {},
   "outputs": [],
   "source": [
    "# Pick CyCOG to process throughout notebook\n",
    "CYCOG = 60000915"
   ]
  },
  {
   "cell_type": "code",
   "execution_count": 3,
   "id": "2eeac218-ee23-48a5-ba5d-81e2677477aa",
   "metadata": {},
   "outputs": [],
   "source": [
    "# pick whether to only use isolate genomes or not\n",
    "isolates_only = True\n",
    "# isolates_only = False"
   ]
  },
  {
   "cell_type": "code",
   "execution_count": 4,
   "id": "a5f5bf39-bac5-4644-a73a-19edf9ff28e4",
   "metadata": {},
   "outputs": [],
   "source": [
    "# Create directories for data inputs and outputs\n",
    "if not os.path.exists('data'):\n",
    "    os.makedirs('data')\n",
    "if not os.path.exists('data/0'):\n",
    "    os.makedirs('data/0')\n",
    "if not os.path.exists(f'data/{CYCOG}'):\n",
    "    os.makedirs(f'data/{CYCOG}')"
   ]
  },
  {
   "cell_type": "code",
   "execution_count": 5,
   "id": "78fb8b57-4861-4ae3-8b5e-129a16a17caf",
   "metadata": {},
   "outputs": [],
   "source": [
    "REFS = '../data/genomes/'\n",
    "CYCOGS = 'data/0/serralysin_cycog_references.csv'\n",
    "CYCOG_LIST = 'data/0/cycogs.tsv'\n",
    "GENOMES = 'data/0/cycogsgenomes.tsv'\n",
    "CLADE_MAP = 'data/0/updated-genome-clades.csv'\n",
    "SEQ = \"faa\""
   ]
  },
  {
   "cell_type": "code",
   "execution_count": 6,
   "id": "c964f71f-144e-44c7-b848-713ecfd62478",
   "metadata": {},
   "outputs": [],
   "source": [
    "genomes_df = pd.read_csv(GENOMES, sep=\"\\t\")\n",
    "isolates_names_list = genomes_df[(genomes_df['GROUP'] != 'Virus') & (genomes_df['TYPE'] == 'ISOLATE')].IID.tolist()\n",
    "isolate_imgs = genomes_df[(genomes_df['GROUP'] != 'Virus') & (genomes_df['TYPE'] == 'ISOLATE')].IMG_ID.tolist()\n",
    "cycog_df = pd.read_csv(CYCOG_LIST, sep=\"\\t\")"
   ]
  },
  {
   "cell_type": "markdown",
   "id": "6ecf836c-cd9a-44aa-9f88-a2796bd25b39",
   "metadata": {},
   "source": [
    "This notebook is designed to work through data taken from Berube et al., 2018. The fasta files are produced using data in their repository. You can access their data through the links provided below. I recommend moving the downloaded data files to the `data/0/` directory for ease of use in this notebook.\n",
    "\n",
    "[File 4 of supplemental materials](https://figshare.com/articles/dataset/File_4_CyCOG_taxa/6007166?backTo=/collections/Single_cell_genomes_of_i_Prochlorococcus_i_i_Synechococcus_i_and_sympatric_microbes_from_diverse_marine_environments/4037048) from Berube et al., 2018\n",
    "\n",
    "\n",
    "GENOMES = data/0/cycogsgenomes.tsv\n",
    "\n",
    "file 5 of supplemental materials from Berube et al., 2018\n",
    "downloaded from https://figshare.com/articles/dataset/File_5_CyCOG_definitions/6007169?backTo=/collections/Single_cell_genomes_of_i_Prochlorococcus_i_i_Synechococcus_i_and_sympatric_microbes_from_diverse_marine_environments/4037048\n",
    "\n",
    "CYCOG_LIST = data/0/cycogs.tsv\n",
    "\n",
    "Some files used are provided as part of this repository. I suggest moving the files to the same directory as the last two files for ease of access.\n",
    "\n",
    "CLADE_MAP = data/0/updated-genome-clades.csv\n"
   ]
  },
  {
   "cell_type": "markdown",
   "id": "c2b3228d-f1a3-4a79-8e69-85ee5efed57d",
   "metadata": {},
   "source": [
    "# Step 1: Get CyCOG Fasta File\n",
    "\n",
    "Inputs: \n",
    "- References (reference genomes from Berube et al., 2018)\n",
    "- CyCOG list (list of CyCOGs from Berube et al., 2018)\n",
    "\n",
    "Output:\n",
    "- Fasta file (sequences.faa) of all proteins associated with CyCOG of interest\n",
    "\n",
    "Steps:\n",
    "1. Get list of proteins associated with CyCOG of interest\n",
    "2. Strip out protein ids"
   ]
  },
  {
   "cell_type": "code",
   "execution_count": 17,
   "id": "0e422c08-099d-40e8-93e2-8da9020f3de1",
   "metadata": {},
   "outputs": [
    {
     "name": "stdout",
     "output_type": "stream",
     "text": [
      "cycog_iid                                                    CyCOG_60000046\n",
      "cycog_num_taxa                                                          497\n",
      "cycog_num_genes                                                         946\n",
      "cycog_num_duplications                                                  449\n",
      "cycog_num_pro                                                           809\n",
      "cycog_num_syn                                                           132\n",
      "cycog_num_phage                                                           5\n",
      "cycog_cns_product                               UDP-glucuronate 4-epimerase\n",
      "cycog_genes               WH8016_2507493065,AG-442-B03_2717726087,scB245...\n",
      "Name: 45, dtype: object\n",
      "220 protein ids found\n",
      "220 protein records found\n",
      "Making file using only isolate genomes\n",
      "fasta file written: data/60000046/60000046_isolates.faa\n"
     ]
    }
   ],
   "source": [
    "protein_ids = [] # empty list to store protein IDs\n",
    "for i, row in cycog_df.iterrows(): # searches through rows in cycogs.tsv\n",
    "    if CYCOG == int(row['cycog_iid'].split('_')[1]):\n",
    "        print(row)\n",
    "        protein_list = row['cycog_genes'].split(',')\n",
    "        for protein in protein_list: # for each object in the protein list:\n",
    "            _, protein_id = protein.rsplit('_', 1) # split the object using the last underscore in the name, the end of the split is identified as protein_id\n",
    "            if isolates_only == True:\n",
    "                if _ in isolates_names_list:\n",
    "                    protein_ids.append(protein_id) # add the protein_id object to the protein_ids list\n",
    "            else:\n",
    "                protein_ids.append(protein_id) # add the protein_id object to the protein_ids list\n",
    "print('{} protein ids found'.format(len(protein_ids))) # print number of protein_ids added to list\n",
    "\n",
    "output_sequences = [] # empty list to store cycog sequences\n",
    "for genome in os.listdir(REFS): # for each genome file in the genomes directory:\n",
    "    faa_file_path = os.path.join(REFS, genome, f'{genome}.genes.{SEQ}') # name a gene file to check for\n",
    "    if os.path.isfile(faa_file_path):  # Check if the gene file exists\n",
    "        fasta = SeqIO.parse(faa_file_path, \"fasta\") # make a variable called 'fasta' to look through\n",
    "        for record in fasta: # for each entry in the fasta variable\n",
    "            if record.id in protein_ids: # if the id of the entry matches an id in the protein_ids list:\n",
    "                output_sequences.append(record) # add that entry to the output sequences list\n",
    "print('{} protein records found'.format(len(output_sequences))) # print number of sequences added to list\n",
    "\n",
    "# write output sequence\n",
    "if isolates_only == True:\n",
    "    output_fasta = f\"data/{CYCOG}/{CYCOG}_isolates.faa\"\n",
    "    print (\"Making file using only isolate genomes\")\n",
    "else:\n",
    "    output_fasta = f\"data/{CYCOG}/{CYCOG}.faa\" # make an output file to store sequences\n",
    "    print (\"Making file using all available genomes\")\n",
    "with open(output_fasta, \"w\") as output_file:\n",
    "    SeqIO.write(output_sequences, output_file, \"fasta\") # write the output_sequences list into the output file\n",
    "print('fasta file written: {}'.format(output_fasta))"
   ]
  },
  {
   "cell_type": "markdown",
   "id": "faff7246-ed28-44b2-9e4c-55ab9a860716",
   "metadata": {},
   "source": [
    "# Step 2: Filtering Fasta Sequences"
   ]
  },
  {
   "cell_type": "code",
   "execution_count": 41,
   "id": "084c45dd-d824-4668-8256-33bdd67772f1",
   "metadata": {},
   "outputs": [
    {
     "data": {
      "image/png": "[encoded data removed]",
      "text/plain": [
       "<Figure size 640x480 with 1 Axes>"
      ]
     },
     "metadata": {},
     "output_type": "display_data"
    }
   ],
   "source": [
    "# make a histogram showing sequence length distributions within cycog fasta\n",
    "sizes = [len(rec) for rec in SeqIO.parse(output_fasta, \"fasta\")] # Parse the FASTA file and get sequence lengths\n",
    "\n",
    "# Parse the input FASTA file and calculate median and standard deviation\n",
    "sequences = []\n",
    "# for seq_record in SeqIO.parse(f\"data/{CYCOG}/{CYCOG}.faa\", \"fasta\"):\n",
    "for seq_record in SeqIO.parse(output_fasta, \"fasta\"):\n",
    "    sequences.append(seq_record) # add strictly sequences to empty sequences list\n",
    "sequence_lengths = np.array([len(seq) for seq in sequences]) # make array w/ sequence lengths\n",
    "median_length = np.median(sequence_lengths)\n",
    "std_dev = np.std(sequence_lengths)\n",
    "lower_lim = sequence_lengths.min() # set limits to min and max lenghts\n",
    "upper_lim = sequence_lengths.max()\n",
    "\n",
    "# Plot histogram\n",
    "plt.hist(sizes, bins=20)\n",
    "plt.title(f\"{len(sizes)} unfiltered CyCOG {CYCOG} sequences\")\n",
    "plt.xlabel(\"Sequence length (aa)\")\n",
    "plt.ylabel(\"Count\")\n",
    "plt.xlim((lower_lim,upper_lim)) # apply limits to x-axis boundaries\n",
    "\n",
    "# Annotate median and standard deviation on the histogram\n",
    "plt.text(0.5, 0.9, f'Median Length: {median_length:.2f}\\nStandard Deviation: {std_dev:.2f}',\n",
    "           horizontalalignment='center', verticalalignment='center', transform=plt.gca().transAxes)\n",
    "\n",
    "# Save the histogram output inside the \"data\" directory\n",
    "if isolates_only == True:\n",
    "    output_histogram_path = os.path.join(f\"data/{CYCOG}/\", f\"{CYCOG}_isolates_prefilter.png\")\n",
    "else:\n",
    "    output_histogram_path = os.path.join(f\"data/{CYCOG}/\", f\"{CYCOG}_hist_prefilter.png\")\n",
    "plt.savefig(output_histogram_path, bbox_inches='tight')\n",
    "\n",
    "plt.show()\n"
   ]
  },
  {
   "cell_type": "code",
   "execution_count": 42,
   "id": "9a7db323-6b06-40b0-8735-2de8a4bc3324",
   "metadata": {},
   "outputs": [],
   "source": [
    "# Set tolerance. Tolerance will either be a specific number of amino acids or based on the standard deviation of sequence length\n",
    "# tolerance = (300, 300) # first value is tolerance below the median length, second value is tolerance above the median length\n",
    "tolerance = \"std\" # code is designed to filter out past 1 STD, but can be changed when the filtered fasta is being made\n"
   ]
  },
  {
   "cell_type": "code",
   "execution_count": 46,
   "id": "f2d7c65b-b5d8-4a2e-bdf9-8669dffbc97f",
   "metadata": {},
   "outputs": [
    {
     "name": "stdout",
     "output_type": "stream",
     "text": [
      "73\n",
      "Filtered fasta saved to data/60000915/60000915_filtered_isolates.fasta\n"
     ]
    }
   ],
   "source": [
    "# make filtered fasta using pre-established tolerance away from median sequence length\n",
    "# Define filter limits\n",
    "if tolerance == \"std\":\n",
    "    tol_low = std_dev\n",
    "    tol_high = std_dev\n",
    "else:\n",
    "    tol_low = tolerance[0]\n",
    "    tol_high = tolerance[1]\n",
    "\n",
    "# Define output file path based on CyCOG number\n",
    "if isolates_only == True:\n",
    "    output_fasta_path = os.path.join(f\"data/{CYCOG}/\", f\"{CYCOG}_filtered_isolates.fasta\")\n",
    "else:\n",
    "    output_fasta_path = os.path.join(f\"data/{CYCOG}/\", f\"{CYCOG}_filtered.fasta\")\n",
    "\n",
    "# Filter sequences based on one standard deviation or other tolerance from the median\n",
    "filtered_sequences = [seq for seq in sequences if len(seq) >= median_length - tol_low and len(seq) <= median_length + tol_high]\n",
    "\n",
    "# Write filtered sequences to the output FASTA file\n",
    "with open(output_fasta_path, \"w\") as output_file:\n",
    "    SeqIO.write(filtered_sequences, output_file, \"fasta\")\n",
    "\n",
    "print(f\"Filtered fasta saved to {output_fasta_path}\")"
   ]
  },
  {
   "cell_type": "code",
   "execution_count": 44,
   "id": "4e28af29-3f90-48da-8cb0-f7f71a047dbc",
   "metadata": {},
   "outputs": [
    {
     "data": {
      "image/png": "[encoded data removed]",
      "text/plain": [
       "<Figure size 640x480 with 1 Axes>"
      ]
     },
     "metadata": {},
     "output_type": "display_data"
    }
   ],
   "source": [
    "# make histogram using filtered fasta\n",
    "# Calculate median and standard deviation\n",
    "sequence_lengths = np.array([len(seq) for seq in filtered_sequences])\n",
    "median_length = np.median(sequence_lengths)\n",
    "std_dev = np.std(sequence_lengths)\n",
    "\n",
    "# Plot histogram\n",
    "plt.hist(sequence_lengths, bins=20)\n",
    "plt.title(f\"{len(sequence_lengths)} filtered CyCOG {CYCOG} sequences\")\n",
    "plt.xlabel(\"Sequence length (aa)\")\n",
    "plt.ylabel(\"Count\")\n",
    "# plt.xlim((lower_lim,upper_lim)) #use this line if you want to use the first plot x axis range\n",
    "\n",
    "# Annotate median and standard deviation on the histogram\n",
    "plt.text(0.5, 0.9, f'Median Length: {median_length:.2f}\\nStandard Deviation: {std_dev:.2f}',\n",
    "           horizontalalignment='center', verticalalignment='center', transform=plt.gca().transAxes)\n",
    "\n",
    "# Save the histogram output inside the \"data\" directory\n",
    "if isolates_only == True:\n",
    "    output_histogram_path = os.path.join(f\"data/{CYCOG}/\", f\"{CYCOG}_isolates_filtered.png\")\n",
    "else:\n",
    "    output_histogram_path = os.path.join(f\"data/{CYCOG}/\", f\"{CYCOG}_hist_filtered.png\")\n",
    "plt.savefig(output_histogram_path, bbox_inches='tight')\n",
    "\n",
    "plt.show()\n"
   ]
  },
  {
   "cell_type": "markdown",
   "id": "e477ce11-aeee-483d-b217-625094016841",
   "metadata": {},
   "source": [
    "If you want to make another fasta only using isolates, or instead of only using isolates using all genomes, go up to the block toggling isolates_only and restart from there."
   ]
  },
  {
   "cell_type": "markdown",
   "id": "d55a6ec1-e39f-4575-a341-e19c0f55a6b4",
   "metadata": {},
   "source": [
    "# Step 3: Aligning CyCOG"
   ]
  },
  {
   "cell_type": "markdown",
   "id": "fab54ac2-0bef-4312-8ac2-7ebd268649e0",
   "metadata": {},
   "source": [
    "To infer the relationship of genetic sequences, you first need to align them as closely as you can, so that similar portions of their sequences line up with each other."
   ]
  },
  {
   "cell_type": "markdown",
   "id": "367f0c85-d524-4a60-b4db-bbe39e6123a2",
   "metadata": {},
   "source": [
    "Run the following commands to align CyCOGs using the [MUSCLE multiple sequence alignment software](https://drive5.com/muscle5/):\n",
    "\n",
    "1. Build the MUSCLE container (using singularity)\n",
    "    `singularity build muscle.sif docker://quay.io/biocontainers/muscle:5.1.0--h4ac6f70_0`\n",
    "1. Run MUSCLE alignment on CyCOG fasta\n",
    "    `singularity exec muscle.sif muscle -align input.fasta -output alignment.afa`\n"
   ]
  },
  {
   "cell_type": "markdown",
   "id": "24aef810-ed40-4e4f-bd26-26b09875f4e0",
   "metadata": {},
   "source": [
    "Before running the muscle alignment in a remote computer, you need to import the fasta into the remote directory where the MUSCLE container is. To proceed with this notebook, the output needs to be exported from the remote computer back to the computer running this notebook. For ease of use in the notebook, I recommend placing the alignment in the \"data/{CYCOG}/\" directory, but it just needs to be in a reasonable place in your computer."
   ]
  },
  {
   "cell_type": "code",
   "execution_count": 47,
   "id": "09f29ecb-92b4-4806-b740-3f0dadacb36d",
   "metadata": {},
   "outputs": [
    {
     "name": "stdout",
     "output_type": "stream",
     "text": [
      "singularity exec muscle.sif muscle -align 60000915_filtered_isolates.fasta -output 60000915_iso.afa\n"
     ]
    }
   ],
   "source": [
    "# print statement showing a specific command to use on remote computer once filtered fasta and muscle container are in the same directory:\n",
    "if isolates_only == True:\n",
    "    print(f\"singularity exec muscle.sif muscle -align {os.path.basename(output_fasta_path)} -output {CYCOG}_iso.afa\")\n",
    "else:\n",
    "    print(f\"singularity exec muscle.sif muscle -align {os.path.basename(output_fasta_path)} -output {CYCOG}.afa\")"
   ]
  },
  {
   "cell_type": "markdown",
   "id": "124246f5-8896-46b2-9bbc-73294665d35e",
   "metadata": {},
   "source": [
    "# Step 4: Trim Alignment"
   ]
  },
  {
   "cell_type": "code",
   "execution_count": 48,
   "id": "0224b944-d6f0-46ba-96fe-33937e23480b",
   "metadata": {},
   "outputs": [],
   "source": [
    "# set alignment variable equal to biopython reading of aligned fasta -- filepath may vary\n",
    "if isolates_only == True:\n",
    "    alignment = AlignIO.read(f\"data/{CYCOG}/{CYCOG}_iso.afa\", \"fasta\")\n",
    "else:\n",
    "    alignment = AlignIO.read(f\"data/{CYCOG}/{CYCOG}.afa\", \"fasta\")\n"
   ]
  },
  {
   "cell_type": "code",
   "execution_count": 49,
   "id": "8145a4cf-31c4-4988-b89c-f2a4f3dc0d6a",
   "metadata": {},
   "outputs": [
    {
     "data": {
      "text/plain": [
       "<<class 'Bio.Align.MultipleSeqAlignment'> instance (92 records of length 134) at 127b67cd0>"
      ]
     },
     "execution_count": 49,
     "metadata": {},
     "output_type": "execute_result"
    }
   ],
   "source": [
    "alignment"
   ]
  },
  {
   "cell_type": "code",
   "execution_count": 50,
   "id": "8f54441e-7b40-49d3-b419-806a50e91b11",
   "metadata": {},
   "outputs": [],
   "source": [
    "# define function for trimming gappy heads and tails off alignment\n",
    "def slice_alignment(alignment):\n",
    "    # Get the alignment length\n",
    "    alignment_length = alignment.get_alignment_length()\n",
    "\n",
    "    # Set the threshold for % non-gap characters needed for signifigance\n",
    "    threshold = int(0.95 * len(alignment)) #integer represents proportion of non-gap characters, 0.95 is 95%\n",
    "\n",
    "    # Find the first and last columns meeting the threshold, establish empty variables to be filled\n",
    "    first_non_gap_col = None\n",
    "    last_non_gap_col = None\n",
    "    \n",
    "    # trimming heads from start forward:\n",
    "    for col in range(alignment_length):\n",
    "        if sum(seq[col] != '-' for seq in alignment) >= threshold:\n",
    "            first_non_gap_col = col\n",
    "            break\n",
    "    #trimming tails from end backward:\n",
    "    for col in range(alignment_length - 1, -1, -1):\n",
    "        if sum(seq[col] != '-' for seq in alignment) >= threshold:\n",
    "            last_non_gap_col = col\n",
    "            break\n",
    "\n",
    "    # Check if both first and last columns meeting the threshold are found\n",
    "    if first_non_gap_col is not None and last_non_gap_col is not None:\n",
    "        # Slice out the gappy regions at the start and end of the alignment\n",
    "        sliced_alignment = alignment[:, first_non_gap_col:last_non_gap_col + 1]\n",
    "    else:\n",
    "        sliced_alignment = None  # Return None if no columns meeting the threshold are found\n",
    "\n",
    "    return sliced_alignment"
   ]
  },
  {
   "cell_type": "code",
   "execution_count": 51,
   "id": "0e4070da-dea2-4b06-9036-c2c5f7ec0953",
   "metadata": {},
   "outputs": [
    {
     "name": "stdout",
     "output_type": "stream",
     "text": [
      "Sliced alignment saved to data/60000915/60000915_prepped-isolates.fasta\n"
     ]
    }
   ],
   "source": [
    "# Slice off the gappy regions at the start and end of the alignment\n",
    "sliced_alignment = slice_alignment(alignment)\n",
    "\n",
    "# Check if the sliced alignment is not None\n",
    "if sliced_alignment is not None:\n",
    "    # Save the sliced alignment to a file in the data directory\n",
    "    trim_align_path = os.path.join(f\"data/{CYCOG}/\", f\"{CYCOG}_prepped.fasta\")\n",
    "    if isolates_only == True:\n",
    "        trim_align_path = os.path.join(f\"data/{CYCOG}/\", f\"{CYCOG}_prepped-isolates.fasta\")\n",
    "\n",
    "\n",
    "    AlignIO.write(sliced_alignment, trim_align_path, \"fasta\")\n",
    "    print(f\"Sliced alignment saved to {trim_align_path}\")\n",
    "else:\n",
    "    print(\"No columns meeting the non-gap threshold found in the alignment.\")"
   ]
  },
  {
   "cell_type": "markdown",
   "id": "3e13cc9e-6747-4fdb-a3a9-08be2d66f7c4",
   "metadata": {},
   "source": [
    "# Step 5: Treebuilding"
   ]
  },
  {
   "cell_type": "markdown",
   "id": "275b3194-08dc-4fde-b927-e202838a8706",
   "metadata": {},
   "source": [
    "This step is conducted using a treebuilding software on the command line. We currently use a RaxML container from singularity in a remote computer."
   ]
  },
  {
   "cell_type": "markdown",
   "id": "ffe2f8e9-6367-4191-b109-663cd827a074",
   "metadata": {},
   "source": [
    "Run the following commands to build trees using the [RaxML treebuilding software](https://cme.h-its.org/exelixis/web/software/raxml/) from the Exelixis Lab:\n",
    "\n",
    "1. Build the RaxML container (using singularity)\n",
    "    `singularity build raxml.sif docker://quay.io/biocontainers/raxml:8.2.13--h031d066_1`\n",
    "1. Run RaxML on prepared fasta\n",
    "    `singularity exec raxml.sif raxmlHPC -s CYCOG_prepped.fasta -T 4 -f a -x 32360 -# 1 -m PROTGAMMAWAG -p 29813 -n CYCOG`\n",
    "\n"
   ]
  },
  {
   "cell_type": "markdown",
   "id": "ecff0bb5-9124-446a-a82d-89c103f6114b",
   "metadata": {},
   "source": [
    "Once again, the input for this command needs to be imported to your remote environment, and the output from this command should be exported back to your computer to proceed with the next step.\n",
    "\n",
    "The RaxML command is more complicated than the muscle alignment command. There are more specifications than just the input and the output necessary for RaxML to run. Below is a simplistic explanation of the parameters I typically use.\n",
    "\n",
    "raxmlHPC calls raxml, starting the command. We then use the following options:\n",
    "- `-s`: specifies the aligned fasta (with filepath) to make a tree from.\n",
    "- `-T`: specifies the number of parallel threads raxml uses to run, or how much processing is being used by the program.\n",
    "- `-f`: specifies the algorithm used by raxml, I use '-f a' because rapid bootstrapping is supposedly faster. \n",
    "- `-x` and `-p`: randomization numbers I pick for the computer to use, any 5 digits work but I recommend keeping them the same between trees. \n",
    "- `-#`: specifies the number of runs, ~100 runs is better for a publication-quality tree. \n",
    "- `-m`: chooses the model you use for the tree, I picked PROTGAMMAWAG because it is supposedly good with amino acids. \n",
    "- `-n`: names the output files. \n",
    "\n",
    "<u> Of these different specifications, the only ones you would likely need to change frequently from tree to tree would be -s and -n, the input and output file names. The -# parameter could also vary for the purpose of testing the workflow vs generating a publication-quality tree, which takes a lot of computing power. In a publication-grade figure, I would choose 100 runs for statistical significance."
   ]
  },
  {
   "cell_type": "code",
   "execution_count": 52,
   "id": "5493dc42-4b06-4860-b590-ba57d376a6d3",
   "metadata": {},
   "outputs": [
    {
     "name": "stdout",
     "output_type": "stream",
     "text": [
      "singularity exec raxml.sif raxmlHPC -s 60000915_prepped-isolates.fasta -T 16 -f a -x 32360 -# 100 -m PROTGAMMAWAG -p 29813 -n 60000915_iso_bts\n"
     ]
    }
   ],
   "source": [
    "# print statement showing specific command if aligned fasta and raxml container in same directory:\n",
    "if isolates_only == True:\n",
    "    print(f\"singularity exec raxml.sif raxmlHPC -s {CYCOG}_prepped-isolates.fasta -T 16 -f a -x 32360 -# 100 -m PROTGAMMAWAG -p 29813 -n {CYCOG}_iso_bts\")\n",
    "else:\n",
    "    print(f\"singularity exec raxml.sif raxmlHPC -s {CYCOG}_prepped.fasta -T 16 -f a -x 32360 -# 100 -m PROTGAMMAWAG -p 29813 -n {CYCOG}_bts\")\n"
   ]
  },
  {
   "cell_type": "markdown",
   "id": "e7a82fce-ba17-4568-a076-4d2add8f24d4",
   "metadata": {},
   "source": [
    "# Step 6: Visualization"
   ]
  },
  {
   "cell_type": "markdown",
   "id": "7d492467-3daf-422b-9705-13b69c615e7a",
   "metadata": {},
   "source": [
    "This section constructs the annotation files for labeling and visualizing trees in [iTOL](https://itol.embl.de). It creates a mapping file that maps the identity of each protein included in the tree to its genome of origin, and then to the taxonomic clade that genome belongs to. It uses files imported from Berube et al., 2018, and some files included in our directory to make annotations for the tree you just produced.\n",
    "\n",
    "protein_id -> genome_name -> genome_id -> clade\n",
    "\n",
    "1. protein_id's of all proteins included in the CyCOG of interest can be found in `cycogs.tsv`\n",
    "2. genome names are included in the protein_id found in `cycogs.tsv`\n",
    "3. genome_name to genome_id mappings can be pulled from `cycogsgenomes.tsv`\n",
    "4. genome_id to clade mappings can be pulled from `updated-genome-clades.csv`\n",
    "\n",
    "These files have all been assigned to variables at the top of the notebook.\n",
    "\n",
    "It may be worth it to look into manually creating annotation files if you are interested in customizing the outputs here. The iTOL website has [extensive documentation](https://itol.embl.de/help.cgi#annot) on the process of creating annotation files."
   ]
  },
  {
   "cell_type": "code",
   "execution_count": 33,
   "id": "99c9b566-5dde-4eec-b310-10609dfb3eda",
   "metadata": {},
   "outputs": [
    {
     "name": "stdout",
     "output_type": "stream",
     "text": [
      "cycog_iid                                                    CyCOG_60000915\n",
      "cycog_num_taxa                                                          437\n",
      "cycog_num_genes                                                         441\n",
      "cycog_num_duplications                                                    4\n",
      "cycog_num_pro                                                           392\n",
      "cycog_num_syn                                                            49\n",
      "cycog_num_phage                                                           0\n",
      "cycog_cns_product                     protein of unknown function (DUF1825)\n",
      "cycog_genes               W8_2553538528,W3_2553524974,AG-363-L19_2667901...\n",
      "Name: 914, dtype: object\n",
      "Number of 60000915 genes found in isolate genomes: 92\n"
     ]
    },
    {
     "data": {
      "text/html": [
       "<div>\n",
       "<style scoped>\n",
       "    .dataframe tbody tr th:only-of-type {\n",
       "        vertical-align: middle;\n",
       "    }\n",
       "\n",
       "    .dataframe tbody tr th {\n",
       "        vertical-align: top;\n",
       "    }\n",
       "\n",
       "    .dataframe thead th {\n",
       "        text-align: right;\n",
       "    }\n",
       "</style>\n",
       "<table border=\"1\" class=\"dataframe\">\n",
       "  <thead>\n",
       "    <tr style=\"text-align: right;\">\n",
       "      <th></th>\n",
       "      <th>protein_id</th>\n",
       "      <th>genome_name</th>\n",
       "      <th>gene_id</th>\n",
       "      <th>IID</th>\n",
       "      <th>GROUP</th>\n",
       "      <th>IMG_ID</th>\n",
       "      <th>TYPE</th>\n",
       "      <th>JGI_GENOMEPORTAL_NAME</th>\n",
       "      <th>Completeness</th>\n",
       "      <th>IMGGenomeID</th>\n",
       "      <th>UpdatedIMGGenomeID</th>\n",
       "      <th>Clade</th>\n",
       "    </tr>\n",
       "  </thead>\n",
       "  <tbody>\n",
       "    <tr>\n",
       "      <th>18</th>\n",
       "      <td>MED4_2606840805</td>\n",
       "      <td>MED4</td>\n",
       "      <td>2606840805</td>\n",
       "      <td>MED4</td>\n",
       "      <td>Prochlorococcus</td>\n",
       "      <td>2606217259</td>\n",
       "      <td>ISOLATE</td>\n",
       "      <td>Prochlorococcus_marinus_subsp._pastoris_str._C...</td>\n",
       "      <td>99.46</td>\n",
       "      <td>2606217259</td>\n",
       "      <td>637000214</td>\n",
       "      <td>HLI</td>\n",
       "    </tr>\n",
       "    <tr>\n",
       "      <th>24</th>\n",
       "      <td>EQPAC1_2608230077</td>\n",
       "      <td>EQPAC1</td>\n",
       "      <td>2608230077</td>\n",
       "      <td>EQPAC1</td>\n",
       "      <td>Prochlorococcus</td>\n",
       "      <td>2606217689</td>\n",
       "      <td>ISOLATE</td>\n",
       "      <td>Prochlorococcus_sp._EQPAC1</td>\n",
       "      <td>99.46</td>\n",
       "      <td>2606217689</td>\n",
       "      <td>2606217689</td>\n",
       "      <td>HLI</td>\n",
       "    </tr>\n",
       "    <tr>\n",
       "      <th>33</th>\n",
       "      <td>MIT1307_2684599387</td>\n",
       "      <td>MIT1307</td>\n",
       "      <td>2684599387</td>\n",
       "      <td>MIT1307</td>\n",
       "      <td>Prochlorococcus</td>\n",
       "      <td>2681813572</td>\n",
       "      <td>ISOLATE</td>\n",
       "      <td>Prochlorococcus_sp._MIT1307</td>\n",
       "      <td>99.18</td>\n",
       "      <td>2681813572</td>\n",
       "      <td>2681813572</td>\n",
       "      <td>LLVII</td>\n",
       "    </tr>\n",
       "    <tr>\n",
       "      <th>39</th>\n",
       "      <td>MIT1214_2684587653</td>\n",
       "      <td>MIT1214</td>\n",
       "      <td>2684587653</td>\n",
       "      <td>MIT1214</td>\n",
       "      <td>Prochlorococcus</td>\n",
       "      <td>2681813567</td>\n",
       "      <td>ISOLATE</td>\n",
       "      <td>Prochlorococcus_sp._MIT1214</td>\n",
       "      <td>99.18</td>\n",
       "      <td>2681813567</td>\n",
       "      <td>2681813567</td>\n",
       "      <td>LLI</td>\n",
       "    </tr>\n",
       "    <tr>\n",
       "      <th>81</th>\n",
       "      <td>MIT0917_2681972126</td>\n",
       "      <td>MIT0917</td>\n",
       "      <td>2681972126</td>\n",
       "      <td>MIT0917</td>\n",
       "      <td>Prochlorococcus</td>\n",
       "      <td>2681812859</td>\n",
       "      <td>ISOLATE</td>\n",
       "      <td>Prochlorococcus_sp._MIT0917</td>\n",
       "      <td>98.91</td>\n",
       "      <td>2681812859</td>\n",
       "      <td>2681812859</td>\n",
       "      <td>LLI</td>\n",
       "    </tr>\n",
       "    <tr>\n",
       "      <th>...</th>\n",
       "      <td>...</td>\n",
       "      <td>...</td>\n",
       "      <td>...</td>\n",
       "      <td>...</td>\n",
       "      <td>...</td>\n",
       "      <td>...</td>\n",
       "      <td>...</td>\n",
       "      <td>...</td>\n",
       "      <td>...</td>\n",
       "      <td>...</td>\n",
       "      <td>...</td>\n",
       "      <td>...</td>\n",
       "    </tr>\n",
       "    <tr>\n",
       "      <th>418</th>\n",
       "      <td>GFB01_2638206913</td>\n",
       "      <td>GFB01</td>\n",
       "      <td>2638206913</td>\n",
       "      <td>GFB01</td>\n",
       "      <td>Synechococcus</td>\n",
       "      <td>2636415834</td>\n",
       "      <td>ISOLATE</td>\n",
       "      <td>Synechococcus_sp._GFB01</td>\n",
       "      <td>84.81</td>\n",
       "      <td>2636415834</td>\n",
       "      <td>2636415834</td>\n",
       "      <td>5.2</td>\n",
       "    </tr>\n",
       "    <tr>\n",
       "      <th>422</th>\n",
       "      <td>SynAce01_2721489508</td>\n",
       "      <td>SynAce01</td>\n",
       "      <td>2721489508</td>\n",
       "      <td>SynAce01</td>\n",
       "      <td>Synechococcus</td>\n",
       "      <td>2718218441</td>\n",
       "      <td>ISOLATE</td>\n",
       "      <td>Synechococcus_sp._SynAce01</td>\n",
       "      <td>99.73</td>\n",
       "      <td>2718218441</td>\n",
       "      <td>2718218441</td>\n",
       "      <td>5.2</td>\n",
       "    </tr>\n",
       "    <tr>\n",
       "      <th>423</th>\n",
       "      <td>WH5701_638958408</td>\n",
       "      <td>WH5701</td>\n",
       "      <td>638958408</td>\n",
       "      <td>WH5701</td>\n",
       "      <td>Synechococcus</td>\n",
       "      <td>638341214</td>\n",
       "      <td>ISOLATE</td>\n",
       "      <td>Synechococcus_sp._WH5701</td>\n",
       "      <td>99.46</td>\n",
       "      <td>638341214</td>\n",
       "      <td>638341214</td>\n",
       "      <td>5.2</td>\n",
       "    </tr>\n",
       "    <tr>\n",
       "      <th>425</th>\n",
       "      <td>BL107_2624163880</td>\n",
       "      <td>BL107</td>\n",
       "      <td>2624163880</td>\n",
       "      <td>BL107</td>\n",
       "      <td>Synechococcus</td>\n",
       "      <td>2623620351</td>\n",
       "      <td>ISOLATE</td>\n",
       "      <td>Synechococcus_sp._BL107</td>\n",
       "      <td>99.73</td>\n",
       "      <td>2623620351</td>\n",
       "      <td>639857006</td>\n",
       "      <td>5.1A-IV</td>\n",
       "    </tr>\n",
       "    <tr>\n",
       "      <th>426</th>\n",
       "      <td>CC9902_2606887638</td>\n",
       "      <td>CC9902</td>\n",
       "      <td>2606887638</td>\n",
       "      <td>CC9902</td>\n",
       "      <td>Synechococcus</td>\n",
       "      <td>2606217272</td>\n",
       "      <td>ISOLATE</td>\n",
       "      <td>Synechococcus_sp._CC9902</td>\n",
       "      <td>99.73</td>\n",
       "      <td>2606217272</td>\n",
       "      <td>637000311</td>\n",
       "      <td>5.1A-IV</td>\n",
       "    </tr>\n",
       "  </tbody>\n",
       "</table>\n",
       "<p>92 rows × 12 columns</p>\n",
       "</div>"
      ],
      "text/plain": [
       "              protein_id genome_name     gene_id       IID            GROUP  \\\n",
       "18       MED4_2606840805        MED4  2606840805      MED4  Prochlorococcus   \n",
       "24     EQPAC1_2608230077      EQPAC1  2608230077    EQPAC1  Prochlorococcus   \n",
       "33    MIT1307_2684599387     MIT1307  2684599387   MIT1307  Prochlorococcus   \n",
       "39    MIT1214_2684587653     MIT1214  2684587653   MIT1214  Prochlorococcus   \n",
       "81    MIT0917_2681972126     MIT0917  2681972126   MIT0917  Prochlorococcus   \n",
       "..                   ...         ...         ...       ...              ...   \n",
       "418     GFB01_2638206913       GFB01  2638206913     GFB01    Synechococcus   \n",
       "422  SynAce01_2721489508    SynAce01  2721489508  SynAce01    Synechococcus   \n",
       "423     WH5701_638958408      WH5701   638958408    WH5701    Synechococcus   \n",
       "425     BL107_2624163880       BL107  2624163880     BL107    Synechococcus   \n",
       "426    CC9902_2606887638      CC9902  2606887638    CC9902    Synechococcus   \n",
       "\n",
       "         IMG_ID     TYPE                              JGI_GENOMEPORTAL_NAME  \\\n",
       "18   2606217259  ISOLATE  Prochlorococcus_marinus_subsp._pastoris_str._C...   \n",
       "24   2606217689  ISOLATE                         Prochlorococcus_sp._EQPAC1   \n",
       "33   2681813572  ISOLATE                        Prochlorococcus_sp._MIT1307   \n",
       "39   2681813567  ISOLATE                        Prochlorococcus_sp._MIT1214   \n",
       "81   2681812859  ISOLATE                        Prochlorococcus_sp._MIT0917   \n",
       "..          ...      ...                                                ...   \n",
       "418  2636415834  ISOLATE                            Synechococcus_sp._GFB01   \n",
       "422  2718218441  ISOLATE                         Synechococcus_sp._SynAce01   \n",
       "423   638341214  ISOLATE                           Synechococcus_sp._WH5701   \n",
       "425  2623620351  ISOLATE                            Synechococcus_sp._BL107   \n",
       "426  2606217272  ISOLATE                           Synechococcus_sp._CC9902   \n",
       "\n",
       "     Completeness  IMGGenomeID  UpdatedIMGGenomeID    Clade  \n",
       "18          99.46   2606217259           637000214      HLI  \n",
       "24          99.46   2606217689          2606217689      HLI  \n",
       "33          99.18   2681813572          2681813572    LLVII  \n",
       "39          99.18   2681813567          2681813567      LLI  \n",
       "81          98.91   2681812859          2681812859      LLI  \n",
       "..            ...          ...                 ...      ...  \n",
       "418         84.81   2636415834          2636415834      5.2  \n",
       "422         99.73   2718218441          2718218441      5.2  \n",
       "423         99.46    638341214           638341214      5.2  \n",
       "425         99.73   2623620351           639857006  5.1A-IV  \n",
       "426         99.73   2606217272           637000311  5.1A-IV  \n",
       "\n",
       "[92 rows x 12 columns]"
      ]
     },
     "execution_count": 33,
     "metadata": {},
     "output_type": "execute_result"
    }
   ],
   "source": [
    "# 1 & 2: extract protein IDs and associated genome names for all proteins in the CyCOG\n",
    "cycog_df = pd.read_csv(CYCOG_LIST, sep=\"\\t\")\n",
    "protein_ids = [] # empty list to store protein IDs\n",
    "for i, row in cycog_df.iterrows(): # searches through rows in cycogs.tsv\n",
    "    if CYCOG == int(row['cycog_iid'].split('_')[1]):\n",
    "        print(row)\n",
    "        protein_list = row['cycog_genes'].split(',')\n",
    "label_df = pd.DataFrame(protein_list, columns=['protein_id']) # make a dataframe with a protein_id column\n",
    "# check out rsplit documentation: https://pandas.pydata.org/pandas-docs/stable/reference/api/pandas.Series.str.rsplit.html#pandas.Series.str.rsplit\n",
    "label_df[['genome_name', 'gene_id']] = label_df['protein_id'].str.rsplit(pat='_', n=1, expand=True) # add new columns to the dataframe, the two components of\n",
    "# protein_id separated using the underscore\n",
    "\n",
    "# 3: join genome id on genome name\n",
    "genomes_df = pd.read_csv(GENOMES, sep='\\t') # reading in a new dataframe with genome data\n",
    "label_df = pd.merge(label_df, genomes_df, left_on='genome_name', right_on='IID', how='left') # merging the two dataframes based on the genome_name in the\n",
    "# label_df and the IID in the genomes_df, which should match\n",
    "\n",
    "# 4: join clade on genome id\n",
    "clade_df = pd.read_csv(CLADE_MAP) # read in new dataframe with genome IDs and clade information\n",
    "label_df = pd.merge(label_df, clade_df, left_on='IMG_ID', right_on='IMGGenomeID', how='left') # merge dataframes matching IMG_ID with IMGGENOMEID\n",
    "\n",
    "if isolates_only == True:\n",
    "    label_df = label_df[label_df['genome_name'].isin(isolates_names_list)]\n",
    "    print (f\"Number of {CYCOG} genes found in isolate genomes:\", (len(label_df)))\n",
    "\n",
    "label_df"
   ]
  },
  {
   "cell_type": "code",
   "execution_count": 34,
   "id": "337d44f6-8e8c-4d4e-a86a-d838e006427d",
   "metadata": {},
   "outputs": [
    {
     "data": {
      "text/html": [
       "<div>\n",
       "<style scoped>\n",
       "    .dataframe tbody tr th:only-of-type {\n",
       "        vertical-align: middle;\n",
       "    }\n",
       "\n",
       "    .dataframe tbody tr th {\n",
       "        vertical-align: top;\n",
       "    }\n",
       "\n",
       "    .dataframe thead th {\n",
       "        text-align: right;\n",
       "    }\n",
       "</style>\n",
       "<table border=\"1\" class=\"dataframe\">\n",
       "  <thead>\n",
       "    <tr style=\"text-align: right;\">\n",
       "      <th></th>\n",
       "      <th>leaf_id</th>\n",
       "      <th>gene_id</th>\n",
       "      <th>genome_id</th>\n",
       "      <th>genome_name</th>\n",
       "      <th>clade</th>\n",
       "    </tr>\n",
       "  </thead>\n",
       "  <tbody>\n",
       "    <tr>\n",
       "      <th>18</th>\n",
       "      <td>2606840805</td>\n",
       "      <td>2606840805</td>\n",
       "      <td>2606217259</td>\n",
       "      <td>MED4</td>\n",
       "      <td>HLI</td>\n",
       "    </tr>\n",
       "    <tr>\n",
       "      <th>24</th>\n",
       "      <td>2608230077</td>\n",
       "      <td>2608230077</td>\n",
       "      <td>2606217689</td>\n",
       "      <td>EQPAC1</td>\n",
       "      <td>HLI</td>\n",
       "    </tr>\n",
       "    <tr>\n",
       "      <th>33</th>\n",
       "      <td>2684599387</td>\n",
       "      <td>2684599387</td>\n",
       "      <td>2681813572</td>\n",
       "      <td>MIT1307</td>\n",
       "      <td>LLVII</td>\n",
       "    </tr>\n",
       "    <tr>\n",
       "      <th>39</th>\n",
       "      <td>2684587653</td>\n",
       "      <td>2684587653</td>\n",
       "      <td>2681813567</td>\n",
       "      <td>MIT1214</td>\n",
       "      <td>LLI</td>\n",
       "    </tr>\n",
       "    <tr>\n",
       "      <th>81</th>\n",
       "      <td>2681972126</td>\n",
       "      <td>2681972126</td>\n",
       "      <td>2681812859</td>\n",
       "      <td>MIT0917</td>\n",
       "      <td>LLI</td>\n",
       "    </tr>\n",
       "    <tr>\n",
       "      <th>...</th>\n",
       "      <td>...</td>\n",
       "      <td>...</td>\n",
       "      <td>...</td>\n",
       "      <td>...</td>\n",
       "      <td>...</td>\n",
       "    </tr>\n",
       "    <tr>\n",
       "      <th>418</th>\n",
       "      <td>2638206913</td>\n",
       "      <td>2638206913</td>\n",
       "      <td>2636415834</td>\n",
       "      <td>GFB01</td>\n",
       "      <td>5.2</td>\n",
       "    </tr>\n",
       "    <tr>\n",
       "      <th>422</th>\n",
       "      <td>2721489508</td>\n",
       "      <td>2721489508</td>\n",
       "      <td>2718218441</td>\n",
       "      <td>SynAce01</td>\n",
       "      <td>5.2</td>\n",
       "    </tr>\n",
       "    <tr>\n",
       "      <th>423</th>\n",
       "      <td>638958408</td>\n",
       "      <td>638958408</td>\n",
       "      <td>638341214</td>\n",
       "      <td>WH5701</td>\n",
       "      <td>5.2</td>\n",
       "    </tr>\n",
       "    <tr>\n",
       "      <th>425</th>\n",
       "      <td>2624163880</td>\n",
       "      <td>2624163880</td>\n",
       "      <td>2623620351</td>\n",
       "      <td>BL107</td>\n",
       "      <td>5.1A-IV</td>\n",
       "    </tr>\n",
       "    <tr>\n",
       "      <th>426</th>\n",
       "      <td>2606887638</td>\n",
       "      <td>2606887638</td>\n",
       "      <td>2606217272</td>\n",
       "      <td>CC9902</td>\n",
       "      <td>5.1A-IV</td>\n",
       "    </tr>\n",
       "  </tbody>\n",
       "</table>\n",
       "<p>92 rows × 5 columns</p>\n",
       "</div>"
      ],
      "text/plain": [
       "        leaf_id     gene_id   genome_id genome_name    clade\n",
       "18   2606840805  2606840805  2606217259        MED4      HLI\n",
       "24   2608230077  2608230077  2606217689      EQPAC1      HLI\n",
       "33   2684599387  2684599387  2681813572     MIT1307    LLVII\n",
       "39   2684587653  2684587653  2681813567     MIT1214      LLI\n",
       "81   2681972126  2681972126  2681812859     MIT0917      LLI\n",
       "..          ...         ...         ...         ...      ...\n",
       "418  2638206913  2638206913  2636415834       GFB01      5.2\n",
       "422  2721489508  2721489508  2718218441    SynAce01      5.2\n",
       "423   638958408   638958408   638341214      WH5701      5.2\n",
       "425  2624163880  2624163880  2623620351       BL107  5.1A-IV\n",
       "426  2606887638  2606887638  2606217272      CC9902  5.1A-IV\n",
       "\n",
       "[92 rows x 5 columns]"
      ]
     },
     "execution_count": 34,
     "metadata": {},
     "output_type": "execute_result"
    }
   ],
   "source": [
    "# create the mapping file\n",
    "\n",
    "# pull out the mapping fields\n",
    "mapping_df = label_df[['gene_id', 'IMG_ID', 'genome_name', 'Clade']].rename(columns={'IMG_ID': 'genome_id', 'Clade': 'clade'})\n",
    "mapping_df['leaf_id'] = mapping_df['gene_id']\n",
    "mapping_df = mapping_df[['leaf_id', 'gene_id', 'genome_id', 'genome_name', 'clade']]\n",
    "\n",
    "mapping_df\n"
   ]
  },
  {
   "cell_type": "markdown",
   "id": "c45437a8-b56d-4dc5-885d-7260a0bea2cb",
   "metadata": {},
   "source": [
    "#### Use these blocks for publication annotations"
   ]
  },
  {
   "cell_type": "code",
   "execution_count": 35,
   "id": "7b917e97-a4e1-4504-b909-3551355fe832",
   "metadata": {},
   "outputs": [],
   "source": [
    "# establish legend colors to be used in tree annotations, specify creation of clade or taxa annotation\n",
    "clade_lgnd = {\n",
    "    \"5.2\": \"#FFB1CA\", \"5.3\": \"#FFB1CA\", \"5.1A-CRD2\": \"#FD3F92\", \"5.1A-II\": \"#FD3F92\", \"5.1A-III\": \"#FD3F92\", \"5.1A-IV\": \"#FD3F92\",\n",
    "    \"5.1A-UC-A-EnvC\": \"#FD3F92\", \"5.1A-unclassified\": \"#FD3F92\", \"5.1A-WPC1\": \"#FD3F92\", \"5.1B-CRD1\": \"#63B9FF\", \"5.1B-I\": \"#63B9FF\", \n",
    "    \"5.1B-IX\": \"#63B9FF\", \"5.1B-V\": \"#63B9FF\", \"5.1B-VI\": \"#63B9FF\", \"5.1B-VIII\": \"#63B9FF\", \"HLI\": \"#FFAC69\", \"HLII\": \"#00C9AE\",\n",
    "    \"HLII.HLVI\": \"#959AB1\", \"HLIII\": \"#959AB1\", \"HLIII.HLIV.HLV\": \"#959AB1\", \"HLIV\": \"#959AB1\", \"HLVI\": \"#959AB1\", \"LLI\": \"#9B5DE5\",\n",
    "    \"LLI.LLVIII\": \"#0F0A0A\", \"LLI.LLIII\": \"#0F0A0A\", \"LLIV\": \"#0F0A0A\", \"LLVII\": \"#0F0A0A\", \"LLVIII\": \"#0F0A0A\", \"Blank\": \"#FF66FD\",\n",
    "    \"\": \"#FF66FD\", \"LLII.LLIII\": \"#0F0A0A\", \"Unclassified\": \"#FF66FD\", \"AMZ-II\": \"#0F0A0A\"\n",
    "}\n",
    "genescladesdf = pd.DataFrame(columns=['genes', 'clades'])\n",
    "trim_align_path = os.path.join(f\"data/{CYCOG}/\", f\"{CYCOG}_prepped.fasta\")\n",
    "if isolates_only == True:\n",
    "    trim_align_path = os.path.join(f\"data/{CYCOG}/\", f\"{CYCOG}_prepped-isolates.fasta\")\n",
    "for geneID, clade in zip(mapping_df['gene_id'], mapping_df['clade']):\n",
    "    with open(trim_align_path) as file:\n",
    "        for line in file:\n",
    "            if geneID in line:\n",
    "                genescladesdf.loc[len(genescladesdf)] = [geneID, clade]"
   ]
  },
  {
   "cell_type": "code",
   "execution_count": 36,
   "id": "7afbef32-4895-47bf-b995-7543ee5fbf57",
   "metadata": {},
   "outputs": [],
   "source": [
    "\n",
    "output_matches = f\"{CYCOG}-annot.tsv\"\n",
    "output_template_file = os.path.join(f'data/{CYCOG}/', f\"{CYCOG}-complete.txt\")\n",
    "if isolates_only == True:\n",
    "    output_template_file = os.path.join(f'data/{CYCOG}/', f\"{CYCOG}-complete-isolates.txt\")\n"
   ]
  },
  {
   "cell_type": "code",
   "execution_count": 37,
   "id": "237bc987-1e37-4736-a818-73314704d099",
   "metadata": {},
   "outputs": [
    {
     "name": "stdout",
     "output_type": "stream",
     "text": [
      "60000915-annot.tsv generated successfully.\n"
     ]
    }
   ],
   "source": [
    "# Use mapping_df to make tsv with leaf_IDs and clade or taxa labels\n",
    "with open(output_matches, 'w', newline='') as outfile:  # Use 'w' mode to create a new file\n",
    "    writer = csv.DictWriter(outfile, fieldnames=['ID', 'LABEL'], delimiter='\\t')\n",
    "    writer.writeheader()  # Write the header once at the beginning\n",
    "\n",
    "    for index, row in mapping_df.iterrows():\n",
    "        leaf_id = row['leaf_id']\n",
    "        clade = row['clade']\n",
    "\n",
    "        if pd.notna(clade):  # Check if clade is not NaN before using string methods\n",
    "            value = clade_lgnd.get(clade, '#FF66FD')  # Use default color if clade not found\n",
    "        else:\n",
    "            value = \"#CA6702\"  # Handle NaN clade case\n",
    "\n",
    "        writer.writerow({'ID': leaf_id, 'LABEL': value})\n",
    "\n",
    "print(output_matches, \"generated successfully.\")"
   ]
  },
  {
   "cell_type": "code",
   "execution_count": 38,
   "id": "2ae743fc-7cc4-4bd7-adc7-ba2e62af5430",
   "metadata": {},
   "outputs": [
    {
     "name": "stdout",
     "output_type": "stream",
     "text": [
      "60000915 publication annotation file generated successfully: data/60000915/60000915-complete-isolates.txt \n",
      "\n",
      "Old outputs removed to clean directory. To run this block again generate a new output_matches file.\n"
     ]
    }
   ],
   "source": [
    "# Join previously made tsv with template file to complete annotation file for iTOL\n",
    "# Read the content of the output file\n",
    "with open(output_matches, 'r') as output_f:\n",
    "    output_content = output_f.read()\n",
    "\n",
    "# Read the content of the template file and append the output content\n",
    "with open(\"complete_template.txt\", 'r') as template_f:\n",
    "    template_content = template_f.read()\n",
    "    # Add a newline character between the template and output content\n",
    "    combined_content = template_content + \"\\n\" + output_content\n",
    "\n",
    "# Write the combined content to a new file\n",
    "with open(output_template_file, 'w') as combined_f:\n",
    "    combined_f.write(combined_content)\n",
    "\n",
    "print(CYCOG, \"publication annotation file generated successfully:\", output_template_file, '\\n')\n",
    "os.remove(output_matches)\n",
    "print (\"Old outputs removed to clean directory. To run this block again generate a new output_matches file.\") \n",
    "# output_matches file used to produce this block's output is removed for directory cleaning.\n",
    "\n"
   ]
  },
  {
   "cell_type": "markdown",
   "id": "a6811804-1f7c-4c84-b31f-11ae511d9e5f",
   "metadata": {},
   "source": [
    "#### Use blocks below for \"exploration\" annotations"
   ]
  },
  {
   "cell_type": "code",
   "execution_count": 22,
   "id": "2149f895-755f-44bc-ae1e-833196efcb65",
   "metadata": {},
   "outputs": [],
   "source": [
    "# establish legend colors to be used in tree annotations, specify creation of clade or taxa annotation\n",
    "clade_lgnd = {\n",
    "    \"5.2\": \"#003D30\", \"5.3\": \"#00E5F8\", \"5.1A-CRD2\": \"#5A0A33\", \"5.1A-II\": \"#005745\", \"5.1A-III\": \"#810D49\", \"5.1A-IV\": \"#00735C\",\n",
    "    \"5.1A-UC-A-EnvC\": \"#AB0D61\", \"5.1A-unclassified\": \"#009175\", \"5.1A-WPC1\": \"#D80D7B\", \"5.1B-CRD1\": \"#00AF8E\", \"5.1B-I\": \"#FF2E95\", \n",
    "    \"5.1B-IX\": \"#00CBA7\", \"5.1B-V\": \"#FF78AD\", \"5.1B-VI\": \"#00EBC1\", \"5.1B-VIII\": \"#FFACC6\", \"HLI\": \"#86FFDE\", \"HLII\": \"#FFD7E1\",\n",
    "    \"HLII.HLVI\": \"#00306F\", \"HLIII\": \"#460B70\", \"HLIII.HLIV.HLV\": \"#00489E\", \"HLIV\": \"#6B069F\", \"HLVI\": \"#005FCC\", \"LLI\": \"#8E06CD\",\n",
    "    \"LLI.LLVIII\": \"#0079FA\", \"LLI.LLIII\": \"#B40AFC\", \"LLIV\": \"#009FFA\", \"LLVII\": \"#ED0DFD\", \"LLVIII\": \"#00C2F9\", \"Blank\": \"#FF66FD\",\n",
    "    \"\": \"#FF66FD\", \"LLII.LLIII\": \"#CDE494\", \"Unclassified\": \"#FF66FD\", \"AMZ-II\": \"#AA8F66\"\n",
    "}\n",
    "genescladesdf = pd.DataFrame(columns=['genes', 'clades'])\n",
    "trim_align_path = os.path.join(f\"data/{CYCOG}/\", f\"{CYCOG}_prepped.fasta\")\n",
    "if isolates_only == True:\n",
    "    trim_align_path = os.path.join(f\"data/{CYCOG}/\", f\"{CYCOG}_prepped-isolates.fasta\")\n",
    "for geneID, clade in zip(mapping_df['gene_id'], mapping_df['clade']):\n",
    "    with open(trim_align_path) as file:\n",
    "        for line in file:\n",
    "            if geneID in line:\n",
    "                genescladesdf.loc[len(genescladesdf)] = [geneID, clade]"
   ]
  },
  {
   "cell_type": "code",
   "execution_count": 28,
   "id": "36b868dc-2c7e-4b27-9bfc-0c5a1a71c29c",
   "metadata": {},
   "outputs": [],
   "source": [
    "# Designate clade or taxa annotation for the following blocks\n",
    "# One of the lines below should be commented out:\n",
    "clade_labeling = 1 # set to 1 if making clade labels\n",
    "# clade_labeling = 0 # set to 0 if making taxa labels"
   ]
  },
  {
   "cell_type": "code",
   "execution_count": 29,
   "id": "22914874-9cee-4b69-a052-6f53fdb14099",
   "metadata": {},
   "outputs": [],
   "source": [
    "if clade_labeling == 1:\n",
    "    output_matches = f\"{CYCOG}-clade.tsv\"\n",
    "    template_file = \"clade_template_fin.txt\"\n",
    "    marker = \"clades\"\n",
    "    f = open(\"ones.txt\", \"w\")\n",
    "    g = open(\"clades.txt\", \"w\")\n",
    "    h = open(\"labels.txt\", \"w\")\n",
    "    f.write('LEGEND_SHAPES\\t')\n",
    "    for key, value in clade_lgnd.items():\n",
    "        if key in genescladesdf['clades'].unique():\n",
    "            \n",
    "            f.write('1\\t')\n",
    "            g.write(f'{key}\\t')\n",
    "            h.write(f'{value}\\t')\n",
    "    f.close()\n",
    "    g.close()\n",
    "    h.close()\n",
    "    \n",
    "    f = open(\"ones.txt\", \"a+\")\n",
    "    g = open(\"clades.txt\", \"r\")\n",
    "    h = open(\"labels.txt\", \"r\")\n",
    "    \n",
    "    f.write(f'\\nLEGEND_LABELS\\t{g.read()}')\n",
    "    f.write(f'\\nLEGEND_COLORS\\t{h.read()}')\n",
    "    \n",
    "    # Close all files\n",
    "    f.close()\n",
    "    g.close()\n",
    "    h.close()\n",
    "    os.remove('clades.txt')\n",
    "    os.remove('labels.txt')\n",
    "    with open('clade-template1.txt', 'r') as clade1:\n",
    "        content1 = clade1.read()\n",
    "    with open('ones.txt', 'r') as clade2:\n",
    "        content2 = clade2.read()\n",
    "    with open('clade-template3.txt', 'r') as clade3:\n",
    "        content3 = clade3.read()\n",
    "    \n",
    "    # Concatenate the contents with newline characters\n",
    "    cladestogether = content1 + \"\\n\" + content2 + '\\n' + content3\n",
    "    \n",
    "    # Write the combined content to a new file\n",
    "    with open('clade_template_fin.txt', 'w') as template_clade:\n",
    "        template_clade.write(cladestogether)    \n",
    "        \n",
    "else:\n",
    "    output_matches = f\"{CYCOG}-taxa.tsv\"\n",
    "    template_file = \"taxa_template.txt\"\n",
    "    marker = \"taxa\"\n",
    "\n",
    "output_template_file = os.path.join(f'data/{CYCOG}/', f\"{CYCOG}-{marker}.txt\")\n",
    "if isolates_only == True:\n",
    "    output_template_file = os.path.join(f'data/{CYCOG}/', f\"{CYCOG}-{marker}-isolates.txt\")\n"
   ]
  },
  {
   "cell_type": "code",
   "execution_count": 30,
   "id": "83963cd1-3f4d-44b2-b552-bbafd00972b1",
   "metadata": {},
   "outputs": [
    {
     "name": "stdout",
     "output_type": "stream",
     "text": [
      "60000028-clade.tsv generated successfully.\n"
     ]
    }
   ],
   "source": [
    "# Use mapping_df to make tsv with leaf_IDs and clade or taxa labels\n",
    "with open(output_matches, 'w', newline='') as outfile:  # Use 'w' mode to create a new file\n",
    "    writer = csv.DictWriter(outfile, fieldnames=['ID', 'LABEL'], delimiter='\\t')\n",
    "    writer.writeheader()  # Write the header once at the beginning\n",
    "\n",
    "    for index, row in mapping_df.iterrows():\n",
    "        leaf_id = row['leaf_id']\n",
    "        clade = row['clade']\n",
    "\n",
    "        if pd.notna(clade):  # Check if clade is not NaN before using string methods\n",
    "            if clade_labeling == 1:\n",
    "                value = clade_lgnd.get(clade, '#FF66FD')  # Use default color if clade not found\n",
    "            else:\n",
    "                if clade.startswith((\"L\", \"H\", \"A\")):\n",
    "                    value = \"#8D99AE\"\n",
    "                elif clade[0].isdigit():\n",
    "                    value = \"#212529\"\n",
    "                else:\n",
    "                    value = \"#CA6702\"\n",
    "        else:\n",
    "            value = \"#CA6702\"  # Handle NaN clade case\n",
    "\n",
    "        writer.writerow({'ID': leaf_id, 'LABEL': value})\n",
    "\n",
    "print(output_matches, \"generated successfully.\")"
   ]
  },
  {
   "cell_type": "code",
   "execution_count": 31,
   "id": "4f3bcec9-3b9e-4b1d-8886-e1dbcc57dd82",
   "metadata": {},
   "outputs": [
    {
     "name": "stdout",
     "output_type": "stream",
     "text": [
      "60000028 clades annotation file generated successfully: data/60000028/60000028-clades-isolates.txt \n",
      "\n",
      "Old outputs removed to clean directory. To run this block again generate a new output_matches file.\n"
     ]
    }
   ],
   "source": [
    "# Join previously made tsv with template file to complete annotation file for iTOL\n",
    "# Read the content of the output file\n",
    "with open(output_matches, 'r') as output_f:\n",
    "    output_content = output_f.read()\n",
    "\n",
    "# Read the content of the template file and append the output content\n",
    "with open(template_file, 'r') as template_f:\n",
    "    template_content = template_f.read()\n",
    "    # Add a newline character between the template and output content\n",
    "    combined_content = template_content + \"\\n\" + output_content\n",
    "\n",
    "# Write the combined content to a new file\n",
    "with open(output_template_file, 'w') as combined_f:\n",
    "    combined_f.write(combined_content)\n",
    "\n",
    "if clade_labeling == 1:\n",
    "    os.remove('ones.txt')\n",
    "    os.remove('clade_template_fin.txt')\n",
    "\n",
    "print(CYCOG, marker, \"annotation file generated successfully:\", output_template_file, '\\n')\n",
    "os.remove(output_matches)\n",
    "print (\"Old outputs removed to clean directory. To run this block again generate a new output_matches file.\") \n",
    "# output_matches file used to produce this block's output is removed for directory cleaning.\n",
    "\n"
   ]
  },
  {
   "cell_type": "code",
   "execution_count": null,
   "id": "caa0594d-921f-40eb-a662-16771291bfcd",
   "metadata": {},
   "outputs": [],
   "source": []
  }
 ],
 "metadata": {
  "kernelspec": {
   "display_name": "Python 3 (ipykernel)",
   "language": "python",
   "name": "python3"
  },
  "language_info": {
   "codemirror_mode": {
    "name": "ipython",
    "version": 3
   },
   "file_extension": ".py",
   "mimetype": "text/x-python",
   "name": "python",
   "nbconvert_exporter": "python",
   "pygments_lexer": "ipython3",
   "version": "3.9.13"
  }
 },
 "nbformat": 4,
 "nbformat_minor": 5
}
