{
 "cells": [
  {
   "cell_type": "markdown",
   "id": "9e84c4a5-8572-4c73-99c1-d03d2202619c",
   "metadata": {},
   "source": [
    "## Generate annotation file tagging genome name with presence of specified CyCOG"
   ]
  },
  {
   "cell_type": "markdown",
   "id": "40cc6104-2073-4ba1-8e1e-9284f736ac92",
   "metadata": {},
   "source": [
    "This notebook is made to check the presence of CyCOGs within species trees of groups of cyanobacteria. The other notebook makes gene trees, this notebook makes labels to check the gene within premade species trees."
   ]
  },
  {
   "cell_type": "code",
   "execution_count": 2,
   "id": "4a244d5e-3690-4267-8f6a-b33a3d8840fb",
   "metadata": {},
   "outputs": [],
   "source": [
    "from matplotlib import pyplot as plt\n",
    "import os\n",
    "import matplotlib as mpl\n",
    "import numpy as np\n",
    "import pandas as pd\n",
    "import copy\n",
    "import csv\n",
    "from collections import Counter\n",
    "from Bio import Phylo\n"
   ]
  },
  {
   "cell_type": "code",
   "execution_count": 2,
   "id": "121e9c91-6cee-45a0-b7f6-46542c9b91ae",
   "metadata": {},
   "outputs": [],
   "source": [
    "# Set dependencies\n",
    "REFS = '../data/genomes/'\n",
    "CYCOGS = 'data/0/serralysin_cycog_references.csv'\n",
    "CYCOG_LIST = 'data/0/cycogs.tsv'\n",
    "GENOMES = 'data/0/cycogsgenomes.tsv'\n",
    "CLADE_MAP = 'data/0/updated-genome-clades.csv'\n",
    "SEQ = \"faa\"\n"
   ]
  },
  {
   "cell_type": "code",
   "execution_count": 5,
   "id": "1cae8152-bc0b-4019-9205-fd4988bb5f39",
   "metadata": {},
   "outputs": [],
   "source": [
    "# Pick CyCOG to generate labels for\n",
    "CYCOG = 60000046"
   ]
  },
  {
   "cell_type": "code",
   "execution_count": null,
   "id": "918f957f-b847-40ab-abdf-616b8259b8b1",
   "metadata": {},
   "outputs": [],
   "source": [
    "# 1 & 2: extract protein IDs and associated genome names for all proteins in the CyCOG\n",
    "cycog_df = pd.read_csv(CYCOG_LIST, sep=\"\\t\")\n",
    "protein_ids = [] # empty list to store protein IDs\n",
    "for i, row in cycog_df.iterrows(): # searches through rows in cycogs.tsv\n",
    "    if CYCOG == int(row['cycog_iid'].split('_')[1]):\n",
    "        print(row)\n",
    "        protein_list = row['cycog_genes'].split(',')\n",
    "label_df = pd.DataFrame(protein_list, columns=['protein_id']) # make a dataframe with a protein_id column\n",
    "# check out rsplit documentation: https://pandas.pydata.org/pandas-docs/stable/reference/api/pandas.Series.str.rsplit.html#pandas.Series.str.rsplit\n",
    "label_df[['genome_name', 'gene_id']] = label_df['protein_id'].str.rsplit(pat='_', n=1, expand=True) # add new columns to the dataframe, the two components of\n",
    "# protein_id separated using the underscore\n",
    "\n",
    "# 3: join genome id on genome name\n",
    "genomes_df = pd.read_csv(GENOMES, sep='\\t') # reading in a new dataframe with genome data\n",
    "label_df = pd.merge(label_df, genomes_df, left_on='genome_name', right_on='IID', how='left') # merging the two dataframes based on the genome_name in the\n",
    "# label_df and the IID in the genomes_df, which should match\n",
    "\n",
    "# 4: join clade on genome id\n",
    "clade_df = pd.read_csv(CLADE_MAP) # read in new dataframe with genome IDs and clade information\n",
    "label_df = pd.merge(label_df, clade_df, left_on='IMG_ID', right_on='IMGGenomeID', how='left') # merge dataframes matching IMG_ID with IMGGENOMEID\n",
    "\n",
    "label_df"
   ]
  },
  {
   "cell_type": "code",
   "execution_count": null,
   "id": "fbd67768-526f-47b3-82cb-3b72b2dbcad9",
   "metadata": {},
   "outputs": [],
   "source": [
    "# write a tsv with all of the genome names as leaf IDs and the label as a universal shape\n",
    "cycog_check = f\"{CYCOG}-check.tsv\"\n",
    "with open(cycog_check, 'w', newline='') as outfile:  # Use 'w' mode to create a new file\n",
    "    writer = csv.DictWriter(outfile, fieldnames=['ID', 'LABEL'], delimiter='\\t')\n",
    "    writer.writeheader()  # Write the header once at the beginning\n",
    "    for genome in label_df['genome_name']:\n",
    "        writer.writerow({'ID': genome, 'LABEL': '1'})"
   ]
  },
  {
   "cell_type": "code",
   "execution_count": null,
   "id": "2b2cb579-e6d6-4ec9-9148-26b4362a0536",
   "metadata": {},
   "outputs": [],
   "source": [
    "# write small files to use in eventual output file\n",
    "with open(\"lgnd.txt\", \"w\") as f:\n",
    "    f.write(f'DATASET_LABEL\\t{CYCOG}')\n",
    "with open(\"title.txt\", \"w\") as g:\n",
    "    g.write(f'LEGEND_TITLE\\t{CYCOG}')"
   ]
  },
  {
   "cell_type": "code",
   "execution_count": null,
   "id": "bb28a152-8d5a-4769-930b-3905b14121d2",
   "metadata": {},
   "outputs": [],
   "source": [
    "file_list = ['genelabel_temp1.txt', 'lgnd.txt', 'genelabel_temp3.txt', 'title.txt', 'genelabel_temp5.txt', cycog_check]\n",
    "output_file = os.path.join(f'data/{CYCOG}/', f'{CYCOG}_labels.txt')\n",
    "with open(output_file, 'w') as outfile:\n",
    "    for fname in file_list:\n",
    "        with open(fname, 'r') as infile:\n",
    "            outfile.write(infile.read())\n",
    "            outfile.write('\\n')\n",
    "os.remove('lgnd.txt')\n",
    "os.remove('title.txt')\n",
    "os.remove(cycog_check)"
   ]
  },
  {
   "cell_type": "markdown",
   "id": "7e239776-11a0-4f05-a428-65b36b538446",
   "metadata": {},
   "source": [
    "# Prune genomic trees to only include branches in the Berube et al (2018) reference genomes\n",
    "Below this point, code is not to be continuously used. This code is meant to be used once or a couple times (with small edits) to prune given trees or generate clade labels for species trees.\n",
    "\n",
    "## Inputs: \n",
    "- Newick files of genome phylogenies (from Paul)\n",
    "- Names of genomes in CyCOGv6\n",
    "- Clades of genomes in CyCOGv6\n",
    "\n",
    "## Outputs:\n",
    "- Pruned newick files of genome phylogenies\n",
    "- Label files for visualizing pruned phylogenies\n"
   ]
  },
  {
   "cell_type": "code",
   "execution_count": 3,
   "id": "dbef1657-02e1-44f2-8056-6958b64f5465",
   "metadata": {},
   "outputs": [],
   "source": [
    "# input files\n",
    "\n",
    "GENOMES = 'data/0/cycogsgenomes.tsv'\n",
    "CLADE_MAP = 'data/0/updated-genome-clades.csv'"
   ]
  },
  {
   "cell_type": "code",
   "execution_count": 4,
   "id": "d4facc03-7a30-4695-ab25-59a724e516f8",
   "metadata": {},
   "outputs": [
    {
     "data": {
      "text/html": [
       "<div>\n",
       "<style scoped>\n",
       "    .dataframe tbody tr th:only-of-type {\n",
       "        vertical-align: middle;\n",
       "    }\n",
       "\n",
       "    .dataframe tbody tr th {\n",
       "        vertical-align: top;\n",
       "    }\n",
       "\n",
       "    .dataframe thead th {\n",
       "        text-align: right;\n",
       "    }\n",
       "</style>\n",
       "<table border=\"1\" class=\"dataframe\">\n",
       "  <thead>\n",
       "    <tr style=\"text-align: right;\">\n",
       "      <th></th>\n",
       "      <th>IID</th>\n",
       "      <th>GROUP</th>\n",
       "      <th>IMG_ID</th>\n",
       "      <th>TYPE</th>\n",
       "      <th>JGI_GENOMEPORTAL_NAME</th>\n",
       "      <th>Completeness</th>\n",
       "      <th>IMGGenomeID</th>\n",
       "      <th>UpdatedIMGGenomeID</th>\n",
       "      <th>Clade</th>\n",
       "    </tr>\n",
       "  </thead>\n",
       "  <tbody>\n",
       "    <tr>\n",
       "      <th>0</th>\n",
       "      <td>AG-311-D23</td>\n",
       "      <td>Prochlorococcus</td>\n",
       "      <td>2716884681</td>\n",
       "      <td>SAG</td>\n",
       "      <td>Uncultured_Prochlorococcus_sp._AG-311-D23</td>\n",
       "      <td>72.96</td>\n",
       "      <td>2.716885e+09</td>\n",
       "      <td>2.716885e+09</td>\n",
       "      <td>LLI</td>\n",
       "    </tr>\n",
       "    <tr>\n",
       "      <th>1</th>\n",
       "      <td>AG-311-I02</td>\n",
       "      <td>Prochlorococcus</td>\n",
       "      <td>2716884682</td>\n",
       "      <td>SAG</td>\n",
       "      <td>Uncultured_Prochlorococcus_sp._AG-311-I02</td>\n",
       "      <td>11.16</td>\n",
       "      <td>2.716885e+09</td>\n",
       "      <td>2.716885e+09</td>\n",
       "      <td>LLI</td>\n",
       "    </tr>\n",
       "    <tr>\n",
       "      <th>2</th>\n",
       "      <td>AG-311-I09</td>\n",
       "      <td>Prochlorococcus</td>\n",
       "      <td>2716884683</td>\n",
       "      <td>SAG</td>\n",
       "      <td>Uncultured_Prochlorococcus_sp._AG-311-I09</td>\n",
       "      <td>47.41</td>\n",
       "      <td>2.716885e+09</td>\n",
       "      <td>2.716885e+09</td>\n",
       "      <td>HLI</td>\n",
       "    </tr>\n",
       "    <tr>\n",
       "      <th>3</th>\n",
       "      <td>AG-311-J05</td>\n",
       "      <td>Prochlorococcus</td>\n",
       "      <td>2716884684</td>\n",
       "      <td>SAG</td>\n",
       "      <td>Uncultured_Prochlorococcus_sp._AG-311-J05</td>\n",
       "      <td>34.64</td>\n",
       "      <td>2.716885e+09</td>\n",
       "      <td>2.716885e+09</td>\n",
       "      <td>HLI</td>\n",
       "    </tr>\n",
       "    <tr>\n",
       "      <th>4</th>\n",
       "      <td>AG-311-J23</td>\n",
       "      <td>Prochlorococcus</td>\n",
       "      <td>2716884685</td>\n",
       "      <td>SAG</td>\n",
       "      <td>Uncultured_Prochlorococcus_sp._AG-311-J23</td>\n",
       "      <td>77.90</td>\n",
       "      <td>2.716885e+09</td>\n",
       "      <td>2.716885e+09</td>\n",
       "      <td>LLI</td>\n",
       "    </tr>\n",
       "    <tr>\n",
       "      <th>...</th>\n",
       "      <td>...</td>\n",
       "      <td>...</td>\n",
       "      <td>...</td>\n",
       "      <td>...</td>\n",
       "      <td>...</td>\n",
       "      <td>...</td>\n",
       "      <td>...</td>\n",
       "      <td>...</td>\n",
       "      <td>...</td>\n",
       "    </tr>\n",
       "    <tr>\n",
       "      <th>765</th>\n",
       "      <td>S-ShM2</td>\n",
       "      <td>Virus</td>\n",
       "      <td>651703106</td>\n",
       "      <td>ISOLATE</td>\n",
       "      <td>Synechococcus_phage_S-ShM2</td>\n",
       "      <td>0.00</td>\n",
       "      <td>NaN</td>\n",
       "      <td>NaN</td>\n",
       "      <td>NaN</td>\n",
       "    </tr>\n",
       "    <tr>\n",
       "      <th>766</th>\n",
       "      <td>Syn19</td>\n",
       "      <td>Virus</td>\n",
       "      <td>651703107</td>\n",
       "      <td>ISOLATE</td>\n",
       "      <td>Synechococcus_phage_Syn19</td>\n",
       "      <td>0.00</td>\n",
       "      <td>NaN</td>\n",
       "      <td>NaN</td>\n",
       "      <td>NaN</td>\n",
       "    </tr>\n",
       "    <tr>\n",
       "      <th>767</th>\n",
       "      <td>Syn5</td>\n",
       "      <td>Virus</td>\n",
       "      <td>641201056</td>\n",
       "      <td>ISOLATE</td>\n",
       "      <td>Synechococcus_phage_Syn5</td>\n",
       "      <td>0.00</td>\n",
       "      <td>NaN</td>\n",
       "      <td>NaN</td>\n",
       "      <td>NaN</td>\n",
       "    </tr>\n",
       "    <tr>\n",
       "      <th>768</th>\n",
       "      <td>metaG-MbCM1</td>\n",
       "      <td>Virus</td>\n",
       "      <td>2595698410</td>\n",
       "      <td>ISOLATE</td>\n",
       "      <td>Synechococcus_phage_metaG-MbCM1</td>\n",
       "      <td>0.00</td>\n",
       "      <td>NaN</td>\n",
       "      <td>NaN</td>\n",
       "      <td>NaN</td>\n",
       "    </tr>\n",
       "    <tr>\n",
       "      <th>769</th>\n",
       "      <td>Syn9</td>\n",
       "      <td>Virus</td>\n",
       "      <td>638275565</td>\n",
       "      <td>ISOLATE</td>\n",
       "      <td>Synechococcus_phage_syn9</td>\n",
       "      <td>0.00</td>\n",
       "      <td>NaN</td>\n",
       "      <td>NaN</td>\n",
       "      <td>NaN</td>\n",
       "    </tr>\n",
       "  </tbody>\n",
       "</table>\n",
       "<p>770 rows × 9 columns</p>\n",
       "</div>"
      ],
      "text/plain": [
       "             IID            GROUP      IMG_ID     TYPE  \\\n",
       "0     AG-311-D23  Prochlorococcus  2716884681      SAG   \n",
       "1     AG-311-I02  Prochlorococcus  2716884682      SAG   \n",
       "2     AG-311-I09  Prochlorococcus  2716884683      SAG   \n",
       "3     AG-311-J05  Prochlorococcus  2716884684      SAG   \n",
       "4     AG-311-J23  Prochlorococcus  2716884685      SAG   \n",
       "..           ...              ...         ...      ...   \n",
       "765       S-ShM2            Virus   651703106  ISOLATE   \n",
       "766        Syn19            Virus   651703107  ISOLATE   \n",
       "767         Syn5            Virus   641201056  ISOLATE   \n",
       "768  metaG-MbCM1            Virus  2595698410  ISOLATE   \n",
       "769         Syn9            Virus   638275565  ISOLATE   \n",
       "\n",
       "                         JGI_GENOMEPORTAL_NAME  Completeness   IMGGenomeID  \\\n",
       "0    Uncultured_Prochlorococcus_sp._AG-311-D23         72.96  2.716885e+09   \n",
       "1    Uncultured_Prochlorococcus_sp._AG-311-I02         11.16  2.716885e+09   \n",
       "2    Uncultured_Prochlorococcus_sp._AG-311-I09         47.41  2.716885e+09   \n",
       "3    Uncultured_Prochlorococcus_sp._AG-311-J05         34.64  2.716885e+09   \n",
       "4    Uncultured_Prochlorococcus_sp._AG-311-J23         77.90  2.716885e+09   \n",
       "..                                         ...           ...           ...   \n",
       "765                 Synechococcus_phage_S-ShM2          0.00           NaN   \n",
       "766                  Synechococcus_phage_Syn19          0.00           NaN   \n",
       "767                   Synechococcus_phage_Syn5          0.00           NaN   \n",
       "768            Synechococcus_phage_metaG-MbCM1          0.00           NaN   \n",
       "769                   Synechococcus_phage_syn9          0.00           NaN   \n",
       "\n",
       "     UpdatedIMGGenomeID Clade  \n",
       "0          2.716885e+09   LLI  \n",
       "1          2.716885e+09   LLI  \n",
       "2          2.716885e+09   HLI  \n",
       "3          2.716885e+09   HLI  \n",
       "4          2.716885e+09   LLI  \n",
       "..                  ...   ...  \n",
       "765                 NaN   NaN  \n",
       "766                 NaN   NaN  \n",
       "767                 NaN   NaN  \n",
       "768                 NaN   NaN  \n",
       "769                 NaN   NaN  \n",
       "\n",
       "[770 rows x 9 columns]"
      ]
     },
     "execution_count": 4,
     "metadata": {},
     "output_type": "execute_result"
    }
   ],
   "source": [
    "# read in data\n",
    "\n",
    "genomes_df = pd.read_csv(GENOMES, sep='\\t')\n",
    "clade_df = pd.read_csv(CLADE_MAP)\n",
    "# merge dataframes matching IMG_ID with IMGGENOMEID\n",
    "label_df = pd.merge(genomes_df, clade_df, left_on='IMG_ID', right_on='IMGGenomeID', how='left') \n",
    "\n",
    "label_df"
   ]
  },
  {
   "cell_type": "code",
   "execution_count": 5,
   "id": "0fdf2c21-4f84-4842-bf99-6a07e782d4e9",
   "metadata": {},
   "outputs": [],
   "source": [
    "# read in the genome phylogenies\n",
    "\n",
    "hl_tree = Phylo.read('data/0/phylogeny/trees/HLprochlorococcus_5PERCto424cycogs_50percgaps_100boot_barnacle.nwk', 'newick')\n",
    "ll_tree = Phylo.read('data/0/phylogeny/trees/LLprochlorococcus_5PERCto424cycogs_50percgaps_100boot_barnacle.nwk', 'newick')\n",
    "syn_tree = Phylo.read('data/0/phylogeny/trees/synechococcus_5PERCto424cycogs_50percgaps_100boot_barnacle.nwk', 'newick')\n"
   ]
  },
  {
   "cell_type": "code",
   "execution_count": 9,
   "id": "d97a1ecb-4fb9-4508-b8fa-d3e62019bee8",
   "metadata": {},
   "outputs": [
    {
     "name": "stdout",
     "output_type": "stream",
     "text": [
      "Tree saved to data/0/phylogeny/trees/ll_pruned.newick\n"
     ]
    }
   ],
   "source": [
    "# prune leaves from tree that aren't in CyCOGv6\n",
    "# Phylo submodule of biopython: https://biopython.org/wiki/Phylo\n",
    "# Tree.prune() method: https://biopython.org/docs/dev/api/Bio.Phylo.BaseTree.html#Bio.Phylo.BaseTree.TreeMixin.prune\n",
    "# tutorial that mentions prune(): https://biopython-tutorial.readthedocs.io/en/latest/notebooks/13%20-%20Phylogenetics%20with%20Bio.Phylo.html\n",
    "\n",
    "# Make a deep copy of the syn_tree\n",
    "tree_copy = copy.deepcopy(ll_tree) # could be ll_tree, hl_tree or syn_tree\n",
    "\n",
    "# Prune the tree based on the condition\n",
    "for leaf in tree_copy.get_terminals():\n",
    "    if leaf.name not in label_df['IID'].tolist():\n",
    "        tree_copy.prune(leaf.name)\n",
    "\n",
    "# Define the output file path\n",
    "output_file = 'data/0/phylogeny/trees/ll_pruned.newick' # change basename if needed\n",
    "\n",
    "# Write the pruned tree to the file in Newick format\n",
    "Phylo.write(tree_copy, output_file, 'newick')\n",
    "\n",
    "print(f'Tree saved to {output_file}')\n"
   ]
  },
  {
   "cell_type": "markdown",
   "id": "e010837b-a6c6-4a39-a2d4-67e355b592fa",
   "metadata": {},
   "source": [
    "# Generate label file for clades"
   ]
  },
  {
   "cell_type": "code",
   "execution_count": null,
   "id": "3760b58f-b519-4cda-8cac-408417a380a2",
   "metadata": {},
   "outputs": [],
   "source": [
    "# make lists of clades in each tree\n",
    "\n",
    "genome_lists = {\n",
    "    'HL': [], 'LL':[], 'Syn': []\n",
    "}\n",
    "for group in ['HL', 'LL', 'Syn']:\n",
    "    # pull out appropriate tree\n",
    "    tree = {'HL': hl_tree, 'LL':ll_tree, 'Syn': syn_tree}[group]\n",
    "    # get list of genome names (leaves)\n",
    "    genomes = []\n",
    "    for leaf in tree.get_terminals():\n",
    "        genomes.append(leaf.name)\n",
    "    genome_lists[group] = genomes\n",
    "\n",
    "syn_clades = label_df[label_df.IID.isin(genome_lists['Syn'])].Clade.unique()\n",
    "ll_clades = label_df[label_df.IID.isin(genome_lists['LL'])].Clade.unique()\n",
    "hl_clades = label_df[label_df.IID.isin(genome_lists['HL'])].Clade.unique()"
   ]
  },
  {
   "cell_type": "code",
   "execution_count": 49,
   "id": "2b45446c-fe36-4eaa-af77-5625fdf51056",
   "metadata": {},
   "outputs": [
    {
     "data": {
      "text/plain": [
       "array(['HLI', 'HLIII', 'HLII', 'HLVI', 'HLII.HLVI', 'HLIV'], dtype=object)"
      ]
     },
     "execution_count": 49,
     "metadata": {},
     "output_type": "execute_result"
    }
   ],
   "source": [
    "# use line below to remove clades that don't belong in the taxa (there initially as an outgroup)\n",
    "# hl_clades = np.delete(hl_clades, 5)\n",
    "\n",
    "hl_clades"
   ]
  },
  {
   "cell_type": "code",
   "execution_count": 12,
   "id": "a85e8ac9-a40c-460f-8148-2160b7180819",
   "metadata": {},
   "outputs": [],
   "source": [
    "# universal color legend so clades aren't mixed up between trees\n",
    "clade_lgnd = {\n",
    "    \"5.2\": \"#003D30\", \"5.3\": \"#00E5F8\", \"5.1A-CRD2\": \"#5A0A33\", \"5.1A-II\": \"#005745\", \"5.1A-III\": \"#810D49\", \"5.1A-IV\": \"#00735C\",\n",
    "    \"5.1A-UC-A-EnvC\": \"#AB0D61\", \"5.1A-unclassified\": \"#009175\", \"5.1A-WPC1\": \"#D80D7B\", \"5.1B-CRD1\": \"#00AF8E\", \"5.1B-I\": \"#FF2E95\", \n",
    "    \"5.1B-IX\": \"#00CBA7\", \"5.1B-V\": \"#FF78AD\", \"5.1B-VI\": \"#00EBC1\", \"5.1B-VIII\": \"#FFACC6\", \"HLI\": \"#86FFDE\", \"HLII\": \"#FFD7E1\",\n",
    "    \"HLII.HLVI\": \"#00306F\", \"HLIII\": \"#460B70\", \"HLIII.HLIV.HLV\": \"#00489E\", \"HLIV\": \"#6B069F\", \"HLVI\": \"#005FCC\", \"LLI\": \"#8E06CD\",\n",
    "    \"LLI.LLVIII\": \"#0079FA\", \"LLI.LLIII\": \"#B40AFC\", \"LLIV\": \"#009FFA\", \"LLVII\": \"#ED0DFD\", \"LLVIII\": \"#00C2F9\", \"Blank\": \"#FF66FD\",\n",
    "    \"\": \"#FF66FD\", \"LLII.LLIII\": \"#CDE494\", \"Unclassified\": \"#FF66FD\", \"AMZ-II\": \"#AA8F66\"\n",
    "}"
   ]
  },
  {
   "cell_type": "markdown",
   "id": "30b18462-b76e-4721-8659-9076ca7c5d66",
   "metadata": {},
   "source": [
    "##### To generate clade labels, this code below can be re-ran for the three groups of cyanobacteria."
   ]
  },
  {
   "cell_type": "code",
   "execution_count": 51,
   "id": "e232a00c-4205-4a5b-a61a-230699f4b561",
   "metadata": {},
   "outputs": [
    {
     "name": "stdout",
     "output_type": "stream",
     "text": [
      "{'HLI': '#86FFDE', 'HLIII': '#460B70', 'HLII': '#FFD7E1', 'HLVI': '#005FCC', 'HLII.HLVI': '#00306F', 'HLIV': '#6B069F'}\n"
     ]
    }
   ],
   "source": [
    "# making a legend with only necessary clades. Can overwrite variable when done with previous version.\n",
    "filtered_clade_lgnd = {key: clade_lgnd[key] for key in hl_clades if key in clade_lgnd}\n",
    "\n",
    "print(filtered_clade_lgnd)"
   ]
  },
  {
   "cell_type": "code",
   "execution_count": 52,
   "id": "fa6eff09-bc7f-4285-bcce-6c697fa2aeb2",
   "metadata": {},
   "outputs": [],
   "source": [
    "output_matches = \"species_clade.tsv\"\n",
    "template_file = \"clade_template_fin.txt\"\n",
    "marker = \"clades\"\n",
    "f = open(\"ones.txt\", \"w\")\n",
    "g = open(\"clades.txt\", \"w\")\n",
    "h = open(\"labels.txt\", \"w\")\n",
    "f.write('LEGEND_SHAPES\\t')\n",
    "for key, value in filtered_clade_lgnd.items():\n",
    "    f.write('1\\t')\n",
    "    g.write(f'{key}\\t')\n",
    "    h.write(f'{value}\\t')\n",
    "f.close()\n",
    "g.close()\n",
    "h.close()\n",
    "\n",
    "f = open(\"ones.txt\", \"a+\")\n",
    "g = open(\"clades.txt\", \"r\")\n",
    "h = open(\"labels.txt\", \"r\")\n",
    "\n",
    "f.write(f'\\nLEGEND_LABELS\\t{g.read()}')\n",
    "f.write(f'\\nLEGEND_COLORS\\t{h.read()}')\n",
    "\n",
    "# Close all files\n",
    "f.close()\n",
    "g.close()\n",
    "h.close()\n",
    "os.remove('clades.txt')\n",
    "os.remove('labels.txt')\n",
    "with open('clade-template1.txt', 'r') as clade1:\n",
    "    content1 = clade1.read()\n",
    "with open('ones.txt', 'r') as clade2:\n",
    "    content2 = clade2.read()\n",
    "with open('clade-template3.txt', 'r') as clade3:\n",
    "    content3 = clade3.read()\n",
    "\n",
    "# Concatenate the contents with newline characters\n",
    "cladestogether = content1 + \"\\n\" + content2 + '\\n' + content3\n",
    "\n",
    "# Write the combined content to a new file\n",
    "with open('clade_template_fin.txt', 'w') as template_clade:\n",
    "    template_clade.write(cladestogether)   "
   ]
  },
  {
   "cell_type": "code",
   "execution_count": 53,
   "id": "d4f1c26c-6410-4640-97fe-9fdb61b6db86",
   "metadata": {},
   "outputs": [
    {
     "name": "stdout",
     "output_type": "stream",
     "text": [
      "syn_clade.tsv generated successfully.\n"
     ]
    }
   ],
   "source": [
    "# Use mapping_df to make tsv with leaf_IDs and clade or taxa labels\n",
    "with open(output_matches, 'w', newline='') as outfile:  # Use 'w' mode to create a new file\n",
    "    writer = csv.DictWriter(outfile, fieldnames=['ID', 'LABEL'], delimiter='\\t')\n",
    "    writer.writeheader()  # Write the header once at the beginning\n",
    "\n",
    "    for index, row in label_df.iterrows():\n",
    "        leaf_id = row['IID']\n",
    "        clade = row['Clade']\n",
    "        if clade in hl_clades:\n",
    "            if pd.notna(clade):  # Check if clade is not NaN before using string methods\n",
    "                value = clade_lgnd.get(clade, '#FF66FD')  # Use default color if clade not found\n",
    "            else:\n",
    "                value = \"#CA6702\"  # Handle NaN clade case\n",
    "    \n",
    "            writer.writerow({'ID': leaf_id, 'LABEL': value})\n",
    "\n",
    "print(output_matches, \"generated successfully.\")\n"
   ]
  },
  {
   "cell_type": "code",
   "execution_count": 54,
   "id": "fd2e2d57-a43a-4055-a4e6-c9b8b5992aa6",
   "metadata": {},
   "outputs": [
    {
     "name": "stdout",
     "output_type": "stream",
     "text": [
      "annotation file generated successfully: hl_species_clades.txt \n",
      "\n",
      "Old outputs removed to clean directory. To run this block again generate a new output_matches file.\n"
     ]
    }
   ],
   "source": [
    "# Join previously made tsv with template file to complete annotation file for iTOL\n",
    "# Read the content of the output file\n",
    "output_template_file = ('hl_species_clades.txt')\n",
    "with open(output_matches, 'r') as output_f:\n",
    "    output_content = output_f.read()\n",
    "\n",
    "# Read the content of the template file and append the output content\n",
    "with open(template_file, 'r') as template_f:\n",
    "    template_content = template_f.read()\n",
    "    # Add a newline character between the template and output content\n",
    "    combined_content = template_content + \"\\n\" + output_content\n",
    "\n",
    "# Write the combined content to a new file\n",
    "with open(output_template_file, 'w') as combined_f:\n",
    "    combined_f.write(combined_content)\n",
    "\n",
    "os.remove('ones.txt')\n",
    "os.remove('clade_template_fin.txt')\n",
    "\n",
    "print(\"annotation file generated successfully:\", output_template_file, '\\n')\n",
    "os.remove(output_matches)\n",
    "print (\"Old outputs removed to clean directory. To run this block again generate a new output_matches file.\") \n",
    "# output_matches file used to produce this block's output is removed for directory cleaning.\n",
    "\n"
   ]
  }
 ],
 "metadata": {
  "kernelspec": {
   "display_name": "Python 3 (ipykernel)",
   "language": "python",
   "name": "python3"
  },
  "language_info": {
   "codemirror_mode": {
    "name": "ipython",
    "version": 3
   },
   "file_extension": ".py",
   "mimetype": "text/x-python",
   "name": "python",
   "nbconvert_exporter": "python",
   "pygments_lexer": "ipython3",
   "version": "3.9.13"
  }
 },
 "nbformat": 4,
 "nbformat_minor": 5
}
