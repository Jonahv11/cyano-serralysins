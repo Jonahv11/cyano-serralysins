{
 "cells": [
  {
   "cell_type": "code",
   "execution_count": 1,
   "id": "00a19b0e-3796-41d3-89aa-891809777b4a",
   "metadata": {},
   "outputs": [],
   "source": [
    "import os\n",
    "import numpy as np\n",
    "import pandas as pd\n",
    "import csv"
   ]
  },
  {
   "cell_type": "code",
   "execution_count": 8,
   "id": "9040870d-71aa-474a-8c0c-5d71ceafcb36",
   "metadata": {},
   "outputs": [
    {
     "name": "stdout",
     "output_type": "stream",
     "text": [
      "    genome_id     contig_id    start      end\n",
      "0  AG-311-I09  AG-311-I09_c   278697   291980\n",
      "1  AG-311-I09  AG-311-I09_c   357521   402907\n",
      "2  AG-311-I09  AG-311-I09_c   658277   702729\n",
      "3  AG-311-I09  AG-311-I09_c   765104   871496\n",
      "4  AG-311-I09  AG-311-I09_c  1088878  1101236\n"
     ]
    }
   ],
   "source": [
    "datapath = ('data/0/1-s2.0-S0092867422015197-mmc2.csv')\n",
    "data = pd.read_csv(datapath)\n",
    "print (data.head())"
   ]
  },
  {
   "cell_type": "code",
   "execution_count": 90,
   "id": "b00b33f3-aacb-4735-bc9a-3d98c38a68d6",
   "metadata": {},
   "outputs": [
    {
     "data": {
      "text/html": [
       "<div>\n",
       "<style scoped>\n",
       "    .dataframe tbody tr th:only-of-type {\n",
       "        vertical-align: middle;\n",
       "    }\n",
       "\n",
       "    .dataframe tbody tr th {\n",
       "        vertical-align: top;\n",
       "    }\n",
       "\n",
       "    .dataframe thead th {\n",
       "        text-align: right;\n",
       "    }\n",
       "</style>\n",
       "<table border=\"1\" class=\"dataframe\">\n",
       "  <thead>\n",
       "    <tr style=\"text-align: right;\">\n",
       "      <th></th>\n",
       "      <th>genome_id</th>\n",
       "      <th>contig_id</th>\n",
       "      <th>start</th>\n",
       "      <th>end</th>\n",
       "    </tr>\n",
       "  </thead>\n",
       "  <tbody>\n",
       "    <tr>\n",
       "      <th>871</th>\n",
       "      <td>MED4</td>\n",
       "      <td>MED4_1</td>\n",
       "      <td>323821</td>\n",
       "      <td>368220</td>\n",
       "    </tr>\n",
       "    <tr>\n",
       "      <th>872</th>\n",
       "      <td>MED4</td>\n",
       "      <td>MED4_1</td>\n",
       "      <td>1306399</td>\n",
       "      <td>1367064</td>\n",
       "    </tr>\n",
       "    <tr>\n",
       "      <th>873</th>\n",
       "      <td>MED4</td>\n",
       "      <td>MED4_1</td>\n",
       "      <td>620091</td>\n",
       "      <td>628378</td>\n",
       "    </tr>\n",
       "    <tr>\n",
       "      <th>874</th>\n",
       "      <td>MED4</td>\n",
       "      <td>MED4_1</td>\n",
       "      <td>653240</td>\n",
       "      <td>702447</td>\n",
       "    </tr>\n",
       "    <tr>\n",
       "      <th>875</th>\n",
       "      <td>MED4</td>\n",
       "      <td>MED4_1</td>\n",
       "      <td>762769</td>\n",
       "      <td>774459</td>\n",
       "    </tr>\n",
       "    <tr>\n",
       "      <th>876</th>\n",
       "      <td>MED4</td>\n",
       "      <td>MED4_1</td>\n",
       "      <td>804368</td>\n",
       "      <td>826283</td>\n",
       "    </tr>\n",
       "    <tr>\n",
       "      <th>877</th>\n",
       "      <td>MED4</td>\n",
       "      <td>MED4_1</td>\n",
       "      <td>914516</td>\n",
       "      <td>973394</td>\n",
       "    </tr>\n",
       "    <tr>\n",
       "      <th>878</th>\n",
       "      <td>MED4</td>\n",
       "      <td>MED4_1</td>\n",
       "      <td>979511</td>\n",
       "      <td>984734</td>\n",
       "    </tr>\n",
       "    <tr>\n",
       "      <th>879</th>\n",
       "      <td>MED4</td>\n",
       "      <td>MED4_1</td>\n",
       "      <td>1060080</td>\n",
       "      <td>1087933</td>\n",
       "    </tr>\n",
       "    <tr>\n",
       "      <th>880</th>\n",
       "      <td>MED4</td>\n",
       "      <td>MED4_1</td>\n",
       "      <td>1152143</td>\n",
       "      <td>1214874</td>\n",
       "    </tr>\n",
       "  </tbody>\n",
       "</table>\n",
       "</div>"
      ],
      "text/plain": [
       "    genome_id contig_id    start      end\n",
       "871      MED4    MED4_1   323821   368220\n",
       "872      MED4    MED4_1  1306399  1367064\n",
       "873      MED4    MED4_1   620091   628378\n",
       "874      MED4    MED4_1   653240   702447\n",
       "875      MED4    MED4_1   762769   774459\n",
       "876      MED4    MED4_1   804368   826283\n",
       "877      MED4    MED4_1   914516   973394\n",
       "878      MED4    MED4_1   979511   984734\n",
       "879      MED4    MED4_1  1060080  1087933\n",
       "880      MED4    MED4_1  1152143  1214874"
      ]
     },
     "metadata": {},
     "output_type": "display_data"
    },
    {
     "data": {
      "text/html": [
       "<div>\n",
       "<style scoped>\n",
       "    .dataframe tbody tr th:only-of-type {\n",
       "        vertical-align: middle;\n",
       "    }\n",
       "\n",
       "    .dataframe tbody tr th {\n",
       "        vertical-align: top;\n",
       "    }\n",
       "\n",
       "    .dataframe thead th {\n",
       "        text-align: right;\n",
       "    }\n",
       "</style>\n",
       "<table border=\"1\" class=\"dataframe\">\n",
       "  <thead>\n",
       "    <tr style=\"text-align: right;\">\n",
       "      <th></th>\n",
       "      <th>start</th>\n",
       "      <th>end</th>\n",
       "    </tr>\n",
       "  </thead>\n",
       "  <tbody>\n",
       "    <tr>\n",
       "      <th>871</th>\n",
       "      <td>323821</td>\n",
       "      <td>368220</td>\n",
       "    </tr>\n",
       "    <tr>\n",
       "      <th>872</th>\n",
       "      <td>1306399</td>\n",
       "      <td>1367064</td>\n",
       "    </tr>\n",
       "    <tr>\n",
       "      <th>873</th>\n",
       "      <td>620091</td>\n",
       "      <td>628378</td>\n",
       "    </tr>\n",
       "    <tr>\n",
       "      <th>874</th>\n",
       "      <td>653240</td>\n",
       "      <td>702447</td>\n",
       "    </tr>\n",
       "    <tr>\n",
       "      <th>875</th>\n",
       "      <td>762769</td>\n",
       "      <td>774459</td>\n",
       "    </tr>\n",
       "    <tr>\n",
       "      <th>876</th>\n",
       "      <td>804368</td>\n",
       "      <td>826283</td>\n",
       "    </tr>\n",
       "    <tr>\n",
       "      <th>877</th>\n",
       "      <td>914516</td>\n",
       "      <td>973394</td>\n",
       "    </tr>\n",
       "    <tr>\n",
       "      <th>878</th>\n",
       "      <td>979511</td>\n",
       "      <td>984734</td>\n",
       "    </tr>\n",
       "    <tr>\n",
       "      <th>879</th>\n",
       "      <td>1060080</td>\n",
       "      <td>1087933</td>\n",
       "    </tr>\n",
       "    <tr>\n",
       "      <th>880</th>\n",
       "      <td>1152143</td>\n",
       "      <td>1214874</td>\n",
       "    </tr>\n",
       "  </tbody>\n",
       "</table>\n",
       "</div>"
      ],
      "text/plain": [
       "       start      end\n",
       "871   323821   368220\n",
       "872  1306399  1367064\n",
       "873   620091   628378\n",
       "874   653240   702447\n",
       "875   762769   774459\n",
       "876   804368   826283\n",
       "877   914516   973394\n",
       "878   979511   984734\n",
       "879  1060080  1087933\n",
       "880  1152143  1214874"
      ]
     },
     "metadata": {},
     "output_type": "display_data"
    },
    {
     "data": {
      "text/html": [
       "<div>\n",
       "<style scoped>\n",
       "    .dataframe tbody tr th:only-of-type {\n",
       "        vertical-align: middle;\n",
       "    }\n",
       "\n",
       "    .dataframe tbody tr th {\n",
       "        vertical-align: top;\n",
       "    }\n",
       "\n",
       "    .dataframe thead th {\n",
       "        text-align: right;\n",
       "    }\n",
       "</style>\n",
       "<table border=\"1\" class=\"dataframe\">\n",
       "  <thead>\n",
       "    <tr style=\"text-align: right;\">\n",
       "      <th></th>\n",
       "      <th>start</th>\n",
       "      <th>end</th>\n",
       "    </tr>\n",
       "  </thead>\n",
       "  <tbody>\n",
       "    <tr>\n",
       "      <th>871</th>\n",
       "      <td>323821</td>\n",
       "      <td>368220</td>\n",
       "    </tr>\n",
       "  </tbody>\n",
       "</table>\n",
       "</div>"
      ],
      "text/plain": [
       "      start     end\n",
       "871  323821  368220"
      ]
     },
     "metadata": {},
     "output_type": "display_data"
    }
   ],
   "source": [
    "filtered_df = data[data['genome_id'] == 'MED4']\n",
    "\n",
    "# Print the filtered rows\n",
    "display(filtered_df)\n",
    "filt = filtered_df[['start','end']]\n",
    "display (filt)\n",
    "display (filt.loc[[871]])\n",
    "indices = filt.index"
   ]
  },
  {
   "cell_type": "code",
   "execution_count": 39,
   "id": "5160a67c-8038-496f-b72e-614895d11f97",
   "metadata": {},
   "outputs": [
    {
     "name": "stdout",
     "output_type": "stream",
     "text": [
      "Index(['##gff-version 3'], dtype='object')\n"
     ]
    }
   ],
   "source": [
    "datapath2 = ('data/0/2606217259.gff')\n",
    "data2 = pd.read_csv(datapath2, sep='\\t')\n",
    "print (data2.columns)"
   ]
  },
  {
   "cell_type": "code",
   "execution_count": 110,
   "id": "6361e692-dc0e-4f0e-8af5-616af7b14ab8",
   "metadata": {},
   "outputs": [
    {
     "name": "stdout",
     "output_type": "stream",
     "text": [
      "Geeks for Geeks\n"
     ]
    }
   ],
   "source": [
    "def listToString(s):\n",
    " \n",
    "    # initialize an empty string\n",
    "    str1 = \" \"\n",
    " \n",
    "    # return string\n",
    "    return (str1.join(s))\n",
    "     \n",
    "     \n",
    "# Driver code\n",
    "s = ['Geeks', 'for', 'Geeks']\n",
    "print(listToString(s))"
   ]
  },
  {
   "cell_type": "code",
   "execution_count": 69,
   "id": "7a11226b-df19-4ca3-9b4c-bbbf2a5db16e",
   "metadata": {},
   "outputs": [
    {
     "name": "stdout",
     "output_type": "stream",
     "text": [
      "['2606840304', '2606840305', '2606840306', '2606840307', '2606840308', '2606840309', '2606840310', '2606840311', '2606840312', '2606840313', '2606840314', '2606840315', '2606840316', '2606840317', '2606840318', '2606840319', '2606840320', '2606840321', '2606840322', '2606840323', '2606840324', '2606840325', '2606840326', '2606840327', '2606840328', '2606840329', '2606840330', '2606840331', '2606840332', '2606840333', '2606840334', '2606840335', '2606840336', '2606840337', '2606840338', '2606840339', '2606840340', '2606840341', '2606840342', '2606840343', '2606840344', '2606840345', '2606840346', '2606840347', '2606840348', '2606840349', '2606840350', '2606840351', '2606840352', '2606840353']\n"
     ]
    }
   ],
   "source": [
    "start_point = 323821\n",
    "end_point = 368220\n",
    "island_ids = []\n",
    "with open(datapath2, 'r') as file:\n",
    "    for line in file:\n",
    "        # print (line)\n",
    "        parts = line.strip().split()\n",
    "        if len(parts) > 3:\n",
    "            # print(parts[4])\n",
    "            if int(parts[3]) >= start_point:\n",
    "                if int(parts[3]) <= end_point:\n",
    "                    island_ids.append(parts[8].split('=')[1].split(';')[0])\n",
    "print (island_ids)"
   ]
  },
  {
   "cell_type": "code",
   "execution_count": null,
   "id": "51a10a54-1fda-45a2-8016-79d7aac12cef",
   "metadata": {},
   "outputs": [],
   "source": [
    "start_points = filtered_df[['start']]  # Example series of start points\n",
    "end_points = filtered_df[['end']] # Example series of end points\n",
    "start_points = start_points.values.tolist()\n",
    "end_points = end_points.values.tolist()\n",
    "\n",
    "island_ids = []\n",
    "\n",
    "# Open and read the file line by line\n",
    "with open(datapath2, 'r') as file:\n",
    "    for line in file:\n",
    "        parts = line.strip().split()\n",
    "        if len(parts) > 3:\n",
    "            start = int(parts[3])\n",
    "            end = int(parts[4])\n",
    "            \n",
    "            # Check if the start and end fall within any of the specified ranges\n",
    "            for start_point, end_point in zip(start_points, end_points):\n",
    "                print ((start_point))\n",
    "                # if start >= int(start_point):\n",
    "                #     print (start)\n",
    "# and end <= end_point:\n",
    "                #     island_ids.append(parts[8].split('=')[1].split(';')[0])\n",
    "                #     break  # Break the loop once a match is found\n",
    "\n",
    "print(island_ids)"
   ]
  },
  {
   "cell_type": "code",
   "execution_count": null,
   "id": "c687d10c-e827-4ccb-a2d0-4a52515bef99",
   "metadata": {},
   "outputs": [],
   "source": []
  }
 ],
 "metadata": {
  "kernelspec": {
   "display_name": "Python 3 (ipykernel)",
   "language": "python",
   "name": "python3"
  },
  "language_info": {
   "codemirror_mode": {
    "name": "ipython",
    "version": 3
   },
   "file_extension": ".py",
   "mimetype": "text/x-python",
   "name": "python",
   "nbconvert_exporter": "python",
   "pygments_lexer": "ipython3",
   "version": "3.9.13"
  }
 },
 "nbformat": 4,
 "nbformat_minor": 5
}
