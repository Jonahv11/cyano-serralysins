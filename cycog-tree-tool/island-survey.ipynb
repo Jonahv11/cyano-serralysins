{
 "cells": [
  {
   "cell_type": "code",
   "execution_count": 2,
   "id": "00a19b0e-3796-41d3-89aa-891809777b4a",
   "metadata": {},
   "outputs": [],
   "source": [
    "import os\n",
    "import numpy as np\n",
    "import pandas as pd\n",
    "import csv"
   ]
  },
  {
   "cell_type": "code",
   "execution_count": 46,
   "id": "103127be-9821-4a13-b0ed-cbe54d256c6f",
   "metadata": {},
   "outputs": [
    {
     "data": {
      "text/html": [
       "<div>\n",
       "<style scoped>\n",
       "    .dataframe tbody tr th:only-of-type {\n",
       "        vertical-align: middle;\n",
       "    }\n",
       "\n",
       "    .dataframe tbody tr th {\n",
       "        vertical-align: top;\n",
       "    }\n",
       "\n",
       "    .dataframe thead th {\n",
       "        text-align: right;\n",
       "    }\n",
       "</style>\n",
       "<table border=\"1\" class=\"dataframe\">\n",
       "  <thead>\n",
       "    <tr style=\"text-align: right;\">\n",
       "      <th></th>\n",
       "      <th>genome_id</th>\n",
       "      <th>contig_id</th>\n",
       "      <th>start</th>\n",
       "      <th>end</th>\n",
       "    </tr>\n",
       "  </thead>\n",
       "  <tbody>\n",
       "    <tr>\n",
       "      <th>871</th>\n",
       "      <td>MED4</td>\n",
       "      <td>MED4_1</td>\n",
       "      <td>323821</td>\n",
       "      <td>368220</td>\n",
       "    </tr>\n",
       "    <tr>\n",
       "      <th>872</th>\n",
       "      <td>MED4</td>\n",
       "      <td>MED4_1</td>\n",
       "      <td>1306399</td>\n",
       "      <td>1367064</td>\n",
       "    </tr>\n",
       "    <tr>\n",
       "      <th>873</th>\n",
       "      <td>MED4</td>\n",
       "      <td>MED4_1</td>\n",
       "      <td>620091</td>\n",
       "      <td>628378</td>\n",
       "    </tr>\n",
       "    <tr>\n",
       "      <th>874</th>\n",
       "      <td>MED4</td>\n",
       "      <td>MED4_1</td>\n",
       "      <td>653240</td>\n",
       "      <td>702447</td>\n",
       "    </tr>\n",
       "    <tr>\n",
       "      <th>875</th>\n",
       "      <td>MED4</td>\n",
       "      <td>MED4_1</td>\n",
       "      <td>762769</td>\n",
       "      <td>774459</td>\n",
       "    </tr>\n",
       "    <tr>\n",
       "      <th>876</th>\n",
       "      <td>MED4</td>\n",
       "      <td>MED4_1</td>\n",
       "      <td>804368</td>\n",
       "      <td>826283</td>\n",
       "    </tr>\n",
       "    <tr>\n",
       "      <th>877</th>\n",
       "      <td>MED4</td>\n",
       "      <td>MED4_1</td>\n",
       "      <td>914516</td>\n",
       "      <td>973394</td>\n",
       "    </tr>\n",
       "    <tr>\n",
       "      <th>878</th>\n",
       "      <td>MED4</td>\n",
       "      <td>MED4_1</td>\n",
       "      <td>979511</td>\n",
       "      <td>984734</td>\n",
       "    </tr>\n",
       "    <tr>\n",
       "      <th>879</th>\n",
       "      <td>MED4</td>\n",
       "      <td>MED4_1</td>\n",
       "      <td>1060080</td>\n",
       "      <td>1087933</td>\n",
       "    </tr>\n",
       "    <tr>\n",
       "      <th>880</th>\n",
       "      <td>MED4</td>\n",
       "      <td>MED4_1</td>\n",
       "      <td>1152143</td>\n",
       "      <td>1214874</td>\n",
       "    </tr>\n",
       "  </tbody>\n",
       "</table>\n",
       "</div>"
      ],
      "text/plain": [
       "    genome_id contig_id    start      end\n",
       "871      MED4    MED4_1   323821   368220\n",
       "872      MED4    MED4_1  1306399  1367064\n",
       "873      MED4    MED4_1   620091   628378\n",
       "874      MED4    MED4_1   653240   702447\n",
       "875      MED4    MED4_1   762769   774459\n",
       "876      MED4    MED4_1   804368   826283\n",
       "877      MED4    MED4_1   914516   973394\n",
       "878      MED4    MED4_1   979511   984734\n",
       "879      MED4    MED4_1  1060080  1087933\n",
       "880      MED4    MED4_1  1152143  1214874"
      ]
     },
     "metadata": {},
     "output_type": "display_data"
    }
   ],
   "source": [
    "genome = 'MED4' # select genome / strain of cyanobacteria to check GIs of\n",
    "\n",
    "# establish datapaths\n",
    "datapath99 = '../data/cycogs/cycogsgenomes.tsv'\n",
    "genomes_df = pd.read_csv(datapath99, sep='\\t')\n",
    "for index, row in genomes_df.iterrows():\n",
    "    if row['IID'] == genome:\n",
    "        filetarget = row['IMG_ID']\n",
    "\n",
    "datapath = ('data/0/1-s2.0-S0092867422015197-mmc2.csv') # genome island coordinates\n",
    "datapath2 = (f'../data/tool_test_data/genome-data-for-jonah/{filetarget}/{filetarget}.gff') # dependent on genome being searched, location subject to change\n",
    "datapath3 = ('../data/cycogs/ortholog-metadata.csv') # matches geneID to cycog number\n",
    "datapath4 = ('data/0/pro2_genes.csv') # alternative dataset for putative island genes\n",
    "\n",
    "# create dataframes from datapaths\n",
    "cycogs_df = pd.read_csv(datapath3)\n",
    "pro2_genes_df = pd.read_csv(datapath4)\n",
    "# datapath 2 has a file that can't be cleanly converted into a dataframe, so it is read in manually later in the notebook\n",
    "gi_locations_df = pd.read_csv(datapath)\n",
    "genome_islands_df = gi_locations_df[gi_locations_df['genome_id'] == f'{genome}']\n",
    "display(genome_islands_df)"
   ]
  },
  {
   "cell_type": "markdown",
   "id": "b6640699-94a5-41e9-b9db-1fa49581854c",
   "metadata": {},
   "source": [
    "This notebook is derived from methods used in [Hackl et al., 2023](https://www.cell.com/cell/pdf/S0092-8674(22)01519-7.pdf). \n",
    "\n",
    "Predicted genomic island coordinates in cyanobacterial genomes: [File 2 of supplemental materials](https://ars.els-cdn.com/content/image/1-s2.0-S0092867422015197-mmc2.xlsx)\n",
    "\n",
    "Using these hypothetical genomic island coordinates, we aim to cross-reference genes that fall within these coordinates with another dataset categorizing genes overexpressed in high exposure to cyanophages. If the genes are in both datasets, it provides additional evidence that these are 'defense island' genes."
   ]
  },
  {
   "cell_type": "code",
   "execution_count": 47,
   "id": "51a10a54-1fda-45a2-8016-79d7aac12cef",
   "metadata": {},
   "outputs": [
    {
     "name": "stdout",
     "output_type": "stream",
     "text": [
      "Done :)\n"
     ]
    }
   ],
   "source": [
    "start_points = genome_islands_df[['start']]  # series of start points\n",
    "end_points = genome_islands_df[['end']] # series of end points\n",
    "start_points = start_points.values.tolist()\n",
    "end_points = end_points.values.tolist()\n",
    "\n",
    "island_ids = []\n",
    "\n",
    "# Open and read the file line by line\n",
    "with open(datapath2, 'r') as file:\n",
    "    for line in file:\n",
    "        parts = line.strip().split()\n",
    "        if len(parts) > 3:\n",
    "            start = int(parts[3])\n",
    "            end = int(parts[4])\n",
    "            \n",
    "            # Check if the start and end fall within any of the specified ranges\n",
    "            for start_point, end_point in zip(start_points, end_points):\n",
    "                # print ((start, type(start), end_point, type(end_point)))\n",
    "                if start >= int(start_point[0]) and end <= int(end_point[0]):\n",
    "                    island_ids.append(parts[8].split('=')[1].split(';')[0])\n",
    "                    break  # Break the loop once a match is found\n",
    "\n",
    "island_ids = [eval(i) for i in island_ids]\n",
    "print (\"Done :)\")"
   ]
  },
  {
   "cell_type": "code",
   "execution_count": 48,
   "id": "cb8e0f4b-754c-4cf2-b09b-f52fc112d450",
   "metadata": {},
   "outputs": [
    {
     "name": "stdout",
     "output_type": "stream",
     "text": [
      "[60000001, 60000002, 60000009, 60000011, 60000015, 60000015, 60000015, 60000016, 60000016, 60000018, 60000024, 60000027, 60000028, 60000030, 60000030, 60000032, 60000034, 60000039, 60000040, 60000042, 60000045, 60000045, 60000046, 60000049, 60000050, 60000053, 60000057, 60000059, 60000059, 60000068, 60000075, 60000080, 60000081, 60000084, 60000085, 60000087, 60000088, 60000095, 60000100, 60000103, 60000104, 60000107, 60000110, 60000111, 60000112, 60000115, 60000119, 60000124, 60000125, 60000126, 60000127, 60000135, 60000136, 60000137, 60000144, 60000149, 60000150, 60000155, 60000159, 60000160, 60000161, 60000163, 60000166, 60000167, 60000180, 60000181, 60000184, 60000186, 60000187, 60000196, 60000203, 60000210, 60000216, 60000218, 60000221, 60000226, 60000231, 60000240, 60000241, 60000245, 60000248, 60000251, 60000254, 60000269, 60000273, 60000275, 60000279, 60000284, 60000285, 60000290, 60000301, 60000305, 60000313, 60000314, 60000315, 60000319, 60000320, 60000326, 60000329, 60000330, 60000332, 60000333, 60000334, 60000338, 60000345, 60000347, 60000350, 60000351, 60000353, 60000354, 60000359, 60000361, 60000369, 60000371, 60000372, 60000373, 60000375, 60000386, 60000388, 60000390, 60000394, 60000397, 60000410, 60000411, 60000416, 60000417, 60000421, 60000427, 60000428, 60000433, 60000437, 60000442, 60000443, 60000445, 60000446, 60000452, 60000455, 60000457, 60000458, 60000459, 60000464, 60000465, 60000467, 60000468, 60000470, 60000474, 60000480, 60000493, 60000497, 60000498, 60000503, 60000508, 60000514, 60000515, 60000517, 60000519, 60000521, 60000527, 60000528, 60000533, 60000536, 60000538, 60000545, 60000547, 60000548, 60000554, 60000559, 60000561, 60000563, 60000564, 60000565, 60000567, 60000568, 60000569, 60000575, 60000583, 60000584, 60000585, 60000586, 60000587, 60000588, 60000592, 60000602, 60000606, 60000618, 60000629, 60000631, 60000635, 60000636, 60000637, 60000638, 60000639, 60000642, 60000643, 60000644, 60000646, 60000653, 60000654, 60000657, 60000665, 60000666, 60000670, 60000677, 60000686, 60000689, 60000711, 60000716, 60000721, 60000723, 60000724, 60000728, 60000736, 60000737, 60000743, 60000755, 60000766, 60000774, 60000785, 60000788, 60000799, 60000803, 60000804, 60000808, 60000832, 60000843, 60000845, 60000847, 60000866, 60000869, 60000872, 60000878, 60000880, 60000882, 60000890, 60000892, 60000893, 60000898, 60000901, 60000902, 60000911, 60000914, 60000923, 60000925, 60000934, 60000944, 60000951, 60000958, 60000960, 60000972, 60000973, 60000977, 60000990, 60000992, 60001006, 60001014, 60001016, 60001020, 60001024, 60001028, 60001032, 60001033, 60001046, 60001048, 60001050, 60001062, 60001067, 60001096, 60001097, 60001101, 60001107, 60001113, 60001117, 60001131, 60001135, 60001137, 60001138, 60001144, 60001145, 60001150, 60001153, 60001155, 60001156, 60001166, 60001167, 60001169, 60001171, 60001181, 60001188, 60001196, 60001211, 60001223, 60001224, 60001228, 60001246, 60001250, 60001269, 60001283, 60001302, 60001309, 60001316, 60001332, 60001342, 60001343, 60001354, 60001357, 60001358, 60001379, 60001407, 60001408, 60001409, 60001424, 60001425, 60001426, 60001452, 60001488, 60001491, 60001500, 60001505, 60001506, 60001509, 60001517, 60001544, 60001554, 60001593, 60001593, 60001629, 60001632, 60001636, 60001643, 60001647, 60001706, 60001717, 60001727, 60001745, 60001748, 60001754, 60001784, 60001793, 60001806, 60001923, 60001942, 60001948, 60001948, 60002049, 60002100, 60002105, 60002143, 60002454, 60002585, 60002677, 60002701, 60002804, 60002862, 60002891, 60002986, 60003010, 60003087, 60003096, 60003228, 60003347, 60003359, 60003647, 60003671, 60003873, 60004011, 60004011, 60004245, 60004279, 60004374, 60004587, 60005281, 60005839, 60006026, 60006285, 60007685, 60011562, 60013619, 60014558]\n"
     ]
    }
   ],
   "source": [
    "island_cycogs = []\n",
    "for index, row in cycogs_df.iterrows():\n",
    "    if row['GenomeName'] == f'{genome}':\n",
    "        if row['GeneID'] in island_ids:\n",
    "            island_cycogs.append(row['OrthologID'])\n",
    "print (island_cycogs)"
   ]
  },
  {
   "cell_type": "code",
   "execution_count": 49,
   "id": "db5d5073-f407-4085-96ef-130a5d3b2d88",
   "metadata": {},
   "outputs": [
    {
     "name": "stdout",
     "output_type": "stream",
     "text": [
      "[60000015, 60000028, 60000030, 60000034, 60000046, 60000053, 60000112, 60000126, 60000218, 60000279, 60000459, 60000467, 60000653, 60000689, 60000845, 60000878, 60001113, 60001223, 60001269, 60001332, 60001342, 60001425, 60001593, 60001636, 60001942]\n"
     ]
    }
   ],
   "source": [
    "semi_confirmed = []\n",
    "pro2_genes_df = pro2_genes_df.sort_values(by=['Ortholog'])\n",
    "pro2_orthologs = pro2_genes_df['Ortholog']\n",
    "for ortholog in pro2_orthologs:\n",
    "    if ortholog in island_cycogs:\n",
    "        semi_confirmed.append(ortholog)\n",
    "print (semi_confirmed)"
   ]
  },
  {
   "cell_type": "code",
   "execution_count": null,
   "id": "4c6638fb-72a5-4ba7-bc6a-dd8423a6ab2b",
   "metadata": {},
   "outputs": [],
   "source": []
  }
 ],
 "metadata": {
  "kernelspec": {
   "display_name": "Python 3 (ipykernel)",
   "language": "python",
   "name": "python3"
  },
  "language_info": {
   "codemirror_mode": {
    "name": "ipython",
    "version": 3
   },
   "file_extension": ".py",
   "mimetype": "text/x-python",
   "name": "python",
   "nbconvert_exporter": "python",
   "pygments_lexer": "ipython3",
   "version": "3.9.13"
  }
 },
 "nbformat": 4,
 "nbformat_minor": 5
}
